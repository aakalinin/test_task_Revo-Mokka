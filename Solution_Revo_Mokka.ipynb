{
  "cells": [
    {
      "cell_type": "markdown",
      "metadata": {
        "id": "GfAMTG1vn_a_"
      },
      "source": [
        "# Тестовое задание Revo:Mokka"
      ]
    },
    {
      "cell_type": "markdown",
      "metadata": {
        "id": "mMjfM5ipn2lx"
      },
      "source": [
        "В файле revo_ds_test_task.csv собраны данные по повторным займам текущих клиентов компании.\n",
        "\n",
        "По имеющемуся набору данных, необходимо построить модель, которая будет прогнозировать значение целевой переменной 'bad_flag'."
      ]
    },
    {
      "cell_type": "code",
      "execution_count": 1,
      "metadata": {
        "id": "v5k4weesnzJc"
      },
      "outputs": [],
      "source": [
        "import pandas as pd\n",
        "import numpy as np\n",
        "\n",
        "from datetime import datetime\n",
        "\n",
        "import matplotlib.pyplot as plt\n",
        "%matplotlib inline\n",
        "import seaborn as sns\n",
        "\n",
        "import warnings\n",
        "warnings.filterwarnings('ignore')\n",
        "\n",
        "from sklearn.preprocessing import MinMaxScaler\n",
        "from sklearn.preprocessing import LabelEncoder\n",
        "\n",
        "from sklearn.utils import resample\n",
        "from sklearn.utils import shuffle\n",
        "\n",
        "from sklearn.linear_model import LogisticRegression\n",
        "from sklearn.svm import SVC\n",
        "from sklearn.neighbors import KNeighborsClassifier\n",
        "from sklearn.tree import DecisionTreeClassifier\n",
        "from sklearn.ensemble import RandomForestClassifier\n",
        "from sklearn.ensemble import BaggingClassifier\n",
        "from sklearn.ensemble import StackingClassifier\n",
        "\n",
        "import xgboost as Xgb\n",
        "\n",
        "from sklearn import model_selection\n",
        "from sklearn.model_selection import train_test_split\n",
        "from sklearn.model_selection import cross_val_score\n",
        "from sklearn.model_selection import RandomizedSearchCV\n",
        "\n",
        "from sklearn.metrics import accuracy_score\n",
        "from sklearn.metrics import f1_score\n",
        "from sklearn.metrics import fbeta_score\n",
        "from sklearn.metrics import classification_report\n",
        "from sklearn.metrics import roc_curve\n",
        "from sklearn.metrics import roc_auc_score\n",
        "from sklearn.metrics import auc\n",
        "from sklearn.metrics import confusion_matrix\n",
        "\n",
        "import torch\n",
        "from torch import nn\n",
        "from torch.nn import functional as F"
      ]
    },
    {
      "cell_type": "markdown",
      "metadata": {
        "id": "puZjkNG_uaU2"
      },
      "source": [
        "### EDA и первичная обработка данных"
      ]
    },
    {
      "cell_type": "code",
      "execution_count": 2,
      "metadata": {
        "colab": {
          "base_uri": "https://localhost:8080/",
          "height": 299
        },
        "id": "tXRviEqRoKhY",
        "outputId": "37d95c37-a868-4250-8363-3a569e90bf9c"
      },
      "outputs": [
        {
          "output_type": "execute_result",
          "data": {
            "text/plain": [
              "   loanKey rep_loan_date  first_loan  dpd_5_cnt  dpd_15_cnt  dpd_30_cnt  \\\n",
              "0   708382    2016-10-06  2015-11-13        NaN         NaN         NaN   \n",
              "1   406305    2016-03-26  2015-09-28        1.0         0.0         0.0   \n",
              "2   779736    2016-10-30  2015-12-21        NaN         NaN         NaN   \n",
              "3   556376    2016-06-29  2015-06-30        NaN         NaN         NaN   \n",
              "4   266968    2015-12-01  2015-08-03        NaN         NaN         NaN   \n",
              "\n",
              "  first_overdue_date  close_loans_cnt federal_district_nm  TraderKey  ...  \\\n",
              "0                NaN              3.0            region_6          6  ...   \n",
              "1         2016-01-30              0.0            region_6          6  ...   \n",
              "2                NaN              2.0            region_1          6  ...   \n",
              "3                NaN              1.0            region_6         14  ...   \n",
              "4                NaN              0.0            region_5         22  ...   \n",
              "\n",
              "   payment_type_2  payment_type_3  payment_type_4  payment_type_5  \\\n",
              "0              10               0               0               0   \n",
              "1               6               0               0               0   \n",
              "2               0               5               0               0   \n",
              "3               4               0               0               0   \n",
              "4               0               0               0               0   \n",
              "\n",
              "   past_billings_cnt  score_1  score_2   age  gender  bad_flag  \n",
              "0               10.0      NaN      NaN  21.0   False         0  \n",
              "1                5.0      NaN      NaN  20.0   False         0  \n",
              "2                5.0      NaN      NaN  19.0   False         0  \n",
              "3                6.0      NaN      NaN  21.0   False         0  \n",
              "4                3.0      NaN      NaN  33.0   False         0  \n",
              "\n",
              "[5 rows x 22 columns]"
            ],
            "text/html": [
              "\n",
              "  <div id=\"df-d2dffdb2-f89b-48cc-b682-86fbe359eef1\">\n",
              "    <div class=\"colab-df-container\">\n",
              "      <div>\n",
              "<style scoped>\n",
              "    .dataframe tbody tr th:only-of-type {\n",
              "        vertical-align: middle;\n",
              "    }\n",
              "\n",
              "    .dataframe tbody tr th {\n",
              "        vertical-align: top;\n",
              "    }\n",
              "\n",
              "    .dataframe thead th {\n",
              "        text-align: right;\n",
              "    }\n",
              "</style>\n",
              "<table border=\"1\" class=\"dataframe\">\n",
              "  <thead>\n",
              "    <tr style=\"text-align: right;\">\n",
              "      <th></th>\n",
              "      <th>loanKey</th>\n",
              "      <th>rep_loan_date</th>\n",
              "      <th>first_loan</th>\n",
              "      <th>dpd_5_cnt</th>\n",
              "      <th>dpd_15_cnt</th>\n",
              "      <th>dpd_30_cnt</th>\n",
              "      <th>first_overdue_date</th>\n",
              "      <th>close_loans_cnt</th>\n",
              "      <th>federal_district_nm</th>\n",
              "      <th>TraderKey</th>\n",
              "      <th>...</th>\n",
              "      <th>payment_type_2</th>\n",
              "      <th>payment_type_3</th>\n",
              "      <th>payment_type_4</th>\n",
              "      <th>payment_type_5</th>\n",
              "      <th>past_billings_cnt</th>\n",
              "      <th>score_1</th>\n",
              "      <th>score_2</th>\n",
              "      <th>age</th>\n",
              "      <th>gender</th>\n",
              "      <th>bad_flag</th>\n",
              "    </tr>\n",
              "  </thead>\n",
              "  <tbody>\n",
              "    <tr>\n",
              "      <th>0</th>\n",
              "      <td>708382</td>\n",
              "      <td>2016-10-06</td>\n",
              "      <td>2015-11-13</td>\n",
              "      <td>NaN</td>\n",
              "      <td>NaN</td>\n",
              "      <td>NaN</td>\n",
              "      <td>NaN</td>\n",
              "      <td>3.0</td>\n",
              "      <td>region_6</td>\n",
              "      <td>6</td>\n",
              "      <td>...</td>\n",
              "      <td>10</td>\n",
              "      <td>0</td>\n",
              "      <td>0</td>\n",
              "      <td>0</td>\n",
              "      <td>10.0</td>\n",
              "      <td>NaN</td>\n",
              "      <td>NaN</td>\n",
              "      <td>21.0</td>\n",
              "      <td>False</td>\n",
              "      <td>0</td>\n",
              "    </tr>\n",
              "    <tr>\n",
              "      <th>1</th>\n",
              "      <td>406305</td>\n",
              "      <td>2016-03-26</td>\n",
              "      <td>2015-09-28</td>\n",
              "      <td>1.0</td>\n",
              "      <td>0.0</td>\n",
              "      <td>0.0</td>\n",
              "      <td>2016-01-30</td>\n",
              "      <td>0.0</td>\n",
              "      <td>region_6</td>\n",
              "      <td>6</td>\n",
              "      <td>...</td>\n",
              "      <td>6</td>\n",
              "      <td>0</td>\n",
              "      <td>0</td>\n",
              "      <td>0</td>\n",
              "      <td>5.0</td>\n",
              "      <td>NaN</td>\n",
              "      <td>NaN</td>\n",
              "      <td>20.0</td>\n",
              "      <td>False</td>\n",
              "      <td>0</td>\n",
              "    </tr>\n",
              "    <tr>\n",
              "      <th>2</th>\n",
              "      <td>779736</td>\n",
              "      <td>2016-10-30</td>\n",
              "      <td>2015-12-21</td>\n",
              "      <td>NaN</td>\n",
              "      <td>NaN</td>\n",
              "      <td>NaN</td>\n",
              "      <td>NaN</td>\n",
              "      <td>2.0</td>\n",
              "      <td>region_1</td>\n",
              "      <td>6</td>\n",
              "      <td>...</td>\n",
              "      <td>0</td>\n",
              "      <td>5</td>\n",
              "      <td>0</td>\n",
              "      <td>0</td>\n",
              "      <td>5.0</td>\n",
              "      <td>NaN</td>\n",
              "      <td>NaN</td>\n",
              "      <td>19.0</td>\n",
              "      <td>False</td>\n",
              "      <td>0</td>\n",
              "    </tr>\n",
              "    <tr>\n",
              "      <th>3</th>\n",
              "      <td>556376</td>\n",
              "      <td>2016-06-29</td>\n",
              "      <td>2015-06-30</td>\n",
              "      <td>NaN</td>\n",
              "      <td>NaN</td>\n",
              "      <td>NaN</td>\n",
              "      <td>NaN</td>\n",
              "      <td>1.0</td>\n",
              "      <td>region_6</td>\n",
              "      <td>14</td>\n",
              "      <td>...</td>\n",
              "      <td>4</td>\n",
              "      <td>0</td>\n",
              "      <td>0</td>\n",
              "      <td>0</td>\n",
              "      <td>6.0</td>\n",
              "      <td>NaN</td>\n",
              "      <td>NaN</td>\n",
              "      <td>21.0</td>\n",
              "      <td>False</td>\n",
              "      <td>0</td>\n",
              "    </tr>\n",
              "    <tr>\n",
              "      <th>4</th>\n",
              "      <td>266968</td>\n",
              "      <td>2015-12-01</td>\n",
              "      <td>2015-08-03</td>\n",
              "      <td>NaN</td>\n",
              "      <td>NaN</td>\n",
              "      <td>NaN</td>\n",
              "      <td>NaN</td>\n",
              "      <td>0.0</td>\n",
              "      <td>region_5</td>\n",
              "      <td>22</td>\n",
              "      <td>...</td>\n",
              "      <td>0</td>\n",
              "      <td>0</td>\n",
              "      <td>0</td>\n",
              "      <td>0</td>\n",
              "      <td>3.0</td>\n",
              "      <td>NaN</td>\n",
              "      <td>NaN</td>\n",
              "      <td>33.0</td>\n",
              "      <td>False</td>\n",
              "      <td>0</td>\n",
              "    </tr>\n",
              "  </tbody>\n",
              "</table>\n",
              "<p>5 rows × 22 columns</p>\n",
              "</div>\n",
              "      <button class=\"colab-df-convert\" onclick=\"convertToInteractive('df-d2dffdb2-f89b-48cc-b682-86fbe359eef1')\"\n",
              "              title=\"Convert this dataframe to an interactive table.\"\n",
              "              style=\"display:none;\">\n",
              "        \n",
              "  <svg xmlns=\"http://www.w3.org/2000/svg\" height=\"24px\"viewBox=\"0 0 24 24\"\n",
              "       width=\"24px\">\n",
              "    <path d=\"M0 0h24v24H0V0z\" fill=\"none\"/>\n",
              "    <path d=\"M18.56 5.44l.94 2.06.94-2.06 2.06-.94-2.06-.94-.94-2.06-.94 2.06-2.06.94zm-11 1L8.5 8.5l.94-2.06 2.06-.94-2.06-.94L8.5 2.5l-.94 2.06-2.06.94zm10 10l.94 2.06.94-2.06 2.06-.94-2.06-.94-.94-2.06-.94 2.06-2.06.94z\"/><path d=\"M17.41 7.96l-1.37-1.37c-.4-.4-.92-.59-1.43-.59-.52 0-1.04.2-1.43.59L10.3 9.45l-7.72 7.72c-.78.78-.78 2.05 0 2.83L4 21.41c.39.39.9.59 1.41.59.51 0 1.02-.2 1.41-.59l7.78-7.78 2.81-2.81c.8-.78.8-2.07 0-2.86zM5.41 20L4 18.59l7.72-7.72 1.47 1.35L5.41 20z\"/>\n",
              "  </svg>\n",
              "      </button>\n",
              "      \n",
              "  <style>\n",
              "    .colab-df-container {\n",
              "      display:flex;\n",
              "      flex-wrap:wrap;\n",
              "      gap: 12px;\n",
              "    }\n",
              "\n",
              "    .colab-df-convert {\n",
              "      background-color: #E8F0FE;\n",
              "      border: none;\n",
              "      border-radius: 50%;\n",
              "      cursor: pointer;\n",
              "      display: none;\n",
              "      fill: #1967D2;\n",
              "      height: 32px;\n",
              "      padding: 0 0 0 0;\n",
              "      width: 32px;\n",
              "    }\n",
              "\n",
              "    .colab-df-convert:hover {\n",
              "      background-color: #E2EBFA;\n",
              "      box-shadow: 0px 1px 2px rgba(60, 64, 67, 0.3), 0px 1px 3px 1px rgba(60, 64, 67, 0.15);\n",
              "      fill: #174EA6;\n",
              "    }\n",
              "\n",
              "    [theme=dark] .colab-df-convert {\n",
              "      background-color: #3B4455;\n",
              "      fill: #D2E3FC;\n",
              "    }\n",
              "\n",
              "    [theme=dark] .colab-df-convert:hover {\n",
              "      background-color: #434B5C;\n",
              "      box-shadow: 0px 1px 3px 1px rgba(0, 0, 0, 0.15);\n",
              "      filter: drop-shadow(0px 1px 2px rgba(0, 0, 0, 0.3));\n",
              "      fill: #FFFFFF;\n",
              "    }\n",
              "  </style>\n",
              "\n",
              "      <script>\n",
              "        const buttonEl =\n",
              "          document.querySelector('#df-d2dffdb2-f89b-48cc-b682-86fbe359eef1 button.colab-df-convert');\n",
              "        buttonEl.style.display =\n",
              "          google.colab.kernel.accessAllowed ? 'block' : 'none';\n",
              "\n",
              "        async function convertToInteractive(key) {\n",
              "          const element = document.querySelector('#df-d2dffdb2-f89b-48cc-b682-86fbe359eef1');\n",
              "          const dataTable =\n",
              "            await google.colab.kernel.invokeFunction('convertToInteractive',\n",
              "                                                     [key], {});\n",
              "          if (!dataTable) return;\n",
              "\n",
              "          const docLinkHtml = 'Like what you see? Visit the ' +\n",
              "            '<a target=\"_blank\" href=https://colab.research.google.com/notebooks/data_table.ipynb>data table notebook</a>'\n",
              "            + ' to learn more about interactive tables.';\n",
              "          element.innerHTML = '';\n",
              "          dataTable['output_type'] = 'display_data';\n",
              "          await google.colab.output.renderOutput(dataTable, element);\n",
              "          const docLink = document.createElement('div');\n",
              "          docLink.innerHTML = docLinkHtml;\n",
              "          element.appendChild(docLink);\n",
              "        }\n",
              "      </script>\n",
              "    </div>\n",
              "  </div>\n",
              "  "
            ]
          },
          "metadata": {},
          "execution_count": 2
        }
      ],
      "source": [
        "df = pd.read_csv('revo_ds_test_task.csv')\n",
        "df.head()"
      ]
    },
    {
      "cell_type": "code",
      "execution_count": 3,
      "metadata": {
        "colab": {
          "base_uri": "https://localhost:8080/"
        },
        "id": "PF9bMm6FoKkQ",
        "outputId": "1a50f5bc-607c-4d5e-f4f6-b75d1d5589ab"
      },
      "outputs": [
        {
          "output_type": "stream",
          "name": "stdout",
          "text": [
            "<class 'pandas.core.frame.DataFrame'>\n",
            "RangeIndex: 4157 entries, 0 to 4156\n",
            "Data columns (total 22 columns):\n",
            " #   Column               Non-Null Count  Dtype  \n",
            "---  ------               --------------  -----  \n",
            " 0   loanKey              4157 non-null   int64  \n",
            " 1   rep_loan_date        4157 non-null   object \n",
            " 2   first_loan           4157 non-null   object \n",
            " 3   dpd_5_cnt            675 non-null    float64\n",
            " 4   dpd_15_cnt           675 non-null    float64\n",
            " 5   dpd_30_cnt           675 non-null    float64\n",
            " 6   first_overdue_date   675 non-null    object \n",
            " 7   close_loans_cnt      4142 non-null   float64\n",
            " 8   federal_district_nm  4146 non-null   object \n",
            " 9   TraderKey            4157 non-null   int64  \n",
            " 10  payment_type_0       4157 non-null   int64  \n",
            " 11  payment_type_1       4157 non-null   int64  \n",
            " 12  payment_type_2       4157 non-null   int64  \n",
            " 13  payment_type_3       4157 non-null   int64  \n",
            " 14  payment_type_4       4157 non-null   int64  \n",
            " 15  payment_type_5       4157 non-null   int64  \n",
            " 16  past_billings_cnt    3909 non-null   float64\n",
            " 17  score_1              3507 non-null   float64\n",
            " 18  score_2              239 non-null    float64\n",
            " 19  age                  4157 non-null   float64\n",
            " 20  gender               4157 non-null   bool   \n",
            " 21  bad_flag             4157 non-null   int64  \n",
            "dtypes: bool(1), float64(8), int64(9), object(4)\n",
            "memory usage: 686.2+ KB\n"
          ]
        }
      ],
      "source": [
        "df.info()"
      ]
    },
    {
      "cell_type": "code",
      "source": [
        "df.describe()"
      ],
      "metadata": {
        "colab": {
          "base_uri": "https://localhost:8080/",
          "height": 364
        },
        "id": "AzIVYxDZOZvO",
        "outputId": "52b75e81-4d8f-4a64-a3ee-b47cc9a205bf"
      },
      "execution_count": 4,
      "outputs": [
        {
          "output_type": "execute_result",
          "data": {
            "text/plain": [
              "             loanKey   dpd_5_cnt  dpd_15_cnt  dpd_30_cnt  close_loans_cnt  \\\n",
              "count    4157.000000  675.000000  675.000000  675.000000      4142.000000   \n",
              "mean   525386.651431    1.444444    0.733333    0.280000         1.184693   \n",
              "std    202001.338206    0.900599    0.764572    0.502339         1.723715   \n",
              "min     58567.000000    0.000000    0.000000    0.000000         0.000000   \n",
              "25%    363964.000000    1.000000    0.000000    0.000000         0.000000   \n",
              "50%    543603.000000    1.000000    1.000000    0.000000         1.000000   \n",
              "75%    687271.000000    2.000000    1.000000    1.000000         2.000000   \n",
              "max    884377.000000    7.000000    5.000000    3.000000        31.000000   \n",
              "\n",
              "         TraderKey  payment_type_0  payment_type_1  payment_type_2  \\\n",
              "count  4157.000000     4157.000000     4157.000000     4157.000000   \n",
              "mean     12.338225        0.018523        0.596103        3.755834   \n",
              "std       9.902927        0.330359        2.564887        3.810703   \n",
              "min       1.000000        0.000000        0.000000        0.000000   \n",
              "25%       6.000000        0.000000        0.000000        1.000000   \n",
              "50%       6.000000        0.000000        0.000000        3.000000   \n",
              "75%      14.000000        0.000000        0.000000        6.000000   \n",
              "max      80.000000       15.000000       81.000000       33.000000   \n",
              "\n",
              "       payment_type_3  payment_type_4  payment_type_5  past_billings_cnt  \\\n",
              "count     4157.000000     4157.000000          4157.0        3909.000000   \n",
              "mean         0.758239        0.019485             0.0           4.979023   \n",
              "std          2.212487        0.245960             0.0           3.491556   \n",
              "min          0.000000        0.000000             0.0           1.000000   \n",
              "25%          0.000000        0.000000             0.0           2.000000   \n",
              "50%          0.000000        0.000000             0.0           4.000000   \n",
              "75%          0.000000        0.000000             0.0           6.000000   \n",
              "max         35.000000        7.000000             0.0          21.000000   \n",
              "\n",
              "           score_1     score_2          age     bad_flag  \n",
              "count  3507.000000  239.000000  4157.000000  4157.000000  \n",
              "mean    578.911345  552.546610    34.561222     0.100313  \n",
              "std      48.989869   21.492840    10.834143     0.300453  \n",
              "min     384.220628  485.874267    18.000000     0.000000  \n",
              "25%     547.429791  535.545724    26.000000     0.000000  \n",
              "50%     588.531315  556.757944    32.000000     0.000000  \n",
              "75%     612.323090  567.608057    41.000000     0.000000  \n",
              "max     691.528420  603.311653    74.000000     1.000000  "
            ],
            "text/html": [
              "\n",
              "  <div id=\"df-448c563f-3b06-4c0c-959a-e221562711d2\">\n",
              "    <div class=\"colab-df-container\">\n",
              "      <div>\n",
              "<style scoped>\n",
              "    .dataframe tbody tr th:only-of-type {\n",
              "        vertical-align: middle;\n",
              "    }\n",
              "\n",
              "    .dataframe tbody tr th {\n",
              "        vertical-align: top;\n",
              "    }\n",
              "\n",
              "    .dataframe thead th {\n",
              "        text-align: right;\n",
              "    }\n",
              "</style>\n",
              "<table border=\"1\" class=\"dataframe\">\n",
              "  <thead>\n",
              "    <tr style=\"text-align: right;\">\n",
              "      <th></th>\n",
              "      <th>loanKey</th>\n",
              "      <th>dpd_5_cnt</th>\n",
              "      <th>dpd_15_cnt</th>\n",
              "      <th>dpd_30_cnt</th>\n",
              "      <th>close_loans_cnt</th>\n",
              "      <th>TraderKey</th>\n",
              "      <th>payment_type_0</th>\n",
              "      <th>payment_type_1</th>\n",
              "      <th>payment_type_2</th>\n",
              "      <th>payment_type_3</th>\n",
              "      <th>payment_type_4</th>\n",
              "      <th>payment_type_5</th>\n",
              "      <th>past_billings_cnt</th>\n",
              "      <th>score_1</th>\n",
              "      <th>score_2</th>\n",
              "      <th>age</th>\n",
              "      <th>bad_flag</th>\n",
              "    </tr>\n",
              "  </thead>\n",
              "  <tbody>\n",
              "    <tr>\n",
              "      <th>count</th>\n",
              "      <td>4157.000000</td>\n",
              "      <td>675.000000</td>\n",
              "      <td>675.000000</td>\n",
              "      <td>675.000000</td>\n",
              "      <td>4142.000000</td>\n",
              "      <td>4157.000000</td>\n",
              "      <td>4157.000000</td>\n",
              "      <td>4157.000000</td>\n",
              "      <td>4157.000000</td>\n",
              "      <td>4157.000000</td>\n",
              "      <td>4157.000000</td>\n",
              "      <td>4157.0</td>\n",
              "      <td>3909.000000</td>\n",
              "      <td>3507.000000</td>\n",
              "      <td>239.000000</td>\n",
              "      <td>4157.000000</td>\n",
              "      <td>4157.000000</td>\n",
              "    </tr>\n",
              "    <tr>\n",
              "      <th>mean</th>\n",
              "      <td>525386.651431</td>\n",
              "      <td>1.444444</td>\n",
              "      <td>0.733333</td>\n",
              "      <td>0.280000</td>\n",
              "      <td>1.184693</td>\n",
              "      <td>12.338225</td>\n",
              "      <td>0.018523</td>\n",
              "      <td>0.596103</td>\n",
              "      <td>3.755834</td>\n",
              "      <td>0.758239</td>\n",
              "      <td>0.019485</td>\n",
              "      <td>0.0</td>\n",
              "      <td>4.979023</td>\n",
              "      <td>578.911345</td>\n",
              "      <td>552.546610</td>\n",
              "      <td>34.561222</td>\n",
              "      <td>0.100313</td>\n",
              "    </tr>\n",
              "    <tr>\n",
              "      <th>std</th>\n",
              "      <td>202001.338206</td>\n",
              "      <td>0.900599</td>\n",
              "      <td>0.764572</td>\n",
              "      <td>0.502339</td>\n",
              "      <td>1.723715</td>\n",
              "      <td>9.902927</td>\n",
              "      <td>0.330359</td>\n",
              "      <td>2.564887</td>\n",
              "      <td>3.810703</td>\n",
              "      <td>2.212487</td>\n",
              "      <td>0.245960</td>\n",
              "      <td>0.0</td>\n",
              "      <td>3.491556</td>\n",
              "      <td>48.989869</td>\n",
              "      <td>21.492840</td>\n",
              "      <td>10.834143</td>\n",
              "      <td>0.300453</td>\n",
              "    </tr>\n",
              "    <tr>\n",
              "      <th>min</th>\n",
              "      <td>58567.000000</td>\n",
              "      <td>0.000000</td>\n",
              "      <td>0.000000</td>\n",
              "      <td>0.000000</td>\n",
              "      <td>0.000000</td>\n",
              "      <td>1.000000</td>\n",
              "      <td>0.000000</td>\n",
              "      <td>0.000000</td>\n",
              "      <td>0.000000</td>\n",
              "      <td>0.000000</td>\n",
              "      <td>0.000000</td>\n",
              "      <td>0.0</td>\n",
              "      <td>1.000000</td>\n",
              "      <td>384.220628</td>\n",
              "      <td>485.874267</td>\n",
              "      <td>18.000000</td>\n",
              "      <td>0.000000</td>\n",
              "    </tr>\n",
              "    <tr>\n",
              "      <th>25%</th>\n",
              "      <td>363964.000000</td>\n",
              "      <td>1.000000</td>\n",
              "      <td>0.000000</td>\n",
              "      <td>0.000000</td>\n",
              "      <td>0.000000</td>\n",
              "      <td>6.000000</td>\n",
              "      <td>0.000000</td>\n",
              "      <td>0.000000</td>\n",
              "      <td>1.000000</td>\n",
              "      <td>0.000000</td>\n",
              "      <td>0.000000</td>\n",
              "      <td>0.0</td>\n",
              "      <td>2.000000</td>\n",
              "      <td>547.429791</td>\n",
              "      <td>535.545724</td>\n",
              "      <td>26.000000</td>\n",
              "      <td>0.000000</td>\n",
              "    </tr>\n",
              "    <tr>\n",
              "      <th>50%</th>\n",
              "      <td>543603.000000</td>\n",
              "      <td>1.000000</td>\n",
              "      <td>1.000000</td>\n",
              "      <td>0.000000</td>\n",
              "      <td>1.000000</td>\n",
              "      <td>6.000000</td>\n",
              "      <td>0.000000</td>\n",
              "      <td>0.000000</td>\n",
              "      <td>3.000000</td>\n",
              "      <td>0.000000</td>\n",
              "      <td>0.000000</td>\n",
              "      <td>0.0</td>\n",
              "      <td>4.000000</td>\n",
              "      <td>588.531315</td>\n",
              "      <td>556.757944</td>\n",
              "      <td>32.000000</td>\n",
              "      <td>0.000000</td>\n",
              "    </tr>\n",
              "    <tr>\n",
              "      <th>75%</th>\n",
              "      <td>687271.000000</td>\n",
              "      <td>2.000000</td>\n",
              "      <td>1.000000</td>\n",
              "      <td>1.000000</td>\n",
              "      <td>2.000000</td>\n",
              "      <td>14.000000</td>\n",
              "      <td>0.000000</td>\n",
              "      <td>0.000000</td>\n",
              "      <td>6.000000</td>\n",
              "      <td>0.000000</td>\n",
              "      <td>0.000000</td>\n",
              "      <td>0.0</td>\n",
              "      <td>6.000000</td>\n",
              "      <td>612.323090</td>\n",
              "      <td>567.608057</td>\n",
              "      <td>41.000000</td>\n",
              "      <td>0.000000</td>\n",
              "    </tr>\n",
              "    <tr>\n",
              "      <th>max</th>\n",
              "      <td>884377.000000</td>\n",
              "      <td>7.000000</td>\n",
              "      <td>5.000000</td>\n",
              "      <td>3.000000</td>\n",
              "      <td>31.000000</td>\n",
              "      <td>80.000000</td>\n",
              "      <td>15.000000</td>\n",
              "      <td>81.000000</td>\n",
              "      <td>33.000000</td>\n",
              "      <td>35.000000</td>\n",
              "      <td>7.000000</td>\n",
              "      <td>0.0</td>\n",
              "      <td>21.000000</td>\n",
              "      <td>691.528420</td>\n",
              "      <td>603.311653</td>\n",
              "      <td>74.000000</td>\n",
              "      <td>1.000000</td>\n",
              "    </tr>\n",
              "  </tbody>\n",
              "</table>\n",
              "</div>\n",
              "      <button class=\"colab-df-convert\" onclick=\"convertToInteractive('df-448c563f-3b06-4c0c-959a-e221562711d2')\"\n",
              "              title=\"Convert this dataframe to an interactive table.\"\n",
              "              style=\"display:none;\">\n",
              "        \n",
              "  <svg xmlns=\"http://www.w3.org/2000/svg\" height=\"24px\"viewBox=\"0 0 24 24\"\n",
              "       width=\"24px\">\n",
              "    <path d=\"M0 0h24v24H0V0z\" fill=\"none\"/>\n",
              "    <path d=\"M18.56 5.44l.94 2.06.94-2.06 2.06-.94-2.06-.94-.94-2.06-.94 2.06-2.06.94zm-11 1L8.5 8.5l.94-2.06 2.06-.94-2.06-.94L8.5 2.5l-.94 2.06-2.06.94zm10 10l.94 2.06.94-2.06 2.06-.94-2.06-.94-.94-2.06-.94 2.06-2.06.94z\"/><path d=\"M17.41 7.96l-1.37-1.37c-.4-.4-.92-.59-1.43-.59-.52 0-1.04.2-1.43.59L10.3 9.45l-7.72 7.72c-.78.78-.78 2.05 0 2.83L4 21.41c.39.39.9.59 1.41.59.51 0 1.02-.2 1.41-.59l7.78-7.78 2.81-2.81c.8-.78.8-2.07 0-2.86zM5.41 20L4 18.59l7.72-7.72 1.47 1.35L5.41 20z\"/>\n",
              "  </svg>\n",
              "      </button>\n",
              "      \n",
              "  <style>\n",
              "    .colab-df-container {\n",
              "      display:flex;\n",
              "      flex-wrap:wrap;\n",
              "      gap: 12px;\n",
              "    }\n",
              "\n",
              "    .colab-df-convert {\n",
              "      background-color: #E8F0FE;\n",
              "      border: none;\n",
              "      border-radius: 50%;\n",
              "      cursor: pointer;\n",
              "      display: none;\n",
              "      fill: #1967D2;\n",
              "      height: 32px;\n",
              "      padding: 0 0 0 0;\n",
              "      width: 32px;\n",
              "    }\n",
              "\n",
              "    .colab-df-convert:hover {\n",
              "      background-color: #E2EBFA;\n",
              "      box-shadow: 0px 1px 2px rgba(60, 64, 67, 0.3), 0px 1px 3px 1px rgba(60, 64, 67, 0.15);\n",
              "      fill: #174EA6;\n",
              "    }\n",
              "\n",
              "    [theme=dark] .colab-df-convert {\n",
              "      background-color: #3B4455;\n",
              "      fill: #D2E3FC;\n",
              "    }\n",
              "\n",
              "    [theme=dark] .colab-df-convert:hover {\n",
              "      background-color: #434B5C;\n",
              "      box-shadow: 0px 1px 3px 1px rgba(0, 0, 0, 0.15);\n",
              "      filter: drop-shadow(0px 1px 2px rgba(0, 0, 0, 0.3));\n",
              "      fill: #FFFFFF;\n",
              "    }\n",
              "  </style>\n",
              "\n",
              "      <script>\n",
              "        const buttonEl =\n",
              "          document.querySelector('#df-448c563f-3b06-4c0c-959a-e221562711d2 button.colab-df-convert');\n",
              "        buttonEl.style.display =\n",
              "          google.colab.kernel.accessAllowed ? 'block' : 'none';\n",
              "\n",
              "        async function convertToInteractive(key) {\n",
              "          const element = document.querySelector('#df-448c563f-3b06-4c0c-959a-e221562711d2');\n",
              "          const dataTable =\n",
              "            await google.colab.kernel.invokeFunction('convertToInteractive',\n",
              "                                                     [key], {});\n",
              "          if (!dataTable) return;\n",
              "\n",
              "          const docLinkHtml = 'Like what you see? Visit the ' +\n",
              "            '<a target=\"_blank\" href=https://colab.research.google.com/notebooks/data_table.ipynb>data table notebook</a>'\n",
              "            + ' to learn more about interactive tables.';\n",
              "          element.innerHTML = '';\n",
              "          dataTable['output_type'] = 'display_data';\n",
              "          await google.colab.output.renderOutput(dataTable, element);\n",
              "          const docLink = document.createElement('div');\n",
              "          docLink.innerHTML = docLinkHtml;\n",
              "          element.appendChild(docLink);\n",
              "        }\n",
              "      </script>\n",
              "    </div>\n",
              "  </div>\n",
              "  "
            ]
          },
          "metadata": {},
          "execution_count": 4
        }
      ]
    },
    {
      "cell_type": "code",
      "execution_count": 5,
      "metadata": {
        "colab": {
          "base_uri": "https://localhost:8080/"
        },
        "id": "QQPIJ372Ozj4",
        "outputId": "c05925b1-d2a2-4e62-a146-33b9e5db095f"
      },
      "outputs": [
        {
          "output_type": "execute_result",
          "data": {
            "text/plain": [
              "loanKey                   0\n",
              "rep_loan_date             0\n",
              "first_loan                0\n",
              "dpd_5_cnt              3482\n",
              "dpd_15_cnt             3482\n",
              "dpd_30_cnt             3482\n",
              "first_overdue_date     3482\n",
              "close_loans_cnt          15\n",
              "federal_district_nm      11\n",
              "TraderKey                 0\n",
              "payment_type_0            0\n",
              "payment_type_1            0\n",
              "payment_type_2            0\n",
              "payment_type_3            0\n",
              "payment_type_4            0\n",
              "payment_type_5            0\n",
              "past_billings_cnt       248\n",
              "score_1                 650\n",
              "score_2                3918\n",
              "age                       0\n",
              "gender                    0\n",
              "bad_flag                  0\n",
              "dtype: int64"
            ]
          },
          "metadata": {},
          "execution_count": 5
        }
      ],
      "source": [
        "df.isnull().sum()"
      ]
    },
    {
      "cell_type": "code",
      "execution_count": 6,
      "metadata": {
        "colab": {
          "base_uri": "https://localhost:8080/",
          "height": 143
        },
        "id": "2mcPRgQ4rwd-",
        "outputId": "a4b3cc23-7fcc-418f-81a8-d2cba70b8fc9"
      },
      "outputs": [
        {
          "output_type": "execute_result",
          "data": {
            "text/plain": [
              "Empty DataFrame\n",
              "Columns: [loanKey, rep_loan_date, first_loan, dpd_5_cnt, dpd_15_cnt, dpd_30_cnt, first_overdue_date, close_loans_cnt, federal_district_nm, TraderKey, payment_type_0, payment_type_1, payment_type_2, payment_type_3, payment_type_4, payment_type_5, past_billings_cnt, score_1, score_2, age, gender, bad_flag]\n",
              "Index: []\n",
              "\n",
              "[0 rows x 22 columns]"
            ],
            "text/html": [
              "\n",
              "  <div id=\"df-c1cb4da6-825e-4005-94dd-b40cf5a85259\">\n",
              "    <div class=\"colab-df-container\">\n",
              "      <div>\n",
              "<style scoped>\n",
              "    .dataframe tbody tr th:only-of-type {\n",
              "        vertical-align: middle;\n",
              "    }\n",
              "\n",
              "    .dataframe tbody tr th {\n",
              "        vertical-align: top;\n",
              "    }\n",
              "\n",
              "    .dataframe thead th {\n",
              "        text-align: right;\n",
              "    }\n",
              "</style>\n",
              "<table border=\"1\" class=\"dataframe\">\n",
              "  <thead>\n",
              "    <tr style=\"text-align: right;\">\n",
              "      <th></th>\n",
              "      <th>loanKey</th>\n",
              "      <th>rep_loan_date</th>\n",
              "      <th>first_loan</th>\n",
              "      <th>dpd_5_cnt</th>\n",
              "      <th>dpd_15_cnt</th>\n",
              "      <th>dpd_30_cnt</th>\n",
              "      <th>first_overdue_date</th>\n",
              "      <th>close_loans_cnt</th>\n",
              "      <th>federal_district_nm</th>\n",
              "      <th>TraderKey</th>\n",
              "      <th>...</th>\n",
              "      <th>payment_type_2</th>\n",
              "      <th>payment_type_3</th>\n",
              "      <th>payment_type_4</th>\n",
              "      <th>payment_type_5</th>\n",
              "      <th>past_billings_cnt</th>\n",
              "      <th>score_1</th>\n",
              "      <th>score_2</th>\n",
              "      <th>age</th>\n",
              "      <th>gender</th>\n",
              "      <th>bad_flag</th>\n",
              "    </tr>\n",
              "  </thead>\n",
              "  <tbody>\n",
              "  </tbody>\n",
              "</table>\n",
              "<p>0 rows × 22 columns</p>\n",
              "</div>\n",
              "      <button class=\"colab-df-convert\" onclick=\"convertToInteractive('df-c1cb4da6-825e-4005-94dd-b40cf5a85259')\"\n",
              "              title=\"Convert this dataframe to an interactive table.\"\n",
              "              style=\"display:none;\">\n",
              "        \n",
              "  <svg xmlns=\"http://www.w3.org/2000/svg\" height=\"24px\"viewBox=\"0 0 24 24\"\n",
              "       width=\"24px\">\n",
              "    <path d=\"M0 0h24v24H0V0z\" fill=\"none\"/>\n",
              "    <path d=\"M18.56 5.44l.94 2.06.94-2.06 2.06-.94-2.06-.94-.94-2.06-.94 2.06-2.06.94zm-11 1L8.5 8.5l.94-2.06 2.06-.94-2.06-.94L8.5 2.5l-.94 2.06-2.06.94zm10 10l.94 2.06.94-2.06 2.06-.94-2.06-.94-.94-2.06-.94 2.06-2.06.94z\"/><path d=\"M17.41 7.96l-1.37-1.37c-.4-.4-.92-.59-1.43-.59-.52 0-1.04.2-1.43.59L10.3 9.45l-7.72 7.72c-.78.78-.78 2.05 0 2.83L4 21.41c.39.39.9.59 1.41.59.51 0 1.02-.2 1.41-.59l7.78-7.78 2.81-2.81c.8-.78.8-2.07 0-2.86zM5.41 20L4 18.59l7.72-7.72 1.47 1.35L5.41 20z\"/>\n",
              "  </svg>\n",
              "      </button>\n",
              "      \n",
              "  <style>\n",
              "    .colab-df-container {\n",
              "      display:flex;\n",
              "      flex-wrap:wrap;\n",
              "      gap: 12px;\n",
              "    }\n",
              "\n",
              "    .colab-df-convert {\n",
              "      background-color: #E8F0FE;\n",
              "      border: none;\n",
              "      border-radius: 50%;\n",
              "      cursor: pointer;\n",
              "      display: none;\n",
              "      fill: #1967D2;\n",
              "      height: 32px;\n",
              "      padding: 0 0 0 0;\n",
              "      width: 32px;\n",
              "    }\n",
              "\n",
              "    .colab-df-convert:hover {\n",
              "      background-color: #E2EBFA;\n",
              "      box-shadow: 0px 1px 2px rgba(60, 64, 67, 0.3), 0px 1px 3px 1px rgba(60, 64, 67, 0.15);\n",
              "      fill: #174EA6;\n",
              "    }\n",
              "\n",
              "    [theme=dark] .colab-df-convert {\n",
              "      background-color: #3B4455;\n",
              "      fill: #D2E3FC;\n",
              "    }\n",
              "\n",
              "    [theme=dark] .colab-df-convert:hover {\n",
              "      background-color: #434B5C;\n",
              "      box-shadow: 0px 1px 3px 1px rgba(0, 0, 0, 0.15);\n",
              "      filter: drop-shadow(0px 1px 2px rgba(0, 0, 0, 0.3));\n",
              "      fill: #FFFFFF;\n",
              "    }\n",
              "  </style>\n",
              "\n",
              "      <script>\n",
              "        const buttonEl =\n",
              "          document.querySelector('#df-c1cb4da6-825e-4005-94dd-b40cf5a85259 button.colab-df-convert');\n",
              "        buttonEl.style.display =\n",
              "          google.colab.kernel.accessAllowed ? 'block' : 'none';\n",
              "\n",
              "        async function convertToInteractive(key) {\n",
              "          const element = document.querySelector('#df-c1cb4da6-825e-4005-94dd-b40cf5a85259');\n",
              "          const dataTable =\n",
              "            await google.colab.kernel.invokeFunction('convertToInteractive',\n",
              "                                                     [key], {});\n",
              "          if (!dataTable) return;\n",
              "\n",
              "          const docLinkHtml = 'Like what you see? Visit the ' +\n",
              "            '<a target=\"_blank\" href=https://colab.research.google.com/notebooks/data_table.ipynb>data table notebook</a>'\n",
              "            + ' to learn more about interactive tables.';\n",
              "          element.innerHTML = '';\n",
              "          dataTable['output_type'] = 'display_data';\n",
              "          await google.colab.output.renderOutput(dataTable, element);\n",
              "          const docLink = document.createElement('div');\n",
              "          docLink.innerHTML = docLinkHtml;\n",
              "          element.appendChild(docLink);\n",
              "        }\n",
              "      </script>\n",
              "    </div>\n",
              "  </div>\n",
              "  "
            ]
          },
          "metadata": {},
          "execution_count": 6
        }
      ],
      "source": [
        "# обработка признака 0 (loanKey - идентификатор повторного займа)\n",
        "df[df['loanKey'].duplicated() == True]"
      ]
    },
    {
      "cell_type": "code",
      "execution_count": 7,
      "metadata": {
        "colab": {
          "base_uri": "https://localhost:8080/"
        },
        "id": "3fpOJnn9rwgk",
        "outputId": "4e5bdb8f-6b57-463b-f195-2fd17c2c9ec4"
      },
      "outputs": [
        {
          "output_type": "stream",
          "name": "stdout",
          "text": [
            "<class 'pandas.core.series.Series'>\n",
            "RangeIndex: 4157 entries, 0 to 4156\n",
            "Series name: rep_loan_date\n",
            "Non-Null Count  Dtype         \n",
            "--------------  -----         \n",
            "4157 non-null   datetime64[ns]\n",
            "dtypes: datetime64[ns](1)\n",
            "memory usage: 32.6 KB\n"
          ]
        }
      ],
      "source": [
        "# обработка признака 1 (rep_loan_date - дата повторного займа)\n",
        "df['rep_loan_date'] = pd.to_datetime(df['rep_loan_date'], format='%Y-%m-%d')\n",
        "df['rep_loan_date'].info()"
      ]
    },
    {
      "cell_type": "code",
      "execution_count": 8,
      "metadata": {
        "id": "mTO_dpqVmYr_"
      },
      "outputs": [],
      "source": [
        "   # создание признаков: год повторного займа, месяц повторного займа, день повторного займа\n",
        "df['rep_loan_year']= df['rep_loan_date'].apply(lambda x: x.year).astype(int)\n",
        "df['rep_loan_month'] = df['rep_loan_date'].apply(lambda x: x.month).astype(int)\n",
        "df['rep_loan_day'] = df['rep_loan_date'].apply(lambda x: x.day).astype(int)"
      ]
    },
    {
      "cell_type": "code",
      "execution_count": 9,
      "metadata": {
        "colab": {
          "base_uri": "https://localhost:8080/"
        },
        "id": "aU_MN4Y9rwlN",
        "outputId": "99ba6371-ba8b-49b1-d4de-bdf6782094a5"
      },
      "outputs": [
        {
          "output_type": "stream",
          "name": "stdout",
          "text": [
            "<class 'pandas.core.series.Series'>\n",
            "RangeIndex: 4157 entries, 0 to 4156\n",
            "Series name: first_loan\n",
            "Non-Null Count  Dtype         \n",
            "--------------  -----         \n",
            "4157 non-null   datetime64[ns]\n",
            "dtypes: datetime64[ns](1)\n",
            "memory usage: 32.6 KB\n"
          ]
        }
      ],
      "source": [
        "# обработка признака 2 (first_loan - дата первого займа)\n",
        "df['first_loan'] = pd.to_datetime(df['first_loan'], format='%Y-%m-%d')\n",
        "df['first_loan'].info()"
      ]
    },
    {
      "cell_type": "code",
      "execution_count": 10,
      "metadata": {
        "id": "Mo28H9QIm3JQ"
      },
      "outputs": [],
      "source": [
        "   # создание признаков: год первого займа, месяц первого займа, день первого займа\n",
        "df['first_loan_year']= df['first_loan'].apply(lambda x: x.year).astype(int)\n",
        "df['first_loan_month'] = df['first_loan'].apply(lambda x: x.month).astype(int)\n",
        "df['first_loan_day'] = df['first_loan'].apply(lambda x: x.day).astype(int)"
      ]
    },
    {
      "cell_type": "code",
      "execution_count": 11,
      "metadata": {
        "id": "c_wIZB0asiht"
      },
      "outputs": [],
      "source": [
        "   # создание признака: интервал времени между двумя займами\n",
        "df['loans_interval'] = (df['rep_loan_date'] - df['first_loan']).dt.days.astype(int)"
      ]
    },
    {
      "cell_type": "code",
      "source": [
        "# обработка признака 19 (age - возраст)\n",
        "df['age'] = df['age'].astype(int)"
      ],
      "metadata": {
        "id": "UfMIgnDSbQOa"
      },
      "execution_count": 12,
      "outputs": []
    },
    {
      "cell_type": "code",
      "source": [
        "# создание категориального признака по возрасту\n",
        "def get_age_cat(age):\n",
        "    if age < 25:\n",
        "        return 'teen'\n",
        "    elif age < 40:\n",
        "        return 'adult'\n",
        "    elif age < 60:\n",
        "        return 'pre-retiree'\n",
        "    else:\n",
        "        return 'retiree'\n",
        "\n",
        "df['age_cat'] = df['age'].apply(get_age_cat)"
      ],
      "metadata": {
        "id": "M_wW8W-cbQQn"
      },
      "execution_count": 13,
      "outputs": []
    },
    {
      "cell_type": "code",
      "execution_count": 14,
      "metadata": {
        "colab": {
          "base_uri": "https://localhost:8080/"
        },
        "id": "fVyVnZx5rwnc",
        "outputId": "63829e20-0f0a-4028-f75c-416dfc4e4265"
      },
      "outputs": [
        {
          "output_type": "execute_result",
          "data": {
            "text/plain": [
              "1.0    484\n",
              "2.0    114\n",
              "3.0     47\n",
              "4.0     14\n",
              "5.0      7\n",
              "0.0      4\n",
              "6.0      4\n",
              "7.0      1\n",
              "Name: dpd_5_cnt, dtype: int64"
            ]
          },
          "metadata": {},
          "execution_count": 14
        }
      ],
      "source": [
        "# обработка признака 3 (dpd_5_cnt - иждивенцы возрастом до 5 лет (?))\n",
        "df['dpd_5_cnt'].value_counts()"
      ]
    },
    {
      "cell_type": "code",
      "source": [
        "   # заполнение пропусков на основании значений age_cat (заполняем модой для каждой из категорий)\n",
        "df['dpd_5_cnt'].fillna(df.groupby('age_cat')['dpd_5_cnt'].transform(lambda x: x.mode()[0]), inplace=True)"
      ],
      "metadata": {
        "id": "QBLBawtjb8dH"
      },
      "execution_count": 15,
      "outputs": []
    },
    {
      "cell_type": "code",
      "source": [
        "print(f\"Количество пропусков после обработки: {df['dpd_5_cnt'].isnull().sum()}\")"
      ],
      "metadata": {
        "colab": {
          "base_uri": "https://localhost:8080/"
        },
        "id": "00oQa6Zzclnt",
        "outputId": "ec5cfab1-0fee-4574-d504-3aac403f40b1"
      },
      "execution_count": 16,
      "outputs": [
        {
          "output_type": "stream",
          "name": "stdout",
          "text": [
            "Количество пропусков после обработки: 0\n"
          ]
        }
      ]
    },
    {
      "cell_type": "code",
      "execution_count": 17,
      "metadata": {
        "id": "h8R5F7ukuFlz"
      },
      "outputs": [],
      "source": [
        "   # заполнение пропусков модой\n",
        "#print(f\"Мода: {df['dpd_5_cnt'].mode()[0]}\")\n",
        "#df['dpd_5_cnt'].fillna(df['dpd_5_cnt'].mode()[0], inplace=True)\n",
        "#print(f\"Количество пропусков после обработки: {df['dpd_5_cnt'].isnull().sum()}\")"
      ]
    },
    {
      "cell_type": "code",
      "execution_count": 18,
      "metadata": {
        "id": "3WbAI4DgoyY_"
      },
      "outputs": [],
      "source": [
        "df['dpd_5_cnt'] = df['dpd_5_cnt'].astype(int)"
      ]
    },
    {
      "cell_type": "code",
      "execution_count": 19,
      "metadata": {
        "colab": {
          "base_uri": "https://localhost:8080/"
        },
        "id": "J8qoRwYKuFs8",
        "outputId": "270bcaea-fda7-47b3-da03-f95abb086eca"
      },
      "outputs": [
        {
          "output_type": "execute_result",
          "data": {
            "text/plain": [
              "1.0    314\n",
              "0.0    281\n",
              "2.0     66\n",
              "3.0      9\n",
              "4.0      3\n",
              "5.0      2\n",
              "Name: dpd_15_cnt, dtype: int64"
            ]
          },
          "metadata": {},
          "execution_count": 19
        }
      ],
      "source": [
        "# обработка признака 4 (dpd_15_cnt - иждивенцы возрастом до 15 лет (?))\n",
        "df['dpd_15_cnt'].value_counts()"
      ]
    },
    {
      "cell_type": "code",
      "source": [
        "   # заполнение пропусков на основании значений age_cat (заполняем модой для каждой из категорий)\n",
        "df['dpd_15_cnt'].fillna(df.groupby('age_cat')['dpd_15_cnt'].transform(lambda x: x.mode()[0]), inplace=True)"
      ],
      "metadata": {
        "id": "IJWWQZnTceH_"
      },
      "execution_count": 20,
      "outputs": []
    },
    {
      "cell_type": "code",
      "source": [
        "print(f\"Количество пропусков после обработки: {df['dpd_15_cnt'].isnull().sum()}\")"
      ],
      "metadata": {
        "colab": {
          "base_uri": "https://localhost:8080/"
        },
        "id": "o8_Ego-RcoRD",
        "outputId": "43e3ee3c-9cf1-4d53-f640-588463273651"
      },
      "execution_count": 21,
      "outputs": [
        {
          "output_type": "stream",
          "name": "stdout",
          "text": [
            "Количество пропусков после обработки: 0\n"
          ]
        }
      ]
    },
    {
      "cell_type": "code",
      "execution_count": 22,
      "metadata": {
        "id": "BTVGwbBouF0k"
      },
      "outputs": [],
      "source": [
        "   # заполнение пропусков модой\n",
        "#print(f\"Мода: {df['dpd_15_cnt'].mode()[0]}\")\n",
        "#df['dpd_15_cnt'].fillna(df['dpd_15_cnt'].mode()[0], inplace=True)\n",
        "#print(f\"Количество пропусков после обработки: {df['dpd_15_cnt'].isnull().sum()}\")"
      ]
    },
    {
      "cell_type": "code",
      "execution_count": 23,
      "metadata": {
        "id": "5SZdxuYZo_Eo"
      },
      "outputs": [],
      "source": [
        "df['dpd_15_cnt'] = df['dpd_15_cnt'].astype(int)"
      ]
    },
    {
      "cell_type": "code",
      "execution_count": 24,
      "metadata": {
        "colab": {
          "base_uri": "https://localhost:8080/"
        },
        "id": "kNXNh2l1rwpw",
        "outputId": "6576886c-2173-42ba-8cdb-cc1fe96f8fa1"
      },
      "outputs": [
        {
          "output_type": "execute_result",
          "data": {
            "text/plain": [
              "0.0    502\n",
              "1.0    158\n",
              "2.0     14\n",
              "3.0      1\n",
              "Name: dpd_30_cnt, dtype: int64"
            ]
          },
          "metadata": {},
          "execution_count": 24
        }
      ],
      "source": [
        "# обработка признака 5 (dpd_30_cnt - иждивенцы возрастом до 30 лет (?))\n",
        "df['dpd_30_cnt'].value_counts()"
      ]
    },
    {
      "cell_type": "code",
      "source": [
        "   # заполнение пропусков на основании значений age_cat (заполняем модой для каждой из категорий)\n",
        "df['dpd_30_cnt'].fillna(df.groupby('age_cat')['dpd_30_cnt'].transform(lambda x: x.mode()[0]), inplace=True)"
      ],
      "metadata": {
        "id": "dMWEeV9_cu5C"
      },
      "execution_count": 25,
      "outputs": []
    },
    {
      "cell_type": "code",
      "source": [
        "print(f\"Количество пропусков после обработки: {df['dpd_30_cnt'].isnull().sum()}\")"
      ],
      "metadata": {
        "colab": {
          "base_uri": "https://localhost:8080/"
        },
        "id": "UBMxrjqecu7o",
        "outputId": "0577f1ef-f070-46cc-ec34-4f7b53ffdf92"
      },
      "execution_count": 26,
      "outputs": [
        {
          "output_type": "stream",
          "name": "stdout",
          "text": [
            "Количество пропусков после обработки: 0\n"
          ]
        }
      ]
    },
    {
      "cell_type": "code",
      "execution_count": 27,
      "metadata": {
        "id": "v7HXP6pioKmw"
      },
      "outputs": [],
      "source": [
        "   # заполнение пропусков модой\n",
        "#print(f\"Мода: {df['dpd_30_cnt'].mode()[0]}\")\n",
        "#df['dpd_30_cnt'].fillna(df['dpd_30_cnt'].mode()[0], inplace=True)\n",
        "#print(f\"Количество пропусков после обработки: {df['dpd_30_cnt'].isnull().sum()}\")"
      ]
    },
    {
      "cell_type": "code",
      "execution_count": 28,
      "metadata": {
        "id": "C6FV7HjypCdX"
      },
      "outputs": [],
      "source": [
        "df['dpd_30_cnt'] = df['dpd_30_cnt'].astype(int)"
      ]
    },
    {
      "cell_type": "code",
      "execution_count": 29,
      "metadata": {
        "colab": {
          "base_uri": "https://localhost:8080/"
        },
        "id": "KXnryDv74u-a",
        "outputId": "010be31e-be97-4a48-9f39-71b480ec0c9d"
      },
      "outputs": [
        {
          "output_type": "stream",
          "name": "stdout",
          "text": [
            "<class 'pandas.core.series.Series'>\n",
            "RangeIndex: 4157 entries, 0 to 4156\n",
            "Series name: first_overdue_date\n",
            "Non-Null Count  Dtype         \n",
            "--------------  -----         \n",
            "675 non-null    datetime64[ns]\n",
            "dtypes: datetime64[ns](1)\n",
            "memory usage: 32.6 KB\n"
          ]
        }
      ],
      "source": [
        "# обработка признака 6 (first_overdue_date - дата просрочки по первому займу)\n",
        "df['first_overdue_date'] = pd.to_datetime(df['first_overdue_date'])\n",
        "df['first_overdue_date'].info()"
      ]
    },
    {
      "cell_type": "code",
      "execution_count": 30,
      "metadata": {
        "id": "93LKUE3vpU3q"
      },
      "outputs": [],
      "source": [
        "   # создание признаков: год просрочки, месяц просрочки, день просрочки\n",
        "df['first_overdue_year']= df['first_overdue_date'].apply(lambda x: x.year)\n",
        "df['first_overdue_month'] = df['first_overdue_date'].apply(lambda x: x.month)\n",
        "df['first_overdue_day'] = df['first_overdue_date'].apply(lambda x: x.day)"
      ]
    },
    {
      "cell_type": "code",
      "execution_count": 31,
      "metadata": {
        "colab": {
          "base_uri": "https://localhost:8080/"
        },
        "id": "L89eEmU_rBYo",
        "outputId": "1763d172-c7ab-49fe-a1b4-14d718dc9ef3"
      },
      "outputs": [
        {
          "output_type": "execute_result",
          "data": {
            "text/plain": [
              "3482"
            ]
          },
          "metadata": {},
          "execution_count": 31
        }
      ],
      "source": [
        "   # создание признака: интервал времени между первым займом и его просрочкой\n",
        "df['overdue_interval'] = (df['first_overdue_date'] - df['first_loan']).dt.days\n",
        "df['overdue_interval'].isnull().sum()"
      ]
    },
    {
      "cell_type": "code",
      "source": [
        "df['first_overdue_year'].fillna(0, inplace=True)\n",
        "df['first_overdue_month'].fillna(0, inplace=True)\n",
        "df['first_overdue_day'].fillna(0, inplace=True)\n",
        "df['overdue_interval'].fillna(5000, inplace=True)   # при отсутствии просрочки по 1-ому займу"
      ],
      "metadata": {
        "id": "HoA6PIEpepJS"
      },
      "execution_count": 32,
      "outputs": []
    },
    {
      "cell_type": "code",
      "source": [
        "   # создание индикаторного признака - 0 для наличия просрочки и 1 для отсутствия\n",
        "\n",
        "df['ind_overdue'] = df['first_overdue_year'].apply(lambda x: 1 if x==0 else 0)\n",
        "df['ind_overdue'].value_counts()"
      ],
      "metadata": {
        "colab": {
          "base_uri": "https://localhost:8080/"
        },
        "id": "HJGoCE2bc-ZE",
        "outputId": "4a5285db-ef5b-46f8-aad5-700d0a28d96e"
      },
      "execution_count": 33,
      "outputs": [
        {
          "output_type": "execute_result",
          "data": {
            "text/plain": [
              "1    3482\n",
              "0     675\n",
              "Name: ind_overdue, dtype: int64"
            ]
          },
          "metadata": {},
          "execution_count": 33
        }
      ]
    },
    {
      "cell_type": "code",
      "execution_count": 34,
      "metadata": {
        "colab": {
          "base_uri": "https://localhost:8080/"
        },
        "id": "Bp2Mdknk0Ne4",
        "outputId": "902d2f09-6eeb-4724-a12b-a3c967595278"
      },
      "outputs": [
        {
          "output_type": "execute_result",
          "data": {
            "text/plain": [
              "0.0     1672\n",
              "1.0     1358\n",
              "2.0      587\n",
              "3.0      240\n",
              "4.0      122\n",
              "5.0       64\n",
              "6.0       33\n",
              "7.0       23\n",
              "8.0       12\n",
              "9.0        9\n",
              "10.0       5\n",
              "11.0       4\n",
              "14.0       2\n",
              "17.0       2\n",
              "13.0       2\n",
              "18.0       2\n",
              "16.0       1\n",
              "12.0       1\n",
              "15.0       1\n",
              "31.0       1\n",
              "19.0       1\n",
              "Name: close_loans_cnt, dtype: int64"
            ]
          },
          "metadata": {},
          "execution_count": 34
        }
      ],
      "source": [
        "# обработка признака 7 (close_loans_cnt - количество успешно закрытых (отданных) займов)\n",
        "df['close_loans_cnt'].value_counts()"
      ]
    },
    {
      "cell_type": "code",
      "execution_count": 35,
      "metadata": {
        "colab": {
          "base_uri": "https://localhost:8080/"
        },
        "id": "DXjnJycI0NhB",
        "outputId": "04376049-00d2-4431-943c-519e7c44a944"
      },
      "outputs": [
        {
          "output_type": "stream",
          "name": "stdout",
          "text": [
            "Медиана: 1.1846933848382424\n",
            "Количество пропусков после обработки: 0\n"
          ]
        }
      ],
      "source": [
        "   # заполнение пропусков медианой (с округлением до целого числа)\n",
        "print(f\"Медиана: {df['close_loans_cnt'].mean()}\")\n",
        "df['close_loans_cnt'].fillna(round(df['close_loans_cnt'].mean(), 0), inplace=True)\n",
        "print(f\"Количество пропусков после обработки: {df['close_loans_cnt'].isnull().sum()}\")"
      ]
    },
    {
      "cell_type": "code",
      "execution_count": 36,
      "metadata": {
        "id": "m0ucbsFs7Bhh"
      },
      "outputs": [],
      "source": [
        "df['close_loans_cnt'] = df['close_loans_cnt'].astype(int)"
      ]
    },
    {
      "cell_type": "code",
      "execution_count": 37,
      "metadata": {
        "colab": {
          "base_uri": "https://localhost:8080/"
        },
        "id": "F2JyEfWC5_po",
        "outputId": "d208ccd2-1105-441c-d380-db708bf20423"
      },
      "outputs": [
        {
          "output_type": "stream",
          "name": "stdout",
          "text": [
            "<class 'pandas.core.frame.DataFrame'>\n",
            "RangeIndex: 4157 entries, 0 to 4156\n",
            "Data columns (total 35 columns):\n",
            " #   Column               Non-Null Count  Dtype         \n",
            "---  ------               --------------  -----         \n",
            " 0   loanKey              4157 non-null   int64         \n",
            " 1   rep_loan_date        4157 non-null   datetime64[ns]\n",
            " 2   first_loan           4157 non-null   datetime64[ns]\n",
            " 3   dpd_5_cnt            4157 non-null   int64         \n",
            " 4   dpd_15_cnt           4157 non-null   int64         \n",
            " 5   dpd_30_cnt           4157 non-null   int64         \n",
            " 6   first_overdue_date   675 non-null    datetime64[ns]\n",
            " 7   close_loans_cnt      4157 non-null   int64         \n",
            " 8   federal_district_nm  4146 non-null   object        \n",
            " 9   TraderKey            4157 non-null   int64         \n",
            " 10  payment_type_0       4157 non-null   int64         \n",
            " 11  payment_type_1       4157 non-null   int64         \n",
            " 12  payment_type_2       4157 non-null   int64         \n",
            " 13  payment_type_3       4157 non-null   int64         \n",
            " 14  payment_type_4       4157 non-null   int64         \n",
            " 15  payment_type_5       4157 non-null   int64         \n",
            " 16  past_billings_cnt    3909 non-null   float64       \n",
            " 17  score_1              3507 non-null   float64       \n",
            " 18  score_2              239 non-null    float64       \n",
            " 19  age                  4157 non-null   int64         \n",
            " 20  gender               4157 non-null   bool          \n",
            " 21  bad_flag             4157 non-null   int64         \n",
            " 22  rep_loan_year        4157 non-null   int64         \n",
            " 23  rep_loan_month       4157 non-null   int64         \n",
            " 24  rep_loan_day         4157 non-null   int64         \n",
            " 25  first_loan_year      4157 non-null   int64         \n",
            " 26  first_loan_month     4157 non-null   int64         \n",
            " 27  first_loan_day       4157 non-null   int64         \n",
            " 28  loans_interval       4157 non-null   int64         \n",
            " 29  age_cat              4157 non-null   object        \n",
            " 30  first_overdue_year   4157 non-null   float64       \n",
            " 31  first_overdue_month  4157 non-null   float64       \n",
            " 32  first_overdue_day    4157 non-null   float64       \n",
            " 33  overdue_interval     4157 non-null   float64       \n",
            " 34  ind_overdue          4157 non-null   int64         \n",
            "dtypes: bool(1), datetime64[ns](3), float64(7), int64(22), object(2)\n",
            "memory usage: 1.1+ MB\n"
          ]
        }
      ],
      "source": [
        "df.info()"
      ]
    },
    {
      "cell_type": "code",
      "execution_count": 38,
      "metadata": {
        "colab": {
          "base_uri": "https://localhost:8080/"
        },
        "id": "W6IoKcGT6qyE",
        "outputId": "5ef67400-8e3e-4ff6-a5c6-904154615235"
      },
      "outputs": [
        {
          "output_type": "execute_result",
          "data": {
            "text/plain": [
              "region_3    1595\n",
              "region_6     627\n",
              "region_2     553\n",
              "region_4     499\n",
              "region_1     300\n",
              "region_0     285\n",
              "region_5     213\n",
              "region_7      74\n",
              "Name: federal_district_nm, dtype: int64"
            ]
          },
          "metadata": {},
          "execution_count": 38
        }
      ],
      "source": [
        "# обработка признака 8 (federal_district_nm - номер федерального округа заемщика)\n",
        "df['federal_district_nm'].value_counts()"
      ]
    },
    {
      "cell_type": "code",
      "execution_count": 39,
      "metadata": {
        "colab": {
          "base_uri": "https://localhost:8080/"
        },
        "id": "O9OB2w1mtHEq",
        "outputId": "e2171c28-5d26-495b-d696-dead06fdeeed"
      },
      "outputs": [
        {
          "output_type": "execute_result",
          "data": {
            "text/plain": [
              "11"
            ]
          },
          "metadata": {},
          "execution_count": 39
        }
      ],
      "source": [
        "df['federal_district_nm'].isnull().sum()"
      ]
    },
    {
      "cell_type": "code",
      "execution_count": 40,
      "metadata": {
        "colab": {
          "base_uri": "https://localhost:8080/"
        },
        "id": "LDbFvk97tdaq",
        "outputId": "3b534be3-79ac-4dbd-91e8-641fdf2290e0"
      },
      "outputs": [
        {
          "output_type": "stream",
          "name": "stdout",
          "text": [
            "0\n"
          ]
        }
      ],
      "source": [
        "df = df.dropna(subset=['federal_district_nm'])\n",
        "print(df['federal_district_nm'].isnull().sum())"
      ]
    },
    {
      "cell_type": "code",
      "execution_count": 41,
      "metadata": {
        "colab": {
          "base_uri": "https://localhost:8080/"
        },
        "id": "ijL_IdOquuDt",
        "outputId": "4c733993-ebd0-456c-cb1b-a39a6bc9e1dc"
      },
      "outputs": [
        {
          "output_type": "stream",
          "name": "stdout",
          "text": [
            "<class 'pandas.core.frame.DataFrame'>\n",
            "Int64Index: 4146 entries, 0 to 4156\n",
            "Data columns (total 42 columns):\n",
            " #   Column               Non-Null Count  Dtype         \n",
            "---  ------               --------------  -----         \n",
            " 0   loanKey              4146 non-null   int64         \n",
            " 1   rep_loan_date        4146 non-null   datetime64[ns]\n",
            " 2   first_loan           4146 non-null   datetime64[ns]\n",
            " 3   dpd_5_cnt            4146 non-null   int64         \n",
            " 4   dpd_15_cnt           4146 non-null   int64         \n",
            " 5   dpd_30_cnt           4146 non-null   int64         \n",
            " 6   first_overdue_date   673 non-null    datetime64[ns]\n",
            " 7   close_loans_cnt      4146 non-null   int64         \n",
            " 8   TraderKey            4146 non-null   int64         \n",
            " 9   payment_type_0       4146 non-null   int64         \n",
            " 10  payment_type_1       4146 non-null   int64         \n",
            " 11  payment_type_2       4146 non-null   int64         \n",
            " 12  payment_type_3       4146 non-null   int64         \n",
            " 13  payment_type_4       4146 non-null   int64         \n",
            " 14  payment_type_5       4146 non-null   int64         \n",
            " 15  past_billings_cnt    3898 non-null   float64       \n",
            " 16  score_1              3498 non-null   float64       \n",
            " 17  score_2              237 non-null    float64       \n",
            " 18  age                  4146 non-null   int64         \n",
            " 19  gender               4146 non-null   bool          \n",
            " 20  bad_flag             4146 non-null   int64         \n",
            " 21  rep_loan_year        4146 non-null   int64         \n",
            " 22  rep_loan_month       4146 non-null   int64         \n",
            " 23  rep_loan_day         4146 non-null   int64         \n",
            " 24  first_loan_year      4146 non-null   int64         \n",
            " 25  first_loan_month     4146 non-null   int64         \n",
            " 26  first_loan_day       4146 non-null   int64         \n",
            " 27  loans_interval       4146 non-null   int64         \n",
            " 28  age_cat              4146 non-null   object        \n",
            " 29  first_overdue_year   4146 non-null   float64       \n",
            " 30  first_overdue_month  4146 non-null   float64       \n",
            " 31  first_overdue_day    4146 non-null   float64       \n",
            " 32  overdue_interval     4146 non-null   float64       \n",
            " 33  ind_overdue          4146 non-null   int64         \n",
            " 34  region_0             4146 non-null   uint8         \n",
            " 35  region_1             4146 non-null   uint8         \n",
            " 36  region_2             4146 non-null   uint8         \n",
            " 37  region_3             4146 non-null   uint8         \n",
            " 38  region_4             4146 non-null   uint8         \n",
            " 39  region_5             4146 non-null   uint8         \n",
            " 40  region_6             4146 non-null   uint8         \n",
            " 41  region_7             4146 non-null   uint8         \n",
            "dtypes: bool(1), datetime64[ns](3), float64(7), int64(22), object(1), uint8(8)\n",
            "memory usage: 1.2+ MB\n"
          ]
        }
      ],
      "source": [
        "   # создание из признака dummy-столбцов\n",
        "dummy_ranks = pd.get_dummies(df['federal_district_nm'])\n",
        "dummy_ranks.head()\n",
        "df = df.join(dummy_ranks)\n",
        "df.drop('federal_district_nm', axis=1, inplace=True)\n",
        "df.info()"
      ]
    },
    {
      "cell_type": "code",
      "execution_count": 42,
      "metadata": {
        "id": "CupKBecp4zG1"
      },
      "outputs": [],
      "source": [
        "dummies_cols = ['region_0', 'region_1', 'region_2', 'region_3', 'region_4', 'region_5', 'region_6', 'region_7']\n",
        "df[dummies_cols] = df[dummies_cols].astype(bool)"
      ]
    },
    {
      "cell_type": "code",
      "execution_count": 43,
      "metadata": {
        "colab": {
          "base_uri": "https://localhost:8080/"
        },
        "id": "MVqd5osw6ltX",
        "outputId": "964c2dd0-28e0-45b3-e5e5-c7e593cdb0de"
      },
      "outputs": [
        {
          "output_type": "stream",
          "name": "stdout",
          "text": [
            "<class 'pandas.core.frame.DataFrame'>\n",
            "Int64Index: 4146 entries, 0 to 4156\n",
            "Data columns (total 42 columns):\n",
            " #   Column               Non-Null Count  Dtype         \n",
            "---  ------               --------------  -----         \n",
            " 0   loanKey              4146 non-null   int64         \n",
            " 1   rep_loan_date        4146 non-null   datetime64[ns]\n",
            " 2   first_loan           4146 non-null   datetime64[ns]\n",
            " 3   dpd_5_cnt            4146 non-null   int64         \n",
            " 4   dpd_15_cnt           4146 non-null   int64         \n",
            " 5   dpd_30_cnt           4146 non-null   int64         \n",
            " 6   first_overdue_date   673 non-null    datetime64[ns]\n",
            " 7   close_loans_cnt      4146 non-null   int64         \n",
            " 8   TraderKey            4146 non-null   int64         \n",
            " 9   payment_type_0       4146 non-null   int64         \n",
            " 10  payment_type_1       4146 non-null   int64         \n",
            " 11  payment_type_2       4146 non-null   int64         \n",
            " 12  payment_type_3       4146 non-null   int64         \n",
            " 13  payment_type_4       4146 non-null   int64         \n",
            " 14  payment_type_5       4146 non-null   int64         \n",
            " 15  past_billings_cnt    3898 non-null   float64       \n",
            " 16  score_1              3498 non-null   float64       \n",
            " 17  score_2              237 non-null    float64       \n",
            " 18  age                  4146 non-null   int64         \n",
            " 19  gender               4146 non-null   bool          \n",
            " 20  bad_flag             4146 non-null   int64         \n",
            " 21  rep_loan_year        4146 non-null   int64         \n",
            " 22  rep_loan_month       4146 non-null   int64         \n",
            " 23  rep_loan_day         4146 non-null   int64         \n",
            " 24  first_loan_year      4146 non-null   int64         \n",
            " 25  first_loan_month     4146 non-null   int64         \n",
            " 26  first_loan_day       4146 non-null   int64         \n",
            " 27  loans_interval       4146 non-null   int64         \n",
            " 28  age_cat              4146 non-null   object        \n",
            " 29  first_overdue_year   4146 non-null   float64       \n",
            " 30  first_overdue_month  4146 non-null   float64       \n",
            " 31  first_overdue_day    4146 non-null   float64       \n",
            " 32  overdue_interval     4146 non-null   float64       \n",
            " 33  ind_overdue          4146 non-null   int64         \n",
            " 34  region_0             4146 non-null   bool          \n",
            " 35  region_1             4146 non-null   bool          \n",
            " 36  region_2             4146 non-null   bool          \n",
            " 37  region_3             4146 non-null   bool          \n",
            " 38  region_4             4146 non-null   bool          \n",
            " 39  region_5             4146 non-null   bool          \n",
            " 40  region_6             4146 non-null   bool          \n",
            " 41  region_7             4146 non-null   bool          \n",
            "dtypes: bool(9), datetime64[ns](3), float64(7), int64(22), object(1)\n",
            "memory usage: 1.2+ MB\n"
          ]
        }
      ],
      "source": [
        "df.info()"
      ]
    },
    {
      "cell_type": "code",
      "source": [
        "df['payment_type_5'].value_counts()"
      ],
      "metadata": {
        "colab": {
          "base_uri": "https://localhost:8080/"
        },
        "id": "EwpirZb8uEQo",
        "outputId": "46a590f2-899f-476f-def3-91c911812f73"
      },
      "execution_count": 44,
      "outputs": [
        {
          "output_type": "execute_result",
          "data": {
            "text/plain": [
              "0    4146\n",
              "Name: payment_type_5, dtype: int64"
            ]
          },
          "metadata": {},
          "execution_count": 44
        }
      ]
    },
    {
      "cell_type": "code",
      "source": [
        "df = df.drop('payment_type_5', axis=1)"
      ],
      "metadata": {
        "id": "VSQIhKZDuLLu"
      },
      "execution_count": 45,
      "outputs": []
    },
    {
      "cell_type": "code",
      "execution_count": 46,
      "metadata": {
        "colab": {
          "base_uri": "https://localhost:8080/"
        },
        "id": "DMNMxS7M6rMI",
        "outputId": "be56dc39-2499-4dbe-8834-97e90cf2e991"
      },
      "outputs": [
        {
          "output_type": "execute_result",
          "data": {
            "text/plain": [
              "3.0     806\n",
              "6.0     521\n",
              "1.0     496\n",
              "2.0     489\n",
              "5.0     335\n",
              "4.0     287\n",
              "7.0     205\n",
              "8.0     176\n",
              "9.0     152\n",
              "10.0    122\n",
              "11.0     72\n",
              "12.0     69\n",
              "13.0     43\n",
              "14.0     40\n",
              "16.0     28\n",
              "15.0     22\n",
              "17.0     19\n",
              "18.0      9\n",
              "19.0      3\n",
              "20.0      2\n",
              "21.0      2\n",
              "Name: past_billings_cnt, dtype: int64"
            ]
          },
          "metadata": {},
          "execution_count": 46
        }
      ],
      "source": [
        "# обработка признака 15 (past_billings_cnt - количество ранее оплаченных счетов на погашение займа)\n",
        "df['past_billings_cnt'].value_counts()"
      ]
    },
    {
      "cell_type": "code",
      "execution_count": 47,
      "metadata": {
        "id": "vufHD9Cm6rOz"
      },
      "outputs": [],
      "source": [
        "   # заполнение пропусков нулями\n",
        "df['past_billings_cnt'].fillna(0, inplace=True)"
      ]
    },
    {
      "cell_type": "code",
      "execution_count": 48,
      "metadata": {
        "id": "ZNZeojmw7SwI"
      },
      "outputs": [],
      "source": [
        "df['past_billings_cnt'] = df['past_billings_cnt'].astype(int)"
      ]
    },
    {
      "cell_type": "code",
      "source": [
        "# обработка признака 'gender'\n",
        "df['gender']= LabelEncoder().fit_transform(df['gender'])\n",
        "df['gender'].value_counts()"
      ],
      "metadata": {
        "colab": {
          "base_uri": "https://localhost:8080/"
        },
        "id": "2L2bwq1tfVP7",
        "outputId": "cd1e74e9-3bbb-4c9e-98dd-eddeeffae573"
      },
      "execution_count": 49,
      "outputs": [
        {
          "output_type": "execute_result",
          "data": {
            "text/plain": [
              "0    3560\n",
              "1     586\n",
              "Name: gender, dtype: int64"
            ]
          },
          "metadata": {},
          "execution_count": 49
        }
      ]
    },
    {
      "cell_type": "code",
      "execution_count": 50,
      "metadata": {
        "colab": {
          "base_uri": "https://localhost:8080/"
        },
        "id": "fS7ikMz_N244",
        "outputId": "79b0ed71-aa70-4d2c-e5b1-62cd34058b86"
      },
      "outputs": [
        {
          "output_type": "execute_result",
          "data": {
            "text/plain": [
              "loanKey                   0\n",
              "rep_loan_date             0\n",
              "first_loan                0\n",
              "dpd_5_cnt                 0\n",
              "dpd_15_cnt                0\n",
              "dpd_30_cnt                0\n",
              "first_overdue_date     3473\n",
              "close_loans_cnt           0\n",
              "TraderKey                 0\n",
              "payment_type_0            0\n",
              "payment_type_1            0\n",
              "payment_type_2            0\n",
              "payment_type_3            0\n",
              "payment_type_4            0\n",
              "past_billings_cnt         0\n",
              "score_1                 648\n",
              "score_2                3909\n",
              "age                       0\n",
              "gender                    0\n",
              "bad_flag                  0\n",
              "rep_loan_year             0\n",
              "rep_loan_month            0\n",
              "rep_loan_day              0\n",
              "first_loan_year           0\n",
              "first_loan_month          0\n",
              "first_loan_day            0\n",
              "loans_interval            0\n",
              "age_cat                   0\n",
              "first_overdue_year        0\n",
              "first_overdue_month       0\n",
              "first_overdue_day         0\n",
              "overdue_interval          0\n",
              "ind_overdue               0\n",
              "region_0                  0\n",
              "region_1                  0\n",
              "region_2                  0\n",
              "region_3                  0\n",
              "region_4                  0\n",
              "region_5                  0\n",
              "region_6                  0\n",
              "region_7                  0\n",
              "dtype: int64"
            ]
          },
          "metadata": {},
          "execution_count": 50
        }
      ],
      "source": [
        "# оценка наличия пропусков после преобразований\n",
        "df.isnull().sum()"
      ]
    },
    {
      "cell_type": "code",
      "execution_count": 51,
      "metadata": {
        "colab": {
          "base_uri": "https://localhost:8080/"
        },
        "id": "NZqYkgwqN27a",
        "outputId": "0bf40663-e02f-4e1f-c94a-892ff4bf95dd"
      },
      "outputs": [
        {
          "output_type": "stream",
          "name": "stdout",
          "text": [
            "<class 'pandas.core.frame.DataFrame'>\n",
            "Int64Index: 4146 entries, 0 to 4156\n",
            "Data columns (total 41 columns):\n",
            " #   Column               Non-Null Count  Dtype         \n",
            "---  ------               --------------  -----         \n",
            " 0   loanKey              4146 non-null   int64         \n",
            " 1   rep_loan_date        4146 non-null   datetime64[ns]\n",
            " 2   first_loan           4146 non-null   datetime64[ns]\n",
            " 3   dpd_5_cnt            4146 non-null   int64         \n",
            " 4   dpd_15_cnt           4146 non-null   int64         \n",
            " 5   dpd_30_cnt           4146 non-null   int64         \n",
            " 6   first_overdue_date   673 non-null    datetime64[ns]\n",
            " 7   close_loans_cnt      4146 non-null   int64         \n",
            " 8   TraderKey            4146 non-null   int64         \n",
            " 9   payment_type_0       4146 non-null   int64         \n",
            " 10  payment_type_1       4146 non-null   int64         \n",
            " 11  payment_type_2       4146 non-null   int64         \n",
            " 12  payment_type_3       4146 non-null   int64         \n",
            " 13  payment_type_4       4146 non-null   int64         \n",
            " 14  past_billings_cnt    4146 non-null   int64         \n",
            " 15  score_1              3498 non-null   float64       \n",
            " 16  score_2              237 non-null    float64       \n",
            " 17  age                  4146 non-null   int64         \n",
            " 18  gender               4146 non-null   int64         \n",
            " 19  bad_flag             4146 non-null   int64         \n",
            " 20  rep_loan_year        4146 non-null   int64         \n",
            " 21  rep_loan_month       4146 non-null   int64         \n",
            " 22  rep_loan_day         4146 non-null   int64         \n",
            " 23  first_loan_year      4146 non-null   int64         \n",
            " 24  first_loan_month     4146 non-null   int64         \n",
            " 25  first_loan_day       4146 non-null   int64         \n",
            " 26  loans_interval       4146 non-null   int64         \n",
            " 27  age_cat              4146 non-null   object        \n",
            " 28  first_overdue_year   4146 non-null   float64       \n",
            " 29  first_overdue_month  4146 non-null   float64       \n",
            " 30  first_overdue_day    4146 non-null   float64       \n",
            " 31  overdue_interval     4146 non-null   float64       \n",
            " 32  ind_overdue          4146 non-null   int64         \n",
            " 33  region_0             4146 non-null   bool          \n",
            " 34  region_1             4146 non-null   bool          \n",
            " 35  region_2             4146 non-null   bool          \n",
            " 36  region_3             4146 non-null   bool          \n",
            " 37  region_4             4146 non-null   bool          \n",
            " 38  region_5             4146 non-null   bool          \n",
            " 39  region_6             4146 non-null   bool          \n",
            " 40  region_7             4146 non-null   bool          \n",
            "dtypes: bool(8), datetime64[ns](3), float64(6), int64(23), object(1)\n",
            "memory usage: 1.2+ MB\n"
          ]
        }
      ],
      "source": [
        "df.info()"
      ]
    },
    {
      "cell_type": "markdown",
      "metadata": {
        "id": "AN6_HdXt8Nqx"
      },
      "source": [
        "## Балансировка данных"
      ]
    },
    {
      "cell_type": "code",
      "execution_count": 52,
      "metadata": {
        "colab": {
          "base_uri": "https://localhost:8080/"
        },
        "id": "YPHBIgJuN3Br",
        "outputId": "ae6a9dcc-852b-4673-f54f-f68da66762aa"
      },
      "outputs": [
        {
          "output_type": "execute_result",
          "data": {
            "text/plain": [
              "0    3731\n",
              "1     415\n",
              "Name: bad_flag, dtype: int64"
            ]
          },
          "metadata": {},
          "execution_count": 52
        }
      ],
      "source": [
        "df['bad_flag'].value_counts()"
      ]
    },
    {
      "cell_type": "markdown",
      "metadata": {
        "id": "cdMkbz0n8Wdq"
      },
      "source": [
        "   => датасет сильно разбалансирован в сторону добросовестных заемщиков"
      ]
    },
    {
      "cell_type": "code",
      "execution_count": 53,
      "metadata": {
        "colab": {
          "base_uri": "https://localhost:8080/"
        },
        "id": "JbPTvb168RQw",
        "outputId": "d6562df8-e4c9-422b-bb79-b3615b0ecf1d"
      },
      "outputs": [
        {
          "output_type": "execute_result",
          "data": {
            "text/plain": [
              "1    3731\n",
              "0    3731\n",
              "Name: bad_flag, dtype: int64"
            ]
          },
          "metadata": {},
          "execution_count": 53
        }
      ],
      "source": [
        "df_0 = df[df['bad_flag'] == 0]\n",
        "df_1 = df[df['bad_flag'] == 1]\n",
        "# oversampling подсета df_1:\n",
        "df_1_over = resample(df_1, replace=True, n_samples=len(df_0), random_state=23)\n",
        "data = pd.concat([df_1_over, df_0])\n",
        "data['bad_flag'].value_counts()"
      ]
    },
    {
      "cell_type": "code",
      "execution_count": 54,
      "metadata": {
        "colab": {
          "base_uri": "https://localhost:8080/"
        },
        "id": "tTK0Kweo8RTC",
        "outputId": "4d30868a-988c-420b-b055-1499125e117e"
      },
      "outputs": [
        {
          "output_type": "execute_result",
          "data": {
            "text/plain": [
              "1518    0\n",
              "850     1\n",
              "2617    0\n",
              "3840    0\n",
              "4148    0\n",
              "Name: bad_flag, dtype: int64"
            ]
          },
          "metadata": {},
          "execution_count": 54
        }
      ],
      "source": [
        "data = shuffle(data, random_state=23)\n",
        "data['bad_flag'].head()"
      ]
    },
    {
      "cell_type": "markdown",
      "metadata": {
        "id": "kfRwacbv3UFA"
      },
      "source": [
        "## Разбиение и нормализация данных"
      ]
    },
    {
      "cell_type": "code",
      "execution_count": 55,
      "metadata": {
        "colab": {
          "base_uri": "https://localhost:8080/"
        },
        "id": "NhrVVMzJSqN2",
        "outputId": "746282d3-d35a-4812-afd5-804f1823dadb"
      },
      "outputs": [
        {
          "output_type": "stream",
          "name": "stdout",
          "text": [
            "<class 'pandas.core.frame.DataFrame'>\n",
            "Int64Index: 7462 entries, 1518 to 3568\n",
            "Data columns (total 41 columns):\n",
            " #   Column               Non-Null Count  Dtype         \n",
            "---  ------               --------------  -----         \n",
            " 0   loanKey              7462 non-null   int64         \n",
            " 1   rep_loan_date        7462 non-null   datetime64[ns]\n",
            " 2   first_loan           7462 non-null   datetime64[ns]\n",
            " 3   dpd_5_cnt            7462 non-null   int64         \n",
            " 4   dpd_15_cnt           7462 non-null   int64         \n",
            " 5   dpd_30_cnt           7462 non-null   int64         \n",
            " 6   first_overdue_date   1729 non-null   datetime64[ns]\n",
            " 7   close_loans_cnt      7462 non-null   int64         \n",
            " 8   TraderKey            7462 non-null   int64         \n",
            " 9   payment_type_0       7462 non-null   int64         \n",
            " 10  payment_type_1       7462 non-null   int64         \n",
            " 11  payment_type_2       7462 non-null   int64         \n",
            " 12  payment_type_3       7462 non-null   int64         \n",
            " 13  payment_type_4       7462 non-null   int64         \n",
            " 14  past_billings_cnt    7462 non-null   int64         \n",
            " 15  score_1              5798 non-null   float64       \n",
            " 16  score_2              542 non-null    float64       \n",
            " 17  age                  7462 non-null   int64         \n",
            " 18  gender               7462 non-null   int64         \n",
            " 19  bad_flag             7462 non-null   int64         \n",
            " 20  rep_loan_year        7462 non-null   int64         \n",
            " 21  rep_loan_month       7462 non-null   int64         \n",
            " 22  rep_loan_day         7462 non-null   int64         \n",
            " 23  first_loan_year      7462 non-null   int64         \n",
            " 24  first_loan_month     7462 non-null   int64         \n",
            " 25  first_loan_day       7462 non-null   int64         \n",
            " 26  loans_interval       7462 non-null   int64         \n",
            " 27  age_cat              7462 non-null   object        \n",
            " 28  first_overdue_year   7462 non-null   float64       \n",
            " 29  first_overdue_month  7462 non-null   float64       \n",
            " 30  first_overdue_day    7462 non-null   float64       \n",
            " 31  overdue_interval     7462 non-null   float64       \n",
            " 32  ind_overdue          7462 non-null   int64         \n",
            " 33  region_0             7462 non-null   bool          \n",
            " 34  region_1             7462 non-null   bool          \n",
            " 35  region_2             7462 non-null   bool          \n",
            " 36  region_3             7462 non-null   bool          \n",
            " 37  region_4             7462 non-null   bool          \n",
            " 38  region_5             7462 non-null   bool          \n",
            " 39  region_6             7462 non-null   bool          \n",
            " 40  region_7             7462 non-null   bool          \n",
            "dtypes: bool(8), datetime64[ns](3), float64(6), int64(23), object(1)\n",
            "memory usage: 2.0+ MB\n"
          ]
        }
      ],
      "source": [
        "data.info()"
      ]
    },
    {
      "cell_type": "code",
      "execution_count": 56,
      "metadata": {
        "id": "DMddQOQZ8RVY"
      },
      "outputs": [],
      "source": [
        "# первичный отбор релевантных признаков для обучения моделей\n",
        "features = ['dpd_5_cnt', 'dpd_15_cnt', 'dpd_30_cnt', 'close_loans_cnt', 'TraderKey',\n",
        "           'payment_type_0', 'payment_type_1', 'payment_type_2', 'payment_type_3',\n",
        "           'payment_type_4', 'past_billings_cnt', 'age', 'gender',\n",
        "           'rep_loan_year', 'rep_loan_month', 'first_loan_year', 'first_loan_month',\n",
        "           'first_overdue_year', 'first_overdue_month',\n",
        "           'loans_interval', 'ind_overdue', 'region_0', 'region_1',\n",
        "           'region_2', 'region_3', 'region_4', 'region_5', 'region_6', 'region_7']"
      ]
    },
    {
      "cell_type": "code",
      "execution_count": 57,
      "metadata": {
        "id": "yiXS6_qz8RXi"
      },
      "outputs": [],
      "source": [
        "y = data['bad_flag']\n",
        "X = data[features]"
      ]
    },
    {
      "cell_type": "code",
      "source": [
        "sns.set(rc={'figure.figsize':(10, 8)})\n",
        "sns.heatmap(X.corr(), annot=False)"
      ],
      "metadata": {
        "colab": {
          "base_uri": "https://localhost:8080/",
          "height": 847
        },
        "id": "jWQvDzuPts27",
        "outputId": "5725785b-03d1-4eb0-f20a-7e310fe6597f"
      },
      "execution_count": 58,
      "outputs": [
        {
          "output_type": "execute_result",
          "data": {
            "text/plain": [
              "<Axes: >"
            ]
          },
          "metadata": {},
          "execution_count": 58
        },
        {
          "output_type": "display_data",
          "data": {
            "text/plain": [
              "<Figure size 1000x800 with 2 Axes>"
            ],
            "image/png": "[encoded data removed]"
          },
          "metadata": {}
        }
      ]
    },
    {
      "cell_type": "code",
      "source": [
        "X[['past_billings_cnt', 'loans_interval']].corr()"
      ],
      "metadata": {
        "colab": {
          "base_uri": "https://localhost:8080/",
          "height": 112
        },
        "id": "Ej-f5gmBu9h0",
        "outputId": "cd50f985-dcc3-410d-d29b-1bbb855f6885"
      },
      "execution_count": 59,
      "outputs": [
        {
          "output_type": "execute_result",
          "data": {
            "text/plain": [
              "                   past_billings_cnt  loans_interval\n",
              "past_billings_cnt           1.000000        0.897823\n",
              "loans_interval              0.897823        1.000000"
            ],
            "text/html": [
              "\n",
              "  <div id=\"df-43134c76-6ebf-4396-82a1-fd3402fd2a9f\">\n",
              "    <div class=\"colab-df-container\">\n",
              "      <div>\n",
              "<style scoped>\n",
              "    .dataframe tbody tr th:only-of-type {\n",
              "        vertical-align: middle;\n",
              "    }\n",
              "\n",
              "    .dataframe tbody tr th {\n",
              "        vertical-align: top;\n",
              "    }\n",
              "\n",
              "    .dataframe thead th {\n",
              "        text-align: right;\n",
              "    }\n",
              "</style>\n",
              "<table border=\"1\" class=\"dataframe\">\n",
              "  <thead>\n",
              "    <tr style=\"text-align: right;\">\n",
              "      <th></th>\n",
              "      <th>past_billings_cnt</th>\n",
              "      <th>loans_interval</th>\n",
              "    </tr>\n",
              "  </thead>\n",
              "  <tbody>\n",
              "    <tr>\n",
              "      <th>past_billings_cnt</th>\n",
              "      <td>1.000000</td>\n",
              "      <td>0.897823</td>\n",
              "    </tr>\n",
              "    <tr>\n",
              "      <th>loans_interval</th>\n",
              "      <td>0.897823</td>\n",
              "      <td>1.000000</td>\n",
              "    </tr>\n",
              "  </tbody>\n",
              "</table>\n",
              "</div>\n",
              "      <button class=\"colab-df-convert\" onclick=\"convertToInteractive('df-43134c76-6ebf-4396-82a1-fd3402fd2a9f')\"\n",
              "              title=\"Convert this dataframe to an interactive table.\"\n",
              "              style=\"display:none;\">\n",
              "        \n",
              "  <svg xmlns=\"http://www.w3.org/2000/svg\" height=\"24px\"viewBox=\"0 0 24 24\"\n",
              "       width=\"24px\">\n",
              "    <path d=\"M0 0h24v24H0V0z\" fill=\"none\"/>\n",
              "    <path d=\"M18.56 5.44l.94 2.06.94-2.06 2.06-.94-2.06-.94-.94-2.06-.94 2.06-2.06.94zm-11 1L8.5 8.5l.94-2.06 2.06-.94-2.06-.94L8.5 2.5l-.94 2.06-2.06.94zm10 10l.94 2.06.94-2.06 2.06-.94-2.06-.94-.94-2.06-.94 2.06-2.06.94z\"/><path d=\"M17.41 7.96l-1.37-1.37c-.4-.4-.92-.59-1.43-.59-.52 0-1.04.2-1.43.59L10.3 9.45l-7.72 7.72c-.78.78-.78 2.05 0 2.83L4 21.41c.39.39.9.59 1.41.59.51 0 1.02-.2 1.41-.59l7.78-7.78 2.81-2.81c.8-.78.8-2.07 0-2.86zM5.41 20L4 18.59l7.72-7.72 1.47 1.35L5.41 20z\"/>\n",
              "  </svg>\n",
              "      </button>\n",
              "      \n",
              "  <style>\n",
              "    .colab-df-container {\n",
              "      display:flex;\n",
              "      flex-wrap:wrap;\n",
              "      gap: 12px;\n",
              "    }\n",
              "\n",
              "    .colab-df-convert {\n",
              "      background-color: #E8F0FE;\n",
              "      border: none;\n",
              "      border-radius: 50%;\n",
              "      cursor: pointer;\n",
              "      display: none;\n",
              "      fill: #1967D2;\n",
              "      height: 32px;\n",
              "      padding: 0 0 0 0;\n",
              "      width: 32px;\n",
              "    }\n",
              "\n",
              "    .colab-df-convert:hover {\n",
              "      background-color: #E2EBFA;\n",
              "      box-shadow: 0px 1px 2px rgba(60, 64, 67, 0.3), 0px 1px 3px 1px rgba(60, 64, 67, 0.15);\n",
              "      fill: #174EA6;\n",
              "    }\n",
              "\n",
              "    [theme=dark] .colab-df-convert {\n",
              "      background-color: #3B4455;\n",
              "      fill: #D2E3FC;\n",
              "    }\n",
              "\n",
              "    [theme=dark] .colab-df-convert:hover {\n",
              "      background-color: #434B5C;\n",
              "      box-shadow: 0px 1px 3px 1px rgba(0, 0, 0, 0.15);\n",
              "      filter: drop-shadow(0px 1px 2px rgba(0, 0, 0, 0.3));\n",
              "      fill: #FFFFFF;\n",
              "    }\n",
              "  </style>\n",
              "\n",
              "      <script>\n",
              "        const buttonEl =\n",
              "          document.querySelector('#df-43134c76-6ebf-4396-82a1-fd3402fd2a9f button.colab-df-convert');\n",
              "        buttonEl.style.display =\n",
              "          google.colab.kernel.accessAllowed ? 'block' : 'none';\n",
              "\n",
              "        async function convertToInteractive(key) {\n",
              "          const element = document.querySelector('#df-43134c76-6ebf-4396-82a1-fd3402fd2a9f');\n",
              "          const dataTable =\n",
              "            await google.colab.kernel.invokeFunction('convertToInteractive',\n",
              "                                                     [key], {});\n",
              "          if (!dataTable) return;\n",
              "\n",
              "          const docLinkHtml = 'Like what you see? Visit the ' +\n",
              "            '<a target=\"_blank\" href=https://colab.research.google.com/notebooks/data_table.ipynb>data table notebook</a>'\n",
              "            + ' to learn more about interactive tables.';\n",
              "          element.innerHTML = '';\n",
              "          dataTable['output_type'] = 'display_data';\n",
              "          await google.colab.output.renderOutput(dataTable, element);\n",
              "          const docLink = document.createElement('div');\n",
              "          docLink.innerHTML = docLinkHtml;\n",
              "          element.appendChild(docLink);\n",
              "        }\n",
              "      </script>\n",
              "    </div>\n",
              "  </div>\n",
              "  "
            ]
          },
          "metadata": {},
          "execution_count": 59
        }
      ]
    },
    {
      "cell_type": "code",
      "source": [
        "X[['ind_overdue', 'first_overdue_year']].corr()"
      ],
      "metadata": {
        "colab": {
          "base_uri": "https://localhost:8080/",
          "height": 112
        },
        "id": "WD73gJhSP4qx",
        "outputId": "de060e05-0ced-4190-bfaf-58949b84cb0c"
      },
      "execution_count": 60,
      "outputs": [
        {
          "output_type": "execute_result",
          "data": {
            "text/plain": [
              "                    ind_overdue  first_overdue_year\n",
              "ind_overdue                 1.0                -1.0\n",
              "first_overdue_year         -1.0                 1.0"
            ],
            "text/html": [
              "\n",
              "  <div id=\"df-ef2889d6-6f40-4703-a20d-dfb729af452a\">\n",
              "    <div class=\"colab-df-container\">\n",
              "      <div>\n",
              "<style scoped>\n",
              "    .dataframe tbody tr th:only-of-type {\n",
              "        vertical-align: middle;\n",
              "    }\n",
              "\n",
              "    .dataframe tbody tr th {\n",
              "        vertical-align: top;\n",
              "    }\n",
              "\n",
              "    .dataframe thead th {\n",
              "        text-align: right;\n",
              "    }\n",
              "</style>\n",
              "<table border=\"1\" class=\"dataframe\">\n",
              "  <thead>\n",
              "    <tr style=\"text-align: right;\">\n",
              "      <th></th>\n",
              "      <th>ind_overdue</th>\n",
              "      <th>first_overdue_year</th>\n",
              "    </tr>\n",
              "  </thead>\n",
              "  <tbody>\n",
              "    <tr>\n",
              "      <th>ind_overdue</th>\n",
              "      <td>1.0</td>\n",
              "      <td>-1.0</td>\n",
              "    </tr>\n",
              "    <tr>\n",
              "      <th>first_overdue_year</th>\n",
              "      <td>-1.0</td>\n",
              "      <td>1.0</td>\n",
              "    </tr>\n",
              "  </tbody>\n",
              "</table>\n",
              "</div>\n",
              "      <button class=\"colab-df-convert\" onclick=\"convertToInteractive('df-ef2889d6-6f40-4703-a20d-dfb729af452a')\"\n",
              "              title=\"Convert this dataframe to an interactive table.\"\n",
              "              style=\"display:none;\">\n",
              "        \n",
              "  <svg xmlns=\"http://www.w3.org/2000/svg\" height=\"24px\"viewBox=\"0 0 24 24\"\n",
              "       width=\"24px\">\n",
              "    <path d=\"M0 0h24v24H0V0z\" fill=\"none\"/>\n",
              "    <path d=\"M18.56 5.44l.94 2.06.94-2.06 2.06-.94-2.06-.94-.94-2.06-.94 2.06-2.06.94zm-11 1L8.5 8.5l.94-2.06 2.06-.94-2.06-.94L8.5 2.5l-.94 2.06-2.06.94zm10 10l.94 2.06.94-2.06 2.06-.94-2.06-.94-.94-2.06-.94 2.06-2.06.94z\"/><path d=\"M17.41 7.96l-1.37-1.37c-.4-.4-.92-.59-1.43-.59-.52 0-1.04.2-1.43.59L10.3 9.45l-7.72 7.72c-.78.78-.78 2.05 0 2.83L4 21.41c.39.39.9.59 1.41.59.51 0 1.02-.2 1.41-.59l7.78-7.78 2.81-2.81c.8-.78.8-2.07 0-2.86zM5.41 20L4 18.59l7.72-7.72 1.47 1.35L5.41 20z\"/>\n",
              "  </svg>\n",
              "      </button>\n",
              "      \n",
              "  <style>\n",
              "    .colab-df-container {\n",
              "      display:flex;\n",
              "      flex-wrap:wrap;\n",
              "      gap: 12px;\n",
              "    }\n",
              "\n",
              "    .colab-df-convert {\n",
              "      background-color: #E8F0FE;\n",
              "      border: none;\n",
              "      border-radius: 50%;\n",
              "      cursor: pointer;\n",
              "      display: none;\n",
              "      fill: #1967D2;\n",
              "      height: 32px;\n",
              "      padding: 0 0 0 0;\n",
              "      width: 32px;\n",
              "    }\n",
              "\n",
              "    .colab-df-convert:hover {\n",
              "      background-color: #E2EBFA;\n",
              "      box-shadow: 0px 1px 2px rgba(60, 64, 67, 0.3), 0px 1px 3px 1px rgba(60, 64, 67, 0.15);\n",
              "      fill: #174EA6;\n",
              "    }\n",
              "\n",
              "    [theme=dark] .colab-df-convert {\n",
              "      background-color: #3B4455;\n",
              "      fill: #D2E3FC;\n",
              "    }\n",
              "\n",
              "    [theme=dark] .colab-df-convert:hover {\n",
              "      background-color: #434B5C;\n",
              "      box-shadow: 0px 1px 3px 1px rgba(0, 0, 0, 0.15);\n",
              "      filter: drop-shadow(0px 1px 2px rgba(0, 0, 0, 0.3));\n",
              "      fill: #FFFFFF;\n",
              "    }\n",
              "  </style>\n",
              "\n",
              "      <script>\n",
              "        const buttonEl =\n",
              "          document.querySelector('#df-ef2889d6-6f40-4703-a20d-dfb729af452a button.colab-df-convert');\n",
              "        buttonEl.style.display =\n",
              "          google.colab.kernel.accessAllowed ? 'block' : 'none';\n",
              "\n",
              "        async function convertToInteractive(key) {\n",
              "          const element = document.querySelector('#df-ef2889d6-6f40-4703-a20d-dfb729af452a');\n",
              "          const dataTable =\n",
              "            await google.colab.kernel.invokeFunction('convertToInteractive',\n",
              "                                                     [key], {});\n",
              "          if (!dataTable) return;\n",
              "\n",
              "          const docLinkHtml = 'Like what you see? Visit the ' +\n",
              "            '<a target=\"_blank\" href=https://colab.research.google.com/notebooks/data_table.ipynb>data table notebook</a>'\n",
              "            + ' to learn more about interactive tables.';\n",
              "          element.innerHTML = '';\n",
              "          dataTable['output_type'] = 'display_data';\n",
              "          await google.colab.output.renderOutput(dataTable, element);\n",
              "          const docLink = document.createElement('div');\n",
              "          docLink.innerHTML = docLinkHtml;\n",
              "          element.appendChild(docLink);\n",
              "        }\n",
              "      </script>\n",
              "    </div>\n",
              "  </div>\n",
              "  "
            ]
          },
          "metadata": {},
          "execution_count": 60
        }
      ]
    },
    {
      "cell_type": "code",
      "source": [
        "X[['first_overdue_month', 'first_overdue_year']].corr()"
      ],
      "metadata": {
        "colab": {
          "base_uri": "https://localhost:8080/",
          "height": 112
        },
        "id": "rlZwrVkzQQ9E",
        "outputId": "f3e0a4a0-66f0-494a-f1b5-8d8a3ac33002"
      },
      "execution_count": 61,
      "outputs": [
        {
          "output_type": "execute_result",
          "data": {
            "text/plain": [
              "                     first_overdue_month  first_overdue_year\n",
              "first_overdue_month             1.000000            0.822854\n",
              "first_overdue_year              0.822854            1.000000"
            ],
            "text/html": [
              "\n",
              "  <div id=\"df-9e28fa2b-0328-4fa5-a701-a710f40e1e9a\">\n",
              "    <div class=\"colab-df-container\">\n",
              "      <div>\n",
              "<style scoped>\n",
              "    .dataframe tbody tr th:only-of-type {\n",
              "        vertical-align: middle;\n",
              "    }\n",
              "\n",
              "    .dataframe tbody tr th {\n",
              "        vertical-align: top;\n",
              "    }\n",
              "\n",
              "    .dataframe thead th {\n",
              "        text-align: right;\n",
              "    }\n",
              "</style>\n",
              "<table border=\"1\" class=\"dataframe\">\n",
              "  <thead>\n",
              "    <tr style=\"text-align: right;\">\n",
              "      <th></th>\n",
              "      <th>first_overdue_month</th>\n",
              "      <th>first_overdue_year</th>\n",
              "    </tr>\n",
              "  </thead>\n",
              "  <tbody>\n",
              "    <tr>\n",
              "      <th>first_overdue_month</th>\n",
              "      <td>1.000000</td>\n",
              "      <td>0.822854</td>\n",
              "    </tr>\n",
              "    <tr>\n",
              "      <th>first_overdue_year</th>\n",
              "      <td>0.822854</td>\n",
              "      <td>1.000000</td>\n",
              "    </tr>\n",
              "  </tbody>\n",
              "</table>\n",
              "</div>\n",
              "      <button class=\"colab-df-convert\" onclick=\"convertToInteractive('df-9e28fa2b-0328-4fa5-a701-a710f40e1e9a')\"\n",
              "              title=\"Convert this dataframe to an interactive table.\"\n",
              "              style=\"display:none;\">\n",
              "        \n",
              "  <svg xmlns=\"http://www.w3.org/2000/svg\" height=\"24px\"viewBox=\"0 0 24 24\"\n",
              "       width=\"24px\">\n",
              "    <path d=\"M0 0h24v24H0V0z\" fill=\"none\"/>\n",
              "    <path d=\"M18.56 5.44l.94 2.06.94-2.06 2.06-.94-2.06-.94-.94-2.06-.94 2.06-2.06.94zm-11 1L8.5 8.5l.94-2.06 2.06-.94-2.06-.94L8.5 2.5l-.94 2.06-2.06.94zm10 10l.94 2.06.94-2.06 2.06-.94-2.06-.94-.94-2.06-.94 2.06-2.06.94z\"/><path d=\"M17.41 7.96l-1.37-1.37c-.4-.4-.92-.59-1.43-.59-.52 0-1.04.2-1.43.59L10.3 9.45l-7.72 7.72c-.78.78-.78 2.05 0 2.83L4 21.41c.39.39.9.59 1.41.59.51 0 1.02-.2 1.41-.59l7.78-7.78 2.81-2.81c.8-.78.8-2.07 0-2.86zM5.41 20L4 18.59l7.72-7.72 1.47 1.35L5.41 20z\"/>\n",
              "  </svg>\n",
              "      </button>\n",
              "      \n",
              "  <style>\n",
              "    .colab-df-container {\n",
              "      display:flex;\n",
              "      flex-wrap:wrap;\n",
              "      gap: 12px;\n",
              "    }\n",
              "\n",
              "    .colab-df-convert {\n",
              "      background-color: #E8F0FE;\n",
              "      border: none;\n",
              "      border-radius: 50%;\n",
              "      cursor: pointer;\n",
              "      display: none;\n",
              "      fill: #1967D2;\n",
              "      height: 32px;\n",
              "      padding: 0 0 0 0;\n",
              "      width: 32px;\n",
              "    }\n",
              "\n",
              "    .colab-df-convert:hover {\n",
              "      background-color: #E2EBFA;\n",
              "      box-shadow: 0px 1px 2px rgba(60, 64, 67, 0.3), 0px 1px 3px 1px rgba(60, 64, 67, 0.15);\n",
              "      fill: #174EA6;\n",
              "    }\n",
              "\n",
              "    [theme=dark] .colab-df-convert {\n",
              "      background-color: #3B4455;\n",
              "      fill: #D2E3FC;\n",
              "    }\n",
              "\n",
              "    [theme=dark] .colab-df-convert:hover {\n",
              "      background-color: #434B5C;\n",
              "      box-shadow: 0px 1px 3px 1px rgba(0, 0, 0, 0.15);\n",
              "      filter: drop-shadow(0px 1px 2px rgba(0, 0, 0, 0.3));\n",
              "      fill: #FFFFFF;\n",
              "    }\n",
              "  </style>\n",
              "\n",
              "      <script>\n",
              "        const buttonEl =\n",
              "          document.querySelector('#df-9e28fa2b-0328-4fa5-a701-a710f40e1e9a button.colab-df-convert');\n",
              "        buttonEl.style.display =\n",
              "          google.colab.kernel.accessAllowed ? 'block' : 'none';\n",
              "\n",
              "        async function convertToInteractive(key) {\n",
              "          const element = document.querySelector('#df-9e28fa2b-0328-4fa5-a701-a710f40e1e9a');\n",
              "          const dataTable =\n",
              "            await google.colab.kernel.invokeFunction('convertToInteractive',\n",
              "                                                     [key], {});\n",
              "          if (!dataTable) return;\n",
              "\n",
              "          const docLinkHtml = 'Like what you see? Visit the ' +\n",
              "            '<a target=\"_blank\" href=https://colab.research.google.com/notebooks/data_table.ipynb>data table notebook</a>'\n",
              "            + ' to learn more about interactive tables.';\n",
              "          element.innerHTML = '';\n",
              "          dataTable['output_type'] = 'display_data';\n",
              "          await google.colab.output.renderOutput(dataTable, element);\n",
              "          const docLink = document.createElement('div');\n",
              "          docLink.innerHTML = docLinkHtml;\n",
              "          element.appendChild(docLink);\n",
              "        }\n",
              "      </script>\n",
              "    </div>\n",
              "  </div>\n",
              "  "
            ]
          },
          "metadata": {},
          "execution_count": 61
        }
      ]
    },
    {
      "cell_type": "code",
      "source": [
        "# удаляем признак past_billings_cnt из-за высокой корреляции с loan_interval,\n",
        "# удаляем признак first_overdue_year из-за высокой корреляции с 2 другими признаками\n",
        "X = X.drop(['past_billings_cnt', 'first_overdue_year'], axis=1)"
      ],
      "metadata": {
        "id": "OnSFhPBAvTBY"
      },
      "execution_count": 62,
      "outputs": []
    },
    {
      "cell_type": "code",
      "source": [
        "X_train, X_test, y_train, y_test = train_test_split(X, y, test_size=0.25, random_state=23)"
      ],
      "metadata": {
        "id": "RIH5cMD-VhcM"
      },
      "execution_count": 63,
      "outputs": []
    },
    {
      "cell_type": "code",
      "execution_count": 64,
      "metadata": {
        "colab": {
          "base_uri": "https://localhost:8080/"
        },
        "id": "J-gdvE9v8RZ4",
        "outputId": "729aa1ef-1a2a-4341-ac33-67ce662e23f3"
      },
      "outputs": [
        {
          "output_type": "stream",
          "name": "stdout",
          "text": [
            "Размер обучающей выборки: ((5596, 27), (5596,))\n",
            "Размер тестовой выборки:  ((1866, 27), (1866,))\n"
          ]
        }
      ],
      "source": [
        "print(f'Размер обучающей выборки: {X_train.shape, y_train.shape}')\n",
        "print(f'Размер тестовой выборки:  {X_test.shape, y_test.shape}')"
      ]
    },
    {
      "cell_type": "code",
      "execution_count": 65,
      "metadata": {
        "id": "h6RpU2Tb8RcQ"
      },
      "outputs": [],
      "source": [
        "scaler = MinMaxScaler()\n",
        "X_train = scaler.fit_transform(X_train)\n",
        "X_test = scaler.transform(X_test)"
      ]
    },
    {
      "cell_type": "markdown",
      "metadata": {
        "id": "8cKbqP_dRm24"
      },
      "source": [
        "## Обучение моделей"
      ]
    },
    {
      "cell_type": "markdown",
      "metadata": {
        "id": "oWk1glZrRqIp"
      },
      "source": [
        "### Логистическая регрессия"
      ]
    },
    {
      "cell_type": "code",
      "execution_count": 66,
      "metadata": {
        "colab": {
          "base_uri": "https://localhost:8080/"
        },
        "id": "NrLqJYUiQ9Um",
        "outputId": "3dc5ec9a-83b5-48a8-c5d5-dcee1099caf1"
      },
      "outputs": [
        {
          "output_type": "stream",
          "name": "stdout",
          "text": [
            "Точность модели (accuracy):  67.2 %\n",
            "Точность модели (F1-score):  0.678\n",
            "Точность модели (F2-score):  0.684\n",
            "------------------------------\n",
            "Точность на обучающей выборке (accuracy):  68.01 %\n",
            "Недообучения/переобучения модели не выявлено\n"
          ]
        }
      ],
      "source": [
        "lr = LogisticRegression(solver='newton-cholesky', max_iter=500)\n",
        "lr.fit(X_train, y_train)\n",
        "y_pred_lr = lr.predict(X_test)\n",
        "\n",
        "lr_acc = accuracy_score(y_pred_lr, y_test)\n",
        "lr_f1 = f1_score(y_test, y_pred_lr, average='binary')\n",
        "lr_f2 = fbeta_score(y_test, y_pred_lr, beta=2)     # для данной задачи субъективно recall важнее, чем precision\n",
        "print(\"Точность модели (accuracy): \", round(lr_acc*100, 2), \"%\")\n",
        "print(\"Точность модели (F1-score): \", round(lr_f1, 3))\n",
        "print(\"Точность модели (F2-score): \", round(lr_f2, 3))\n",
        "print(\"------------------------------\")\n",
        "acc_train = round(accuracy_score(lr.predict(X_train), y_train)*100, 2)\n",
        "print(\"Точность на обучающей выборке (accuracy): \", acc_train, \"%\")\n",
        "if lr_acc*0.9 <= acc_train/100 <= lr_acc*1.1:\n",
        "    print(\"Недообучения/переобучения модели не выявлено\")\n",
        "else:\n",
        "    print(\"Выявлено недообучение/переобучение модели!\")"
      ]
    },
    {
      "cell_type": "code",
      "execution_count": 67,
      "metadata": {
        "colab": {
          "base_uri": "https://localhost:8080/",
          "height": 576
        },
        "id": "qRGS42W8fqyw",
        "outputId": "299ee5af-7827-40c2-dcc8-0dea42e1c5e5"
      },
      "outputs": [
        {
          "output_type": "execute_result",
          "data": {
            "text/plain": [
              "[Text(0, 0.5, 'False'), Text(0, 1.5, 'True')]"
            ]
          },
          "metadata": {},
          "execution_count": 67
        },
        {
          "output_type": "display_data",
          "data": {
            "text/plain": [
              "<Figure size 600x500 with 2 Axes>"
            ],
            "image/png": "[encoded data removed]"
          },
          "metadata": {}
        }
      ],
      "source": [
        "# Визуализация матрицы ошибок\n",
        "cf_matrix = confusion_matrix(y_test, y_pred_lr)\n",
        "plt.rcParams['figure.figsize'] = (6,5)\n",
        "ax = sns.heatmap(cf_matrix/np.sum(cf_matrix), annot=True,\n",
        "            fmt='.1%', cmap='Blues')\n",
        "ax.set_title('Матрица ошибок\\n\\n');\n",
        "ax.set_xlabel('\\nПредсказанные значения')\n",
        "ax.set_ylabel('Фактические значения')\n",
        "ax.xaxis.set_ticklabels(['False','True'])\n",
        "ax.yaxis.set_ticklabels(['False','True'])"
      ]
    },
    {
      "cell_type": "code",
      "execution_count": 68,
      "metadata": {
        "colab": {
          "base_uri": "https://localhost:8080/"
        },
        "id": "EoV5I74TfuT7",
        "outputId": "be4452d4-d7af-4c15-ee54-b98aae79bec7"
      },
      "outputs": [
        {
          "output_type": "stream",
          "name": "stdout",
          "text": [
            "              precision    recall  f1-score   support\n",
            "\n",
            "           0       0.68      0.66      0.67       931\n",
            "           1       0.67      0.69      0.68       935\n",
            "\n",
            "    accuracy                           0.67      1866\n",
            "   macro avg       0.67      0.67      0.67      1866\n",
            "weighted avg       0.67      0.67      0.67      1866\n",
            "\n"
          ]
        }
      ],
      "source": [
        "print(classification_report(y_test, y_pred_lr))"
      ]
    },
    {
      "cell_type": "code",
      "execution_count": 69,
      "metadata": {
        "colab": {
          "base_uri": "https://localhost:8080/"
        },
        "id": "VqNqS-jaQ9XY",
        "outputId": "cb165be5-c796-49a7-9d32-18fde19c2233"
      },
      "outputs": [
        {
          "output_type": "stream",
          "name": "stdout",
          "text": [
            "Accuracy при кросс-валидации на 7 фолдах:  67.6 %\n",
            "F1 при кросс-валидации на 7 фолдах:  0.677\n"
          ]
        }
      ],
      "source": [
        "results = model_selection.cross_val_score(lr, X_train, y_train, cv=7, scoring='accuracy')\n",
        "lr_cv_acc = round(results.mean()* 100, 1)\n",
        "print(f'Accuracy при кросс-валидации на 7 фолдах:  {lr_cv_acc} %')\n",
        "\n",
        "results = model_selection.cross_val_score(lr, X_train, y_train, cv=7, scoring='f1')\n",
        "lr_f1_cv = round(results.mean(), 3)\n",
        "print(f'F1 при кросс-валидации на 7 фолдах:  {lr_f1_cv}')"
      ]
    },
    {
      "cell_type": "code",
      "execution_count": 70,
      "metadata": {
        "colab": {
          "base_uri": "https://localhost:8080/",
          "height": 496
        },
        "id": "YjmX_NcZTLfE",
        "outputId": "942d7f06-1ec9-4506-9929-6bd8cc61cb6b"
      },
      "outputs": [
        {
          "output_type": "display_data",
          "data": {
            "text/plain": [
              "<Figure size 600x500 with 1 Axes>"
            ],
            "image/png": "[encoded data removed]"
          },
          "metadata": {}
        }
      ],
      "source": [
        "lr_roc_auc = roc_auc_score(y_test, lr.predict(X_test))\n",
        "fpr, tpr, thresholds = roc_curve(y_test, lr.predict_proba(X_test)[:,1])\n",
        "plt.figure()\n",
        "plt.plot(fpr, tpr, label=f'ROC area = {round(lr_roc_auc, 2)}', color='red')\n",
        "plt.plot([0, 1], [0, 1], 'b--')\n",
        "plt.xlim([0.0, 1.0])\n",
        "plt.ylim([0.0, 1.0])\n",
        "plt.xlabel('FPR')\n",
        "plt.ylabel('TPR')\n",
        "plt.title('Logistic Regression ROC')\n",
        "plt.legend(loc=\"lower right\")\n",
        "plt.show()"
      ]
    },
    {
      "cell_type": "markdown",
      "source": [
        "### Метод опорных векторов"
      ],
      "metadata": {
        "id": "r-15SEVm8NJS"
      }
    },
    {
      "cell_type": "code",
      "execution_count": 71,
      "metadata": {
        "id": "sTjvRhB2TLhj",
        "colab": {
          "base_uri": "https://localhost:8080/"
        },
        "outputId": "aa0f57bf-c118-485e-f3c3-7d20d025a8d7"
      },
      "outputs": [
        {
          "output_type": "stream",
          "name": "stdout",
          "text": [
            "Точность модели (accuracy):  78.72 %\n",
            "Точность модели (F1-score):  0.803\n",
            "Точность модели (F2-score):  0.839\n",
            "------------------------------\n",
            "Точность на обучающей выборке (accuracy):  83.68 %\n",
            "Недообучения/переобучения модели не выявлено\n"
          ]
        }
      ],
      "source": [
        "SVC = SVC(kernel='poly', degree=7, probability=True)\n",
        "SVC.fit(X_train, y_train)\n",
        "y_pred_SVC = SVC.predict(X_test)\n",
        "\n",
        "SVC_acc = accuracy_score(y_pred_SVC, y_test)\n",
        "SVC_f1 = f1_score(y_test, y_pred_SVC, average='binary')\n",
        "SVC_f2 = fbeta_score(y_test, y_pred_SVC, beta=2)     # для данной задачи субъективно recall важнее, чем precision\n",
        "print(\"Точность модели (accuracy): \", round(SVC_acc*100, 2), \"%\")\n",
        "print(\"Точность модели (F1-score): \", round(SVC_f1, 3))\n",
        "print(\"Точность модели (F2-score): \", round(SVC_f2, 3))\n",
        "print(\"------------------------------\")\n",
        "acc_train = round(accuracy_score(SVC.predict(X_train), y_train)*100, 2)\n",
        "print(\"Точность на обучающей выборке (accuracy): \", acc_train, \"%\")\n",
        "if SVC_acc*0.9 <= acc_train/100 <= SVC_acc*1.1:\n",
        "    print(\"Недообучения/переобучения модели не выявлено\")\n",
        "else:\n",
        "    print(\"Выявлено недообучение/переобучение модели!\")"
      ]
    },
    {
      "cell_type": "code",
      "execution_count": 72,
      "metadata": {
        "id": "lT5Wi6Fwf77W",
        "colab": {
          "base_uri": "https://localhost:8080/",
          "height": 576
        },
        "outputId": "d3d4efbf-47c0-45b7-bf0d-f01425075e91"
      },
      "outputs": [
        {
          "output_type": "execute_result",
          "data": {
            "text/plain": [
              "[Text(0, 0.5, 'False'), Text(0, 1.5, 'True')]"
            ]
          },
          "metadata": {},
          "execution_count": 72
        },
        {
          "output_type": "display_data",
          "data": {
            "text/plain": [
              "<Figure size 600x500 with 2 Axes>"
            ],
            "image/png": "[encoded data removed]"
          },
          "metadata": {}
        }
      ],
      "source": [
        "# Визуализация матрицы ошибок\n",
        "cf_matrix = confusion_matrix(y_test, y_pred_SVC)\n",
        "plt.rcParams['figure.figsize'] = (6,5)\n",
        "ax = sns.heatmap(cf_matrix/np.sum(cf_matrix), annot=True,\n",
        "            fmt='.1%', cmap='Blues')\n",
        "ax.set_title('Матрица ошибок\\n\\n');\n",
        "ax.set_xlabel('\\nПредсказанные значения')\n",
        "ax.set_ylabel('Фактические значения')\n",
        "ax.xaxis.set_ticklabels(['False','True'])\n",
        "ax.yaxis.set_ticklabels(['False','True'])"
      ]
    },
    {
      "cell_type": "code",
      "execution_count": 73,
      "metadata": {
        "id": "7ggn3snkf79u",
        "colab": {
          "base_uri": "https://localhost:8080/"
        },
        "outputId": "b8b9078d-066b-41bf-d50c-3d4d858201d9"
      },
      "outputs": [
        {
          "output_type": "stream",
          "name": "stdout",
          "text": [
            "              precision    recall  f1-score   support\n",
            "\n",
            "           0       0.84      0.71      0.77       931\n",
            "           1       0.75      0.86      0.80       935\n",
            "\n",
            "    accuracy                           0.79      1866\n",
            "   macro avg       0.79      0.79      0.79      1866\n",
            "weighted avg       0.79      0.79      0.79      1866\n",
            "\n"
          ]
        }
      ],
      "source": [
        "print(classification_report(y_test, y_pred_SVC))"
      ]
    },
    {
      "cell_type": "code",
      "execution_count": 74,
      "metadata": {
        "id": "8DebNGZXf8AF",
        "colab": {
          "base_uri": "https://localhost:8080/"
        },
        "outputId": "fd85d3a2-d01e-4952-a193-cb953c657898"
      },
      "outputs": [
        {
          "output_type": "stream",
          "name": "stdout",
          "text": [
            "Accuracy при кросс-валидации на 7 фолдах:  80.2 %\n",
            "F1 при кросс-валидации на 7 фолдах:  0.813\n"
          ]
        }
      ],
      "source": [
        "results = model_selection.cross_val_score(SVC, X_train, y_train, cv=7, scoring='accuracy')\n",
        "SVC_cv_acc = round(results.mean()* 100, 1)\n",
        "print(f'Accuracy при кросс-валидации на 7 фолдах:  {SVC_cv_acc} %')\n",
        "\n",
        "results = model_selection.cross_val_score(SVC, X_train, y_train, cv=7, scoring='f1')\n",
        "SVC_f1_cv = round(results.mean(), 3)\n",
        "print(f'F1 при кросс-валидации на 7 фолдах:  {SVC_f1_cv}')"
      ]
    },
    {
      "cell_type": "code",
      "execution_count": 75,
      "metadata": {
        "id": "1i8U29HLTLkS",
        "colab": {
          "base_uri": "https://localhost:8080/",
          "height": 496
        },
        "outputId": "c5f22742-d137-421c-8586-2e104a0bc358"
      },
      "outputs": [
        {
          "output_type": "display_data",
          "data": {
            "text/plain": [
              "<Figure size 600x500 with 1 Axes>"
            ],
            "image/png": "[encoded data removed]"
          },
          "metadata": {}
        }
      ],
      "source": [
        "SVC_roc_auc = roc_auc_score(y_test, SVC.predict(X_test))\n",
        "fpr, tpr, thresholds = roc_curve(y_test, SVC.predict_proba(X_test)[:,1])\n",
        "plt.figure()\n",
        "plt.plot(fpr, tpr, label=f'ROC area = {round(SVC_roc_auc, 2)}', color='red')\n",
        "plt.plot([0, 1], [0, 1], 'b--')\n",
        "plt.xlim([0.0, 1.0])\n",
        "plt.ylim([0.0, 1.0])\n",
        "plt.xlabel('FPR')\n",
        "plt.ylabel('TPR')\n",
        "plt.title('SVC ROC')\n",
        "plt.legend(loc=\"lower right\")\n",
        "plt.show()"
      ]
    },
    {
      "cell_type": "markdown",
      "source": [
        "### Метод K ближайших соседей"
      ],
      "metadata": {
        "id": "4G7fr2GuqRfu"
      }
    },
    {
      "cell_type": "code",
      "execution_count": 76,
      "metadata": {
        "id": "stWflKLrTLmt",
        "colab": {
          "base_uri": "https://localhost:8080/"
        },
        "outputId": "d7e7ea83-25c2-4ef7-aea5-964e00872e95"
      },
      "outputs": [
        {
          "output_type": "stream",
          "name": "stdout",
          "text": [
            "Точность модели (accuracy):  89.23 %\n",
            "Точность модели (F1-score):  0.903\n",
            "Точность модели (F2-score):  0.958\n",
            "------------------------------\n",
            "Точность на обучающей выборке (accuracy):  94.62 %\n",
            "Недообучения/переобучения модели не выявлено\n"
          ]
        }
      ],
      "source": [
        "KNN = KNeighborsClassifier(n_neighbors=3)\n",
        "KNN.fit(X_train, y_train)\n",
        "y_pred_KNN = KNN.predict(X_test)\n",
        "\n",
        "KNN_acc = accuracy_score(y_pred_KNN, y_test)\n",
        "KNN_f1 = f1_score(y_test, y_pred_KNN, average='binary')\n",
        "KNN_f2 = fbeta_score(y_test, y_pred_KNN, beta=2)\n",
        "print(\"Точность модели (accuracy): \", round(KNN_acc*100, 2), \"%\")\n",
        "print(\"Точность модели (F1-score): \", round(KNN_f1, 3))\n",
        "print(\"Точность модели (F2-score): \", round(KNN_f2, 3))\n",
        "print(\"------------------------------\")\n",
        "acc_train = round(accuracy_score(KNN.predict(X_train), y_train)*100, 2)\n",
        "print(\"Точность на обучающей выборке (accuracy): \", acc_train, \"%\")\n",
        "if KNN_acc*0.9 <= acc_train/100 <= KNN_acc*1.1:\n",
        "    print(\"Недообучения/переобучения модели не выявлено\")\n",
        "else:\n",
        "    print(\"Выявлено недообучение/переобучение модели!\")"
      ]
    },
    {
      "cell_type": "code",
      "source": [
        "# Визуализация матрицы ошибок\n",
        "cf_matrix = confusion_matrix(y_test, y_pred_KNN)\n",
        "plt.rcParams['figure.figsize'] = (6,5)\n",
        "ax = sns.heatmap(cf_matrix/np.sum(cf_matrix), annot=True,\n",
        "            fmt='.1%', cmap='Blues')\n",
        "ax.set_title('Матрица ошибок\\n\\n');\n",
        "ax.set_xlabel('\\nПредсказанные значения')\n",
        "ax.set_ylabel('Фактические значения')\n",
        "ax.xaxis.set_ticklabels(['False','True'])\n",
        "ax.yaxis.set_ticklabels(['False','True'])"
      ],
      "metadata": {
        "colab": {
          "base_uri": "https://localhost:8080/",
          "height": 576
        },
        "id": "hmo-0itBqHb3",
        "outputId": "f31517e9-7c8e-437b-ec43-561c8c7c3f4b"
      },
      "execution_count": 77,
      "outputs": [
        {
          "output_type": "execute_result",
          "data": {
            "text/plain": [
              "[Text(0, 0.5, 'False'), Text(0, 1.5, 'True')]"
            ]
          },
          "metadata": {},
          "execution_count": 77
        },
        {
          "output_type": "display_data",
          "data": {
            "text/plain": [
              "<Figure size 600x500 with 2 Axes>"
            ],
            "image/png": "[encoded data removed]"
          },
          "metadata": {}
        }
      ]
    },
    {
      "cell_type": "code",
      "source": [
        "print(classification_report(y_test, y_pred_KNN))"
      ],
      "metadata": {
        "colab": {
          "base_uri": "https://localhost:8080/"
        },
        "id": "haMyZ0q4qHeK",
        "outputId": "1835296e-5c72-47a2-f687-bb6a8f44ef8b"
      },
      "execution_count": 78,
      "outputs": [
        {
          "output_type": "stream",
          "name": "stdout",
          "text": [
            "              precision    recall  f1-score   support\n",
            "\n",
            "           0       1.00      0.79      0.88       931\n",
            "           1       0.82      1.00      0.90       935\n",
            "\n",
            "    accuracy                           0.89      1866\n",
            "   macro avg       0.91      0.89      0.89      1866\n",
            "weighted avg       0.91      0.89      0.89      1866\n",
            "\n"
          ]
        }
      ]
    },
    {
      "cell_type": "code",
      "source": [
        "results = model_selection.cross_val_score(KNN, X_train, y_train, cv=7, scoring='accuracy')\n",
        "KNN_cv_acc = round(results.mean()* 100, 1)\n",
        "print(f'Accuracy при кросс-валидации на 7 фолдах:  {KNN_cv_acc} %')\n",
        "\n",
        "results = model_selection.cross_val_score(KNN, X_train, y_train, cv=7, scoring='f1')\n",
        "KNN_f1_cv = round(results.mean(), 3)\n",
        "print(f'F1 при кросс-валидации на 7 фолдах:  {KNN_f1_cv}')"
      ],
      "metadata": {
        "colab": {
          "base_uri": "https://localhost:8080/"
        },
        "id": "CcPSHnWSqHgo",
        "outputId": "bfe0c79e-b2a5-4847-af21-84f1cb457846"
      },
      "execution_count": 79,
      "outputs": [
        {
          "output_type": "stream",
          "name": "stdout",
          "text": [
            "Accuracy при кросс-валидации на 7 фолдах:  88.4 %\n",
            "F1 при кросс-валидации на 7 фолдах:  0.895\n"
          ]
        }
      ]
    },
    {
      "cell_type": "code",
      "source": [
        "KNN_roc_auc = roc_auc_score(y_test, KNN.predict(X_test))\n",
        "fpr, tpr, thresholds = roc_curve(y_test, KNN.predict_proba(X_test)[:,1])\n",
        "plt.figure()\n",
        "plt.plot(fpr, tpr, label=f'ROC area = {round(KNN_roc_auc, 2)}', color='red')\n",
        "plt.plot([0, 1], [0, 1], 'b--')\n",
        "plt.xlim([0.0, 1.0])\n",
        "plt.ylim([0.0, 1.0])\n",
        "plt.xlabel('FPR')\n",
        "plt.ylabel('TPR')\n",
        "plt.title('KNN ROC')\n",
        "plt.legend(loc=\"lower right\")\n",
        "plt.show()"
      ],
      "metadata": {
        "colab": {
          "base_uri": "https://localhost:8080/",
          "height": 496
        },
        "id": "4ulPM0RDqHjL",
        "outputId": "8b06576f-5a45-4366-f1b0-7d1b205a5dfe"
      },
      "execution_count": 80,
      "outputs": [
        {
          "output_type": "display_data",
          "data": {
            "text/plain": [
              "<Figure size 600x500 with 1 Axes>"
            ],
            "image/png": "[encoded data removed]"
          },
          "metadata": {}
        }
      ]
    },
    {
      "cell_type": "markdown",
      "source": [
        "### Дерево решений"
      ],
      "metadata": {
        "id": "Nps9o1OWsNHt"
      }
    },
    {
      "cell_type": "code",
      "execution_count": 82,
      "metadata": {
        "id": "z0-N-YsBTLo-",
        "colab": {
          "base_uri": "https://localhost:8080/"
        },
        "outputId": "39bd1413-f6ca-4a26-b953-5fcf48a429e3"
      },
      "outputs": [
        {
          "output_type": "stream",
          "name": "stdout",
          "text": [
            "Точность модели (accuracy):  90.41 %\n",
            "Точность модели (F1-score):  0.912\n",
            "Точность модели (F2-score):  0.96\n",
            "------------------------------\n",
            "Точность на обучающей выборке (accuracy):  95.64 %\n",
            "Недообучения/переобучения модели не выявлено\n"
          ]
        }
      ],
      "source": [
        "DTC = DecisionTreeClassifier(max_depth=15, min_samples_leaf=3)\n",
        "DTC.fit(X_train, y_train)\n",
        "y_pred_DTC = DTC.predict(X_test)\n",
        "\n",
        "DTC_acc = accuracy_score(y_pred_DTC, y_test)\n",
        "DTC_f1 = f1_score(y_test, y_pred_DTC, average='binary')\n",
        "DTC_f2 = fbeta_score(y_test, y_pred_DTC, beta=2)\n",
        "print(\"Точность модели (accuracy): \", round(DTC_acc*100, 2), \"%\")\n",
        "print(\"Точность модели (F1-score): \", round(DTC_f1, 3))\n",
        "print(\"Точность модели (F2-score): \", round(DTC_f2, 3))\n",
        "print(\"------------------------------\")\n",
        "acc_train = round(accuracy_score(DTC.predict(X_train), y_train)*100, 2)\n",
        "print(\"Точность на обучающей выборке (accuracy): \", acc_train, \"%\")\n",
        "if DTC_acc*0.9 <= acc_train/100 <= DTC_acc*1.1:\n",
        "    print(\"Недообучения/переобучения модели не выявлено\")\n",
        "else:\n",
        "    print(\"Выявлено недообучение/переобучение модели!\")"
      ]
    },
    {
      "cell_type": "code",
      "source": [
        "# оценка важности признаков\n",
        "plt.figure(figsize=(12, 6))\n",
        "plt.barh(np.arange(len(DTC.feature_importances_)), DTC.feature_importances_)\n",
        "plt.yticks(np.arange(len(X.columns)), X.columns)\n",
        "plt.show()"
      ],
      "metadata": {
        "colab": {
          "base_uri": "https://localhost:8080/",
          "height": 527
        },
        "id": "4p3aeH_XQp4G",
        "outputId": "cc84043c-f0b0-452b-e5a3-aa32e2f55ce8"
      },
      "execution_count": 83,
      "outputs": [
        {
          "output_type": "display_data",
          "data": {
            "text/plain": [
              "<Figure size 1200x600 with 1 Axes>"
            ],
            "image/png": "[encoded data removed]"
          },
          "metadata": {}
        }
      ]
    },
    {
      "cell_type": "code",
      "source": [
        "# Визуализация матрицы ошибок\n",
        "cf_matrix = confusion_matrix(y_test, y_pred_DTC)\n",
        "plt.rcParams['figure.figsize'] = (6,5)\n",
        "ax = sns.heatmap(cf_matrix/np.sum(cf_matrix), annot=True,\n",
        "            fmt='.1%', cmap='Blues')\n",
        "ax.set_title('Матрица ошибок\\n\\n');\n",
        "ax.set_xlabel('\\nПредсказанные значения')\n",
        "ax.set_ylabel('Фактические значения')\n",
        "ax.xaxis.set_ticklabels(['False','True'])\n",
        "ax.yaxis.set_ticklabels(['False','True'])"
      ],
      "metadata": {
        "colab": {
          "base_uri": "https://localhost:8080/",
          "height": 576
        },
        "id": "IPyCKYNgsAcI",
        "outputId": "36110dc2-7acc-49b0-d5ac-952e2e63c136"
      },
      "execution_count": 84,
      "outputs": [
        {
          "output_type": "execute_result",
          "data": {
            "text/plain": [
              "[Text(0, 0.5, 'False'), Text(0, 1.5, 'True')]"
            ]
          },
          "metadata": {},
          "execution_count": 84
        },
        {
          "output_type": "display_data",
          "data": {
            "text/plain": [
              "<Figure size 600x500 with 2 Axes>"
            ],
            "image/png": "[encoded data removed]"
          },
          "metadata": {}
        }
      ]
    },
    {
      "cell_type": "code",
      "source": [
        "print(classification_report(y_test, y_pred_DTC))"
      ],
      "metadata": {
        "colab": {
          "base_uri": "https://localhost:8080/"
        },
        "id": "81yOJ-PksAfE",
        "outputId": "fc668949-95e2-44c6-ed94-cef73b4e529f"
      },
      "execution_count": 85,
      "outputs": [
        {
          "output_type": "stream",
          "name": "stdout",
          "text": [
            "              precision    recall  f1-score   support\n",
            "\n",
            "           0       0.99      0.81      0.89       931\n",
            "           1       0.84      0.99      0.91       935\n",
            "\n",
            "    accuracy                           0.90      1866\n",
            "   macro avg       0.92      0.90      0.90      1866\n",
            "weighted avg       0.92      0.90      0.90      1866\n",
            "\n"
          ]
        }
      ]
    },
    {
      "cell_type": "code",
      "source": [
        "results = model_selection.cross_val_score(DTC, X_train, y_train, cv=7, scoring='accuracy')\n",
        "DTC_cv_acc = round(results.mean()* 100, 1)\n",
        "print(f'Accuracy при кросс-валидации на 7 фолдах:  {DTC_cv_acc} %')\n",
        "\n",
        "results = model_selection.cross_val_score(DTC, X_train, y_train, cv=7, scoring='f1')\n",
        "DTC_f1_cv = round(results.mean(), 3)\n",
        "print(f'F1 при кросс-валидации на 7 фолдах:  {DTC_f1_cv}')"
      ],
      "metadata": {
        "colab": {
          "base_uri": "https://localhost:8080/"
        },
        "id": "EC08t1V9sAhN",
        "outputId": "6fa3f36b-63f2-42fc-8039-78811a865390"
      },
      "execution_count": 89,
      "outputs": [
        {
          "output_type": "stream",
          "name": "stdout",
          "text": [
            "Accuracy при кросс-валидации на 7 фолдах:  90.0 %\n",
            "F1 при кросс-валидации на 7 фолдах:  0.902\n"
          ]
        }
      ]
    },
    {
      "cell_type": "code",
      "source": [
        "DTC_roc_auc = roc_auc_score(y_test, DTC.predict(X_test))\n",
        "fpr, tpr, thresholds = roc_curve(y_test, DTC.predict_proba(X_test)[:,1])\n",
        "plt.figure()\n",
        "plt.plot(fpr, tpr, label=f'ROC area = {round(DTC_roc_auc, 2)}', color='red')\n",
        "plt.plot([0, 1], [0, 1], 'b--')\n",
        "plt.xlim([0.0, 1.0])\n",
        "plt.ylim([0.0, 1.0])\n",
        "plt.xlabel('FPR')\n",
        "plt.ylabel('TPR')\n",
        "plt.title('DTC ROC')\n",
        "plt.legend(loc=\"lower right\")\n",
        "plt.show()"
      ],
      "metadata": {
        "colab": {
          "base_uri": "https://localhost:8080/",
          "height": 496
        },
        "id": "FajlDbYlsAjb",
        "outputId": "02b69b58-945c-44da-c45a-088d5f4b793d"
      },
      "execution_count": 90,
      "outputs": [
        {
          "output_type": "display_data",
          "data": {
            "text/plain": [
              "<Figure size 600x500 with 1 Axes>"
            ],
            "image/png": "[encoded data removed]"
          },
          "metadata": {}
        }
      ]
    },
    {
      "cell_type": "markdown",
      "source": [
        "### Случайный лес"
      ],
      "metadata": {
        "id": "Dd85z0XqtuGw"
      }
    },
    {
      "cell_type": "code",
      "source": [
        "RFC = RandomForestClassifier(n_estimators=70, max_depth=15, min_samples_leaf=3)\n",
        "RFC.fit(X_train, y_train)\n",
        "y_pred_RFC = RFC.predict(X_test)\n",
        "\n",
        "RFC_acc = accuracy_score(y_pred_RFC, y_test)\n",
        "RFC_f1 = f1_score(y_test, y_pred_RFC, average='binary')\n",
        "RFC_f2 = fbeta_score(y_test, y_pred_RFC, beta=2)\n",
        "print(\"Точность модели (accuracy): \", round(RFC_acc*100, 2), \"%\")\n",
        "print(\"Точность модели (F1-score): \", round(RFC_f1, 3))\n",
        "print(\"Точность модели (F2-score): \", round(RFC_f2, 3))\n",
        "print(\"------------------------------\")\n",
        "acc_train = round(accuracy_score(RFC.predict(X_train), y_train)*100, 2)\n",
        "print(\"Точность на обучающей выборке (accuracy): \", acc_train, \"%\")\n",
        "if RFC_acc*0.9 <= acc_train/100 <= RFC_acc*1.1:\n",
        "    print(\"Недообучения/переобучения модели не выявлено\")\n",
        "else:\n",
        "    print(\"Выявлено недообучение/переобучение модели!\")"
      ],
      "metadata": {
        "colab": {
          "base_uri": "https://localhost:8080/"
        },
        "id": "OqH0B-HmsAlq",
        "outputId": "91b2f934-82d3-4adc-aaa2-609397a685bb"
      },
      "execution_count": 91,
      "outputs": [
        {
          "output_type": "stream",
          "name": "stdout",
          "text": [
            "Точность модели (accuracy):  93.78 %\n",
            "Точность модели (F1-score):  0.941\n",
            "Точность модели (F2-score):  0.964\n",
            "------------------------------\n",
            "Точность на обучающей выборке (accuracy):  97.27 %\n",
            "Недообучения/переобучения модели не выявлено\n"
          ]
        }
      ]
    },
    {
      "cell_type": "code",
      "source": [
        "# Визуализация матрицы ошибок\n",
        "cf_matrix = confusion_matrix(y_test, y_pred_RFC)\n",
        "plt.rcParams['figure.figsize'] = (6,5)\n",
        "ax = sns.heatmap(cf_matrix/np.sum(cf_matrix), annot=True,\n",
        "            fmt='.1%', cmap='Blues')\n",
        "ax.set_title('Матрица ошибок\\n\\n');\n",
        "ax.set_xlabel('\\nПредсказанные значения')\n",
        "ax.set_ylabel('Фактические значения')\n",
        "ax.xaxis.set_ticklabels(['False','True'])\n",
        "ax.yaxis.set_ticklabels(['False','True'])"
      ],
      "metadata": {
        "colab": {
          "base_uri": "https://localhost:8080/",
          "height": 576
        },
        "id": "QIzZhDoxsAn0",
        "outputId": "57b3592f-57b7-4fb9-99f1-a5eda63636fa"
      },
      "execution_count": 92,
      "outputs": [
        {
          "output_type": "execute_result",
          "data": {
            "text/plain": [
              "[Text(0, 0.5, 'False'), Text(0, 1.5, 'True')]"
            ]
          },
          "metadata": {},
          "execution_count": 92
        },
        {
          "output_type": "display_data",
          "data": {
            "text/plain": [
              "<Figure size 600x500 with 2 Axes>"
            ],
            "image/png": "[encoded data removed]"
          },
          "metadata": {}
        }
      ]
    },
    {
      "cell_type": "code",
      "source": [
        "print(classification_report(y_test, y_pred_RFC))"
      ],
      "metadata": {
        "colab": {
          "base_uri": "https://localhost:8080/"
        },
        "id": "3xPpM-wosAp4",
        "outputId": "b6fd10e9-31c6-4d0c-8a73-c8cc194dbcbd"
      },
      "execution_count": 93,
      "outputs": [
        {
          "output_type": "stream",
          "name": "stdout",
          "text": [
            "              precision    recall  f1-score   support\n",
            "\n",
            "           0       0.98      0.89      0.93       931\n",
            "           1       0.90      0.98      0.94       935\n",
            "\n",
            "    accuracy                           0.94      1866\n",
            "   macro avg       0.94      0.94      0.94      1866\n",
            "weighted avg       0.94      0.94      0.94      1866\n",
            "\n"
          ]
        }
      ]
    },
    {
      "cell_type": "code",
      "execution_count": 96,
      "metadata": {
        "id": "TvhYaBbLoKsE",
        "colab": {
          "base_uri": "https://localhost:8080/"
        },
        "outputId": "64261292-7df9-42ee-f6aa-3ff54e76b507"
      },
      "outputs": [
        {
          "output_type": "stream",
          "name": "stdout",
          "text": [
            "Accuracy при кросс-валидации на 7 фолдах:  92.3 %\n",
            "F1 при кросс-валидации на 7 фолдах:  0.926\n"
          ]
        }
      ],
      "source": [
        "results = model_selection.cross_val_score(RFC, X_train, y_train, cv=7, scoring='accuracy')\n",
        "RFC_cv_acc = round(results.mean()* 100, 1)\n",
        "print(f'Accuracy при кросс-валидации на 7 фолдах:  {RFC_cv_acc} %')\n",
        "\n",
        "results = model_selection.cross_val_score(RFC, X_train, y_train, cv=7, scoring='f1')\n",
        "RFC_f1_cv = round(results.mean(), 3)\n",
        "print(f'F1 при кросс-валидации на 7 фолдах:  {RFC_f1_cv}')"
      ]
    },
    {
      "cell_type": "code",
      "source": [
        "RFC_roc_auc = roc_auc_score(y_test, RFC.predict(X_test))\n",
        "fpr, tpr, thresholds = roc_curve(y_test, RFC.predict_proba(X_test)[:,1])\n",
        "plt.figure()\n",
        "plt.plot(fpr, tpr, label=f'ROC area = {round(RFC_roc_auc, 2)}', color='red')\n",
        "plt.plot([0, 1], [0, 1], 'b--')\n",
        "plt.xlim([0.0, 1.0])\n",
        "plt.ylim([0.0, 1.0])\n",
        "plt.xlabel('FPR')\n",
        "plt.ylabel('TPR')\n",
        "plt.title('RFC ROC')\n",
        "plt.legend(loc=\"lower right\")\n",
        "plt.show()"
      ],
      "metadata": {
        "colab": {
          "base_uri": "https://localhost:8080/",
          "height": 496
        },
        "id": "YUU3mV4osDfK",
        "outputId": "fb04c52c-a985-4d8b-aa9d-f1297ce27403"
      },
      "execution_count": 97,
      "outputs": [
        {
          "output_type": "display_data",
          "data": {
            "text/plain": [
              "<Figure size 600x500 with 1 Axes>"
            ],
            "image/png": "[encoded data removed]"
          },
          "metadata": {}
        }
      ]
    },
    {
      "cell_type": "markdown",
      "source": [
        "### XGBoost"
      ],
      "metadata": {
        "id": "QEzIaHZV1CaY"
      }
    },
    {
      "cell_type": "code",
      "source": [
        "xgb = Xgb.XGBClassifier(max_depth=5)\n",
        "xgb.fit(X_train, y_train)\n",
        "y_pred_xgb = xgb.predict(X_test)\n",
        "\n",
        "xgb_acc = accuracy_score(y_pred_xgb, y_test)\n",
        "xgb_f1 = f1_score(y_test, y_pred_xgb, average='binary')\n",
        "xgb_f2 = fbeta_score(y_test, y_pred_xgb, beta=2)\n",
        "print(\"Точность модели (accuracy): \", round(xgb_acc*100, 2), \"%\")\n",
        "print(\"Точность модели (F1-score): \", round(xgb_f1, 3))\n",
        "print(\"Точность модели (F2-score): \", round(xgb_f2, 3))\n",
        "print(\"------------------------------\")\n",
        "acc_train = round(accuracy_score(xgb.predict(X_train), y_train)*100, 2)\n",
        "print(\"Точность на обучающей выборке (accuracy): \", acc_train, \"%\")\n",
        "if xgb_acc*0.9 <= acc_train/100 <= xgb_acc*1.1:\n",
        "    print(\"Недообучения/переобучения модели не выявлено\")\n",
        "else:\n",
        "    print(\"Выявлено недообучение/переобучение модели!\")"
      ],
      "metadata": {
        "colab": {
          "base_uri": "https://localhost:8080/"
        },
        "id": "eNp25WVA1ClI",
        "outputId": "ba6f4ba8-7fe8-439d-86be-7820a8915bb1"
      },
      "execution_count": 98,
      "outputs": [
        {
          "output_type": "stream",
          "name": "stdout",
          "text": [
            "Точность модели (accuracy):  92.12 %\n",
            "Точность модели (F1-score):  0.925\n",
            "Точность модели (F2-score):  0.952\n",
            "------------------------------\n",
            "Точность на обучающей выборке (accuracy):  97.16 %\n",
            "Недообучения/переобучения модели не выявлено\n"
          ]
        }
      ]
    },
    {
      "cell_type": "code",
      "source": [
        "# Визуализация матрицы ошибок\n",
        "cf_matrix = confusion_matrix(y_test, y_pred_xgb)\n",
        "plt.rcParams['figure.figsize'] = (6,5)\n",
        "ax = sns.heatmap(cf_matrix/np.sum(cf_matrix), annot=True,\n",
        "            fmt='.1%', cmap='Blues')\n",
        "ax.set_title('Матрица ошибок\\n\\n');\n",
        "ax.set_xlabel('\\nПредсказанные значения')\n",
        "ax.set_ylabel('Фактические значения')\n",
        "ax.xaxis.set_ticklabels(['False','True'])\n",
        "ax.yaxis.set_ticklabels(['False','True'])"
      ],
      "metadata": {
        "colab": {
          "base_uri": "https://localhost:8080/",
          "height": 576
        },
        "id": "j9waNjYR1fPk",
        "outputId": "cac7b224-f47e-4cb7-e9ae-6269c03b20d3"
      },
      "execution_count": 99,
      "outputs": [
        {
          "output_type": "execute_result",
          "data": {
            "text/plain": [
              "[Text(0, 0.5, 'False'), Text(0, 1.5, 'True')]"
            ]
          },
          "metadata": {},
          "execution_count": 99
        },
        {
          "output_type": "display_data",
          "data": {
            "text/plain": [
              "<Figure size 600x500 with 2 Axes>"
            ],
            "image/png": "[encoded data removed]"
          },
          "metadata": {}
        }
      ]
    },
    {
      "cell_type": "code",
      "source": [
        "print(classification_report(y_test, y_pred_xgb))"
      ],
      "metadata": {
        "colab": {
          "base_uri": "https://localhost:8080/"
        },
        "id": "srfZZ07s1fSI",
        "outputId": "3838f4e0-3fce-4e97-b4e0-87fcf154d282"
      },
      "execution_count": 100,
      "outputs": [
        {
          "output_type": "stream",
          "name": "stdout",
          "text": [
            "              precision    recall  f1-score   support\n",
            "\n",
            "           0       0.97      0.87      0.92       931\n",
            "           1       0.88      0.97      0.93       935\n",
            "\n",
            "    accuracy                           0.92      1866\n",
            "   macro avg       0.93      0.92      0.92      1866\n",
            "weighted avg       0.93      0.92      0.92      1866\n",
            "\n"
          ]
        }
      ]
    },
    {
      "cell_type": "code",
      "source": [
        "results = model_selection.cross_val_score(xgb, X_train, y_train, cv=7, scoring='accuracy')\n",
        "xgb_cv_acc = round(results.mean()* 100, 1)\n",
        "print(f'Accuracy при кросс-валидации на 7 фолдах:  {xgb_cv_acc} %')\n",
        "\n",
        "results = model_selection.cross_val_score(xgb, X_train, y_train, cv=7, scoring='f1')\n",
        "xgb_f1_cv = round(results.mean(), 3)\n",
        "print(f'F1 при кросс-валидации на 7 фолдах:  {xgb_f1_cv}')"
      ],
      "metadata": {
        "colab": {
          "base_uri": "https://localhost:8080/"
        },
        "id": "hFOoe_pD1fUr",
        "outputId": "a1ed1791-9680-4b71-d4e4-32d99acad282"
      },
      "execution_count": 101,
      "outputs": [
        {
          "output_type": "stream",
          "name": "stdout",
          "text": [
            "Accuracy при кросс-валидации на 7 фолдах:  92.7 %\n",
            "F1 при кросс-валидации на 7 фолдах:  0.93\n"
          ]
        }
      ]
    },
    {
      "cell_type": "code",
      "source": [
        "xgb_roc_auc = roc_auc_score(y_test, xgb.predict(X_test))\n",
        "fpr, tpr, thresholds = roc_curve(y_test, xgb.predict_proba(X_test)[:,1])\n",
        "plt.figure()\n",
        "plt.plot(fpr, tpr, label=f'ROC area = {round(xgb_roc_auc, 2)}', color='red')\n",
        "plt.plot([0, 1], [0, 1], 'b--')\n",
        "plt.xlim([0.0, 1.0])\n",
        "plt.ylim([0.0, 1.0])\n",
        "plt.xlabel('FPR')\n",
        "plt.ylabel('TPR')\n",
        "plt.title('XGBoost ROC')\n",
        "plt.legend(loc=\"lower right\")\n",
        "plt.show()"
      ],
      "metadata": {
        "colab": {
          "base_uri": "https://localhost:8080/",
          "height": 496
        },
        "id": "JmNOLw511kmC",
        "outputId": "59b3d525-3ef9-4519-e106-c5c6d17d4f54"
      },
      "execution_count": 102,
      "outputs": [
        {
          "output_type": "display_data",
          "data": {
            "text/plain": [
              "<Figure size 600x500 with 1 Axes>"
            ],
            "image/png": "[encoded data removed]"
          },
          "metadata": {}
        }
      ]
    },
    {
      "cell_type": "markdown",
      "source": [
        "## Сводное сравнение обученных моделей"
      ],
      "metadata": {
        "id": "pmSJQxK5wLAV"
      }
    },
    {
      "cell_type": "code",
      "source": [
        "# Визуализация ROC-характеристик\n",
        "\n",
        "plt.figure(0).clf()\n",
        "\n",
        "fpr1, tpr1, thresholds1 = roc_curve(y_test, lr.predict_proba(X_test)[:,1])\n",
        "auc1 = roc_auc_score(y_test, lr.predict(X_test))\n",
        "plt.plot(fpr1, tpr1, label=\"Logistic regression\")\n",
        "\n",
        "fpr2, tpr2, thresholds2 = roc_curve(y_test, SVC.predict_proba(X_test)[:,1])\n",
        "auc1 = roc_auc_score(y_test, SVC.predict(X_test))\n",
        "plt.plot(fpr2, tpr2, label=\"SVM\")\n",
        "\n",
        "fpr3, tpr3, thresholds3 = roc_curve(y_test, KNN.predict_proba(X_test)[:,1])\n",
        "auc1 = roc_auc_score(y_test, KNN.predict(X_test))\n",
        "plt.plot(fpr3, tpr3, label=\"KNN\")\n",
        "\n",
        "fpr4, tpr4, thresholds4 = roc_curve(y_test, DTC.predict_proba(X_test)[:,1])\n",
        "auc1 = roc_auc_score(y_test, DTC.predict(X_test))\n",
        "plt.plot(fpr4, tpr4, label=\"Decision Tree\")\n",
        "\n",
        "fpr5, tpr5, thresholds5 = roc_curve(y_test, RFC.predict_proba(X_test)[:,1])\n",
        "auc1 = roc_auc_score(y_test, RFC.predict(X_test))\n",
        "plt.plot(fpr5, tpr5, label=\"Random Forest\")\n",
        "\n",
        "fpr5, tpr5, thresholds5 = roc_curve(y_test, xgb.predict_proba(X_test)[:,1])\n",
        "auc1 = roc_auc_score(y_test, xgb.predict(X_test))\n",
        "plt.plot(fpr5, tpr5, label=\"XGBoost\")\n",
        "\n",
        "plt.plot([0, 1], [0, 1], 'b--')\n",
        "plt.xlim([0.0, 1.0])\n",
        "plt.ylim([0.0, 1.0])\n",
        "plt.xlabel('FPR')\n",
        "plt.ylabel('TPR')\n",
        "plt.title('ROC comparison')\n",
        "plt.legend(loc=\"lower right\")\n",
        "plt.show()"
      ],
      "metadata": {
        "colab": {
          "base_uri": "https://localhost:8080/",
          "height": 496
        },
        "id": "daWfYIgZwQeE",
        "outputId": "6f07e5d8-9f70-4691-9d47-09d3d8f17199"
      },
      "execution_count": 103,
      "outputs": [
        {
          "output_type": "display_data",
          "data": {
            "text/plain": [
              "<Figure size 600x500 with 1 Axes>"
            ],
            "image/png": "[encoded data removed]"
          },
          "metadata": {}
        }
      ]
    },
    {
      "cell_type": "code",
      "source": [
        "# создание итогового датафрейма с показателями точности моделей\n",
        "df_models_acc = pd.DataFrame([lr_cv_acc, SVC_cv_acc, KNN_cv_acc, DTC_cv_acc, RFC_cv_acc, xgb_cv_acc], columns=['Accuracy (%)'])\n",
        "df_models_f1 = pd.DataFrame([lr_f1_cv, SVC_f1_cv, KNN_f1_cv, DTC_f1_cv, RFC_f1_cv, xgb_f1_cv], columns=['F1-score'])\n",
        "df_models_f5 = pd.DataFrame([lr_f2, SVC_f2, KNN_f2, DTC_f2, RFC_f2, xgb_f2], columns=['F2-score'])\n",
        "df_models_names = pd.DataFrame(['Logistic regression', 'SVM', 'KNN', 'Decision tree', 'Random Forest', 'XGBoost'], columns=['Модель'])\n",
        "df_comparison = pd.concat([df_models_names, df_models_acc, df_models_f1, df_models_f5], axis=1).sort_values(by='F1-score', ascending=False)\n",
        "\n",
        "df_comparison.style.bar(cmap='Greens', align='mid', vmin=0., vmax=1.).hide_index()"
      ],
      "metadata": {
        "colab": {
          "base_uri": "https://localhost:8080/",
          "height": 237
        },
        "id": "aY_ZtSBJx1E1",
        "outputId": "0da64f20-d6e3-4152-9776-3d91600df005"
      },
      "execution_count": 106,
      "outputs": [
        {
          "output_type": "execute_result",
          "data": {
            "text/plain": [
              "<pandas.io.formats.style.Styler at 0x7f20fb5e7310>"
            ],
            "text/html": [
              "<style type=\"text/css\">\n",
              "#T_3139f_row0_col1, #T_3139f_row1_col1, #T_3139f_row2_col1, #T_3139f_row3_col1, #T_3139f_row4_col1, #T_3139f_row5_col1 {\n",
              "  width: 10em;\n",
              "  background: linear-gradient(90deg, #00441b 100.0%, transparent 100.0%);\n",
              "}\n",
              "#T_3139f_row0_col2 {\n",
              "  width: 10em;\n",
              "  background: linear-gradient(90deg, #005a24 93.0%, transparent 93.0%);\n",
              "}\n",
              "#T_3139f_row0_col3 {\n",
              "  width: 10em;\n",
              "  background: linear-gradient(90deg, #005321 95.2%, transparent 95.2%);\n",
              "}\n",
              "#T_3139f_row1_col2 {\n",
              "  width: 10em;\n",
              "  background: linear-gradient(90deg, #005b25 92.6%, transparent 92.6%);\n",
              "}\n",
              "#T_3139f_row1_col3 {\n",
              "  width: 10em;\n",
              "  background: linear-gradient(90deg, #005020 96.4%, transparent 96.4%);\n",
              "}\n",
              "#T_3139f_row2_col2 {\n",
              "  width: 10em;\n",
              "  background: linear-gradient(90deg, #006428 90.2%, transparent 90.2%);\n",
              "}\n",
              "#T_3139f_row2_col3 {\n",
              "  width: 10em;\n",
              "  background: linear-gradient(90deg, #005120 96.0%, transparent 96.0%);\n",
              "}\n",
              "#T_3139f_row3_col2 {\n",
              "  width: 10em;\n",
              "  background: linear-gradient(90deg, #006529 89.5%, transparent 89.5%);\n",
              "}\n",
              "#T_3139f_row3_col3 {\n",
              "  width: 10em;\n",
              "  background: linear-gradient(90deg, #005120 95.8%, transparent 95.8%);\n",
              "}\n",
              "#T_3139f_row4_col2 {\n",
              "  width: 10em;\n",
              "  background: linear-gradient(90deg, #117b38 81.3%, transparent 81.3%);\n",
              "}\n",
              "#T_3139f_row4_col3 {\n",
              "  width: 10em;\n",
              "  background: linear-gradient(90deg, #0a7633 83.9%, transparent 83.9%);\n",
              "}\n",
              "#T_3139f_row5_col2 {\n",
              "  width: 10em;\n",
              "  background: linear-gradient(90deg, #349d53 67.7%, transparent 67.7%);\n",
              "}\n",
              "#T_3139f_row5_col3 {\n",
              "  width: 10em;\n",
              "  background: linear-gradient(90deg, #329b51 68.4%, transparent 68.4%);\n",
              "}\n",
              "</style>\n",
              "<table id=\"T_3139f\" class=\"dataframe\">\n",
              "  <thead>\n",
              "    <tr>\n",
              "      <th id=\"T_3139f_level0_col0\" class=\"col_heading level0 col0\" >Модель</th>\n",
              "      <th id=\"T_3139f_level0_col1\" class=\"col_heading level0 col1\" >Accuracy (%)</th>\n",
              "      <th id=\"T_3139f_level0_col2\" class=\"col_heading level0 col2\" >F1-score</th>\n",
              "      <th id=\"T_3139f_level0_col3\" class=\"col_heading level0 col3\" >F2-score</th>\n",
              "    </tr>\n",
              "  </thead>\n",
              "  <tbody>\n",
              "    <tr>\n",
              "      <td id=\"T_3139f_row0_col0\" class=\"data row0 col0\" >XGBoost</td>\n",
              "      <td id=\"T_3139f_row0_col1\" class=\"data row0 col1\" >92.700000</td>\n",
              "      <td id=\"T_3139f_row0_col2\" class=\"data row0 col2\" >0.930000</td>\n",
              "      <td id=\"T_3139f_row0_col3\" class=\"data row0 col3\" >0.952181</td>\n",
              "    </tr>\n",
              "    <tr>\n",
              "      <td id=\"T_3139f_row1_col0\" class=\"data row1 col0\" >Random Forest</td>\n",
              "      <td id=\"T_3139f_row1_col1\" class=\"data row1 col1\" >92.300000</td>\n",
              "      <td id=\"T_3139f_row1_col2\" class=\"data row1 col2\" >0.926000</td>\n",
              "      <td id=\"T_3139f_row1_col3\" class=\"data row1 col3\" >0.964248</td>\n",
              "    </tr>\n",
              "    <tr>\n",
              "      <td id=\"T_3139f_row2_col0\" class=\"data row2 col0\" >Decision tree</td>\n",
              "      <td id=\"T_3139f_row2_col1\" class=\"data row2 col1\" >90.000000</td>\n",
              "      <td id=\"T_3139f_row2_col2\" class=\"data row2 col2\" >0.902000</td>\n",
              "      <td id=\"T_3139f_row2_col3\" class=\"data row2 col3\" >0.959950</td>\n",
              "    </tr>\n",
              "    <tr>\n",
              "      <td id=\"T_3139f_row3_col0\" class=\"data row3 col0\" >KNN</td>\n",
              "      <td id=\"T_3139f_row3_col1\" class=\"data row3 col1\" >88.400000</td>\n",
              "      <td id=\"T_3139f_row3_col2\" class=\"data row3 col2\" >0.895000</td>\n",
              "      <td id=\"T_3139f_row3_col3\" class=\"data row3 col3\" >0.957512</td>\n",
              "    </tr>\n",
              "    <tr>\n",
              "      <td id=\"T_3139f_row4_col0\" class=\"data row4 col0\" >SVM</td>\n",
              "      <td id=\"T_3139f_row4_col1\" class=\"data row4 col1\" >80.200000</td>\n",
              "      <td id=\"T_3139f_row4_col2\" class=\"data row4 col2\" >0.813000</td>\n",
              "      <td id=\"T_3139f_row4_col3\" class=\"data row4 col3\" >0.838522</td>\n",
              "    </tr>\n",
              "    <tr>\n",
              "      <td id=\"T_3139f_row5_col0\" class=\"data row5 col0\" >Logistic regression</td>\n",
              "      <td id=\"T_3139f_row5_col1\" class=\"data row5 col1\" >67.600000</td>\n",
              "      <td id=\"T_3139f_row5_col2\" class=\"data row5 col2\" >0.677000</td>\n",
              "      <td id=\"T_3139f_row5_col3\" class=\"data row5 col3\" >0.683606</td>\n",
              "    </tr>\n",
              "  </tbody>\n",
              "</table>\n"
            ]
          },
          "metadata": {},
          "execution_count": 106
        }
      ]
    },
    {
      "cell_type": "markdown",
      "source": [
        "**ПРЕДВАРИТЕЛЬНЫЕ ВЫВОДЫ:**\n",
        "- при использовании классических методов ML, наиболее эффективными оказались модели RandomForest и XGBoost\n",
        "- с учетом бизнес-рисков, важной метрикой является F2-score (минимизация ложноотрицатнльных предсказаний)\n",
        "- высокие метрики показали модели DecisionTree и KNN (с kernel trick), в т.ч. по метрике F2-score\n",
        "- модели Опорных векторов и, особенно, Логистической регрессии имеют неудовлетворительные метрики\n",
        "- результаты моделей Логистической регрессии, SVM и KNN, вероятно, частично обусловлены примененных методом масштабирования данных (нормализация)\n",
        "- недообученности / переобученности моделей не зафиксировано"
      ],
      "metadata": {
        "id": "f-1Vj6E40Yo3"
      }
    },
    {
      "cell_type": "markdown",
      "source": [
        "## Беггинг (на базе KNN)"
      ],
      "metadata": {
        "id": "KG6Gx9vabtPD"
      }
    },
    {
      "cell_type": "code",
      "source": [
        "bagging = BaggingClassifier(KNN)\n",
        "bagging.fit(X_train, y_train)"
      ],
      "metadata": {
        "colab": {
          "base_uri": "https://localhost:8080/",
          "height": 117
        },
        "id": "Z_3aai_db0K8",
        "outputId": "f5618a92-0788-4cae-ad57-5868a12f6926"
      },
      "execution_count": 164,
      "outputs": [
        {
          "output_type": "execute_result",
          "data": {
            "text/plain": [
              "BaggingClassifier(estimator=KNeighborsClassifier(n_neighbors=3))"
            ],
            "text/html": [
              "<style>#sk-container-id-9 {color: black;background-color: white;}#sk-container-id-9 pre{padding: 0;}#sk-container-id-9 div.sk-toggleable {background-color: white;}#sk-container-id-9 label.sk-toggleable__label {cursor: pointer;display: block;width: 100%;margin-bottom: 0;padding: 0.3em;box-sizing: border-box;text-align: center;}#sk-container-id-9 label.sk-toggleable__label-arrow:before {content: \"▸\";float: left;margin-right: 0.25em;color: #696969;}#sk-container-id-9 label.sk-toggleable__label-arrow:hover:before {color: black;}#sk-container-id-9 div.sk-estimator:hover label.sk-toggleable__label-arrow:before {color: black;}#sk-container-id-9 div.sk-toggleable__content {max-height: 0;max-width: 0;overflow: hidden;text-align: left;background-color: #f0f8ff;}#sk-container-id-9 div.sk-toggleable__content pre {margin: 0.2em;color: black;border-radius: 0.25em;background-color: #f0f8ff;}#sk-container-id-9 input.sk-toggleable__control:checked~div.sk-toggleable__content {max-height: 200px;max-width: 100%;overflow: auto;}#sk-container-id-9 input.sk-toggleable__control:checked~label.sk-toggleable__label-arrow:before {content: \"▾\";}#sk-container-id-9 div.sk-estimator input.sk-toggleable__control:checked~label.sk-toggleable__label {background-color: #d4ebff;}#sk-container-id-9 div.sk-label input.sk-toggleable__control:checked~label.sk-toggleable__label {background-color: #d4ebff;}#sk-container-id-9 input.sk-hidden--visually {border: 0;clip: rect(1px 1px 1px 1px);clip: rect(1px, 1px, 1px, 1px);height: 1px;margin: -1px;overflow: hidden;padding: 0;position: absolute;width: 1px;}#sk-container-id-9 div.sk-estimator {font-family: monospace;background-color: #f0f8ff;border: 1px dotted black;border-radius: 0.25em;box-sizing: border-box;margin-bottom: 0.5em;}#sk-container-id-9 div.sk-estimator:hover {background-color: #d4ebff;}#sk-container-id-9 div.sk-parallel-item::after {content: \"\";width: 100%;border-bottom: 1px solid gray;flex-grow: 1;}#sk-container-id-9 div.sk-label:hover label.sk-toggleable__label {background-color: #d4ebff;}#sk-container-id-9 div.sk-serial::before {content: \"\";position: absolute;border-left: 1px solid gray;box-sizing: border-box;top: 0;bottom: 0;left: 50%;z-index: 0;}#sk-container-id-9 div.sk-serial {display: flex;flex-direction: column;align-items: center;background-color: white;padding-right: 0.2em;padding-left: 0.2em;position: relative;}#sk-container-id-9 div.sk-item {position: relative;z-index: 1;}#sk-container-id-9 div.sk-parallel {display: flex;align-items: stretch;justify-content: center;background-color: white;position: relative;}#sk-container-id-9 div.sk-item::before, #sk-container-id-9 div.sk-parallel-item::before {content: \"\";position: absolute;border-left: 1px solid gray;box-sizing: border-box;top: 0;bottom: 0;left: 50%;z-index: -1;}#sk-container-id-9 div.sk-parallel-item {display: flex;flex-direction: column;z-index: 1;position: relative;background-color: white;}#sk-container-id-9 div.sk-parallel-item:first-child::after {align-self: flex-end;width: 50%;}#sk-container-id-9 div.sk-parallel-item:last-child::after {align-self: flex-start;width: 50%;}#sk-container-id-9 div.sk-parallel-item:only-child::after {width: 0;}#sk-container-id-9 div.sk-dashed-wrapped {border: 1px dashed gray;margin: 0 0.4em 0.5em 0.4em;box-sizing: border-box;padding-bottom: 0.4em;background-color: white;}#sk-container-id-9 div.sk-label label {font-family: monospace;font-weight: bold;display: inline-block;line-height: 1.2em;}#sk-container-id-9 div.sk-label-container {text-align: center;}#sk-container-id-9 div.sk-container {/* jupyter's `normalize.less` sets `[hidden] { display: none; }` but bootstrap.min.css set `[hidden] { display: none !important; }` so we also need the `!important` here to be able to override the default hidden behavior on the sphinx rendered scikit-learn.org. See: https://github.com/scikit-learn/scikit-learn/issues/21755 */display: inline-block !important;position: relative;}#sk-container-id-9 div.sk-text-repr-fallback {display: none;}</style><div id=\"sk-container-id-9\" class=\"sk-top-container\"><div class=\"sk-text-repr-fallback\"><pre>BaggingClassifier(estimator=KNeighborsClassifier(n_neighbors=3))</pre><b>In a Jupyter environment, please rerun this cell to show the HTML representation or trust the notebook. <br />On GitHub, the HTML representation is unable to render, please try loading this page with nbviewer.org.</b></div><div class=\"sk-container\" hidden><div class=\"sk-item sk-dashed-wrapped\"><div class=\"sk-label-container\"><div class=\"sk-label sk-toggleable\"><input class=\"sk-toggleable__control sk-hidden--visually\" id=\"sk-estimator-id-27\" type=\"checkbox\" ><label for=\"sk-estimator-id-27\" class=\"sk-toggleable__label sk-toggleable__label-arrow\">BaggingClassifier</label><div class=\"sk-toggleable__content\"><pre>BaggingClassifier(estimator=KNeighborsClassifier(n_neighbors=3))</pre></div></div></div><div class=\"sk-parallel\"><div class=\"sk-parallel-item\"><div class=\"sk-item\"><div class=\"sk-label-container\"><div class=\"sk-label sk-toggleable\"><input class=\"sk-toggleable__control sk-hidden--visually\" id=\"sk-estimator-id-28\" type=\"checkbox\" ><label for=\"sk-estimator-id-28\" class=\"sk-toggleable__label sk-toggleable__label-arrow\">estimator: KNeighborsClassifier</label><div class=\"sk-toggleable__content\"><pre>KNeighborsClassifier(n_neighbors=3)</pre></div></div></div><div class=\"sk-serial\"><div class=\"sk-item\"><div class=\"sk-estimator sk-toggleable\"><input class=\"sk-toggleable__control sk-hidden--visually\" id=\"sk-estimator-id-29\" type=\"checkbox\" ><label for=\"sk-estimator-id-29\" class=\"sk-toggleable__label sk-toggleable__label-arrow\">KNeighborsClassifier</label><div class=\"sk-toggleable__content\"><pre>KNeighborsClassifier(n_neighbors=3)</pre></div></div></div></div></div></div></div></div></div></div>"
            ]
          },
          "metadata": {},
          "execution_count": 164
        }
      ]
    },
    {
      "cell_type": "code",
      "source": [
        "y_pred_bag_KNN = bagging.predict(X_test)\n",
        "\n",
        "bag_KNN_acc = accuracy_score(y_pred_bag_KNN, y_test)\n",
        "bag_KNN_f1 = f1_score(y_test, y_pred_bag_KNN, average='binary')\n",
        "bag_KNN_f2 = fbeta_score(y_test, y_pred_bag_KNN, beta=2)\n",
        "print(\"Точность модели (accuracy): \", round(bag_KNN_acc*100, 2), \"%\")\n",
        "print(\"Точность модели (F1-score): \", round(bag_KNN_f1, 3))\n",
        "print(\"Точность модели (F2-score): \", round(bag_KNN_f2, 3))"
      ],
      "metadata": {
        "colab": {
          "base_uri": "https://localhost:8080/"
        },
        "id": "OOkvDdCicPyn",
        "outputId": "2e10fa06-89fc-427a-a45f-7599f156fe0d"
      },
      "execution_count": 165,
      "outputs": [
        {
          "output_type": "stream",
          "name": "stdout",
          "text": [
            "Точность модели (accuracy):  88.85 %\n",
            "Точность модели (F1-score):  0.9\n",
            "Точность модели (F2-score):  0.956\n"
          ]
        }
      ]
    },
    {
      "cell_type": "markdown",
      "source": [
        "**Вывод:**\n",
        "- с помощью беггинга удалось повысить отдельные метрики модели KNN, но они не достигли уровня 3 лучших моделей"
      ],
      "metadata": {
        "id": "uzpIypmJcxQ4"
      }
    },
    {
      "cell_type": "markdown",
      "source": [
        "## Стекинг (LogReg+KNN+DecisionTree)"
      ],
      "metadata": {
        "id": "1XqZvWuTv2W3"
      }
    },
    {
      "cell_type": "code",
      "source": [
        "stacking_clf = StackingClassifier(\n",
        "    [\n",
        "        ('LinearRegression', lr),\n",
        "        ('KNeighborsRegressor', KNN),\n",
        "        ('DecisionTree', DTC)\n",
        "    ], DTC)"
      ],
      "metadata": {
        "id": "AhNw569tsDkf"
      },
      "execution_count": 109,
      "outputs": []
    },
    {
      "cell_type": "code",
      "source": [
        "stacking_clf.fit(X_train, y_train)"
      ],
      "metadata": {
        "colab": {
          "base_uri": "https://localhost:8080/",
          "height": 163
        },
        "id": "wa9QJ7Gcdig6",
        "outputId": "47e1df94-63d6-411c-d3ba-103116cd6875"
      },
      "execution_count": 110,
      "outputs": [
        {
          "output_type": "execute_result",
          "data": {
            "text/plain": [
              "StackingClassifier(estimators=[('LinearRegression',\n",
              "                                LogisticRegression(max_iter=500,\n",
              "                                                   solver='newton-cholesky')),\n",
              "                               ('KNeighborsRegressor',\n",
              "                                KNeighborsClassifier(n_neighbors=3)),\n",
              "                               ('DecisionTree',\n",
              "                                DecisionTreeClassifier(max_depth=15,\n",
              "                                                       min_samples_leaf=3))],\n",
              "                   final_estimator=DecisionTreeClassifier(max_depth=15,\n",
              "                                                          min_samples_leaf=3))"
            ],
            "text/html": [
              "<style>#sk-container-id-2 {color: black;background-color: white;}#sk-container-id-2 pre{padding: 0;}#sk-container-id-2 div.sk-toggleable {background-color: white;}#sk-container-id-2 label.sk-toggleable__label {cursor: pointer;display: block;width: 100%;margin-bottom: 0;padding: 0.3em;box-sizing: border-box;text-align: center;}#sk-container-id-2 label.sk-toggleable__label-arrow:before {content: \"▸\";float: left;margin-right: 0.25em;color: #696969;}#sk-container-id-2 label.sk-toggleable__label-arrow:hover:before {color: black;}#sk-container-id-2 div.sk-estimator:hover label.sk-toggleable__label-arrow:before {color: black;}#sk-container-id-2 div.sk-toggleable__content {max-height: 0;max-width: 0;overflow: hidden;text-align: left;background-color: #f0f8ff;}#sk-container-id-2 div.sk-toggleable__content pre {margin: 0.2em;color: black;border-radius: 0.25em;background-color: #f0f8ff;}#sk-container-id-2 input.sk-toggleable__control:checked~div.sk-toggleable__content {max-height: 200px;max-width: 100%;overflow: auto;}#sk-container-id-2 input.sk-toggleable__control:checked~label.sk-toggleable__label-arrow:before {content: \"▾\";}#sk-container-id-2 div.sk-estimator input.sk-toggleable__control:checked~label.sk-toggleable__label {background-color: #d4ebff;}#sk-container-id-2 div.sk-label input.sk-toggleable__control:checked~label.sk-toggleable__label {background-color: #d4ebff;}#sk-container-id-2 input.sk-hidden--visually {border: 0;clip: rect(1px 1px 1px 1px);clip: rect(1px, 1px, 1px, 1px);height: 1px;margin: -1px;overflow: hidden;padding: 0;position: absolute;width: 1px;}#sk-container-id-2 div.sk-estimator {font-family: monospace;background-color: #f0f8ff;border: 1px dotted black;border-radius: 0.25em;box-sizing: border-box;margin-bottom: 0.5em;}#sk-container-id-2 div.sk-estimator:hover {background-color: #d4ebff;}#sk-container-id-2 div.sk-parallel-item::after {content: \"\";width: 100%;border-bottom: 1px solid gray;flex-grow: 1;}#sk-container-id-2 div.sk-label:hover label.sk-toggleable__label {background-color: #d4ebff;}#sk-container-id-2 div.sk-serial::before {content: \"\";position: absolute;border-left: 1px solid gray;box-sizing: border-box;top: 0;bottom: 0;left: 50%;z-index: 0;}#sk-container-id-2 div.sk-serial {display: flex;flex-direction: column;align-items: center;background-color: white;padding-right: 0.2em;padding-left: 0.2em;position: relative;}#sk-container-id-2 div.sk-item {position: relative;z-index: 1;}#sk-container-id-2 div.sk-parallel {display: flex;align-items: stretch;justify-content: center;background-color: white;position: relative;}#sk-container-id-2 div.sk-item::before, #sk-container-id-2 div.sk-parallel-item::before {content: \"\";position: absolute;border-left: 1px solid gray;box-sizing: border-box;top: 0;bottom: 0;left: 50%;z-index: -1;}#sk-container-id-2 div.sk-parallel-item {display: flex;flex-direction: column;z-index: 1;position: relative;background-color: white;}#sk-container-id-2 div.sk-parallel-item:first-child::after {align-self: flex-end;width: 50%;}#sk-container-id-2 div.sk-parallel-item:last-child::after {align-self: flex-start;width: 50%;}#sk-container-id-2 div.sk-parallel-item:only-child::after {width: 0;}#sk-container-id-2 div.sk-dashed-wrapped {border: 1px dashed gray;margin: 0 0.4em 0.5em 0.4em;box-sizing: border-box;padding-bottom: 0.4em;background-color: white;}#sk-container-id-2 div.sk-label label {font-family: monospace;font-weight: bold;display: inline-block;line-height: 1.2em;}#sk-container-id-2 div.sk-label-container {text-align: center;}#sk-container-id-2 div.sk-container {/* jupyter's `normalize.less` sets `[hidden] { display: none; }` but bootstrap.min.css set `[hidden] { display: none !important; }` so we also need the `!important` here to be able to override the default hidden behavior on the sphinx rendered scikit-learn.org. See: https://github.com/scikit-learn/scikit-learn/issues/21755 */display: inline-block !important;position: relative;}#sk-container-id-2 div.sk-text-repr-fallback {display: none;}</style><div id=\"sk-container-id-2\" class=\"sk-top-container\"><div class=\"sk-text-repr-fallback\"><pre>StackingClassifier(estimators=[(&#x27;LinearRegression&#x27;,\n",
              "                                LogisticRegression(max_iter=500,\n",
              "                                                   solver=&#x27;newton-cholesky&#x27;)),\n",
              "                               (&#x27;KNeighborsRegressor&#x27;,\n",
              "                                KNeighborsClassifier(n_neighbors=3)),\n",
              "                               (&#x27;DecisionTree&#x27;,\n",
              "                                DecisionTreeClassifier(max_depth=15,\n",
              "                                                       min_samples_leaf=3))],\n",
              "                   final_estimator=DecisionTreeClassifier(max_depth=15,\n",
              "                                                          min_samples_leaf=3))</pre><b>In a Jupyter environment, please rerun this cell to show the HTML representation or trust the notebook. <br />On GitHub, the HTML representation is unable to render, please try loading this page with nbviewer.org.</b></div><div class=\"sk-container\" hidden><div class=\"sk-item sk-dashed-wrapped\"><div class=\"sk-label-container\"><div class=\"sk-label sk-toggleable\"><input class=\"sk-toggleable__control sk-hidden--visually\" id=\"sk-estimator-id-4\" type=\"checkbox\" ><label for=\"sk-estimator-id-4\" class=\"sk-toggleable__label sk-toggleable__label-arrow\">StackingClassifier</label><div class=\"sk-toggleable__content\"><pre>StackingClassifier(estimators=[(&#x27;LinearRegression&#x27;,\n",
              "                                LogisticRegression(max_iter=500,\n",
              "                                                   solver=&#x27;newton-cholesky&#x27;)),\n",
              "                               (&#x27;KNeighborsRegressor&#x27;,\n",
              "                                KNeighborsClassifier(n_neighbors=3)),\n",
              "                               (&#x27;DecisionTree&#x27;,\n",
              "                                DecisionTreeClassifier(max_depth=15,\n",
              "                                                       min_samples_leaf=3))],\n",
              "                   final_estimator=DecisionTreeClassifier(max_depth=15,\n",
              "                                                          min_samples_leaf=3))</pre></div></div></div><div class=\"sk-serial\"><div class=\"sk-item\"><div class=\"sk-parallel\"><div class=\"sk-parallel-item\"><div class=\"sk-item\"><div class=\"sk-label-container\"><div class=\"sk-label sk-toggleable\"><label>LinearRegression</label></div></div><div class=\"sk-serial\"><div class=\"sk-item\"><div class=\"sk-estimator sk-toggleable\"><input class=\"sk-toggleable__control sk-hidden--visually\" id=\"sk-estimator-id-5\" type=\"checkbox\" ><label for=\"sk-estimator-id-5\" class=\"sk-toggleable__label sk-toggleable__label-arrow\">LogisticRegression</label><div class=\"sk-toggleable__content\"><pre>LogisticRegression(max_iter=500, solver=&#x27;newton-cholesky&#x27;)</pre></div></div></div></div></div></div><div class=\"sk-parallel-item\"><div class=\"sk-item\"><div class=\"sk-label-container\"><div class=\"sk-label sk-toggleable\"><label>KNeighborsRegressor</label></div></div><div class=\"sk-serial\"><div class=\"sk-item\"><div class=\"sk-estimator sk-toggleable\"><input class=\"sk-toggleable__control sk-hidden--visually\" id=\"sk-estimator-id-6\" type=\"checkbox\" ><label for=\"sk-estimator-id-6\" class=\"sk-toggleable__label sk-toggleable__label-arrow\">KNeighborsClassifier</label><div class=\"sk-toggleable__content\"><pre>KNeighborsClassifier(n_neighbors=3)</pre></div></div></div></div></div></div><div class=\"sk-parallel-item\"><div class=\"sk-item\"><div class=\"sk-label-container\"><div class=\"sk-label sk-toggleable\"><label>DecisionTree</label></div></div><div class=\"sk-serial\"><div class=\"sk-item\"><div class=\"sk-estimator sk-toggleable\"><input class=\"sk-toggleable__control sk-hidden--visually\" id=\"sk-estimator-id-7\" type=\"checkbox\" ><label for=\"sk-estimator-id-7\" class=\"sk-toggleable__label sk-toggleable__label-arrow\">DecisionTreeClassifier</label><div class=\"sk-toggleable__content\"><pre>DecisionTreeClassifier(max_depth=15, min_samples_leaf=3)</pre></div></div></div></div></div></div></div></div><div class=\"sk-item\"><div class=\"sk-parallel\"><div class=\"sk-parallel-item\"><div class=\"sk-item\"><div class=\"sk-label-container\"><div class=\"sk-label sk-toggleable\"><label>final_estimator</label></div></div><div class=\"sk-serial\"><div class=\"sk-item\"><div class=\"sk-estimator sk-toggleable\"><input class=\"sk-toggleable__control sk-hidden--visually\" id=\"sk-estimator-id-8\" type=\"checkbox\" ><label for=\"sk-estimator-id-8\" class=\"sk-toggleable__label sk-toggleable__label-arrow\">DecisionTreeClassifier</label><div class=\"sk-toggleable__content\"><pre>DecisionTreeClassifier(max_depth=15, min_samples_leaf=3)</pre></div></div></div></div></div></div></div></div></div></div></div></div>"
            ]
          },
          "metadata": {},
          "execution_count": 110
        }
      ]
    },
    {
      "cell_type": "code",
      "source": [
        "y_pred_stacking = stacking_clf.predict(X_test)\n",
        "\n",
        "stacking_acc = accuracy_score(y_pred_stacking, y_test)\n",
        "stacking_f1 = f1_score(y_test, y_pred_stacking, average='binary')\n",
        "stacking_f2 = fbeta_score(y_test, y_pred_stacking, beta=2)\n",
        "print(\"Точность модели (accuracy): \", round(stacking_acc*100, 2), \"%\")\n",
        "print(\"Точность модели (F1-score): \", round(stacking_f1, 3))\n",
        "print(\"Точность модели (F2-score): \", round(stacking_f2, 3))"
      ],
      "metadata": {
        "colab": {
          "base_uri": "https://localhost:8080/"
        },
        "id": "AZyLQ9F4eGgT",
        "outputId": "3ceb8eaf-04ce-42c9-ef22-e681e48b21df"
      },
      "execution_count": 111,
      "outputs": [
        {
          "output_type": "stream",
          "name": "stdout",
          "text": [
            "Точность модели (accuracy):  95.77 %\n",
            "Точность модели (F1-score):  0.958\n",
            "Точность модели (F2-score):  0.963\n"
          ]
        }
      ]
    },
    {
      "cell_type": "markdown",
      "source": [
        "**Вывод:**\n",
        "- с помощью стекинга удалось получить ансамблевую модель с метриками accuracy и f1-score, превосходящими модели RandomForest и XGBoost\n",
        "- при этом метрика f2-score по результатам стекинга аналогична модели Random Forest"
      ],
      "metadata": {
        "id": "Gs_-Wma1e2NA"
      }
    },
    {
      "cell_type": "markdown",
      "source": [
        "## Поиск наилучших гиперпараметров модели RandomForest (RandomizedSearchCV)"
      ],
      "metadata": {
        "id": "nE-E5X4F36r6"
      }
    },
    {
      "cell_type": "code",
      "source": [
        "params = {'max_depth': [7, 12, 16, 20],\n",
        "          'n_estimators': [50, 100, 150],\n",
        "          'max_features': ['int', 'sqrt', 'log2'],\n",
        "          'criterion': ['gini', 'entropy', 'log_loss'],\n",
        "          'min_samples_leaf': [1, 2, 3, 5],\n",
        "          'min_samples_split': [2, 4, 7]\n",
        "         }\n",
        "RFC_random = RandomizedSearchCV(RFC, params, n_iter=300, scoring='f1', n_jobs=-1, cv=3)\n",
        "model_1_random = RFC_random.fit(X,y)"
      ],
      "metadata": {
        "id": "tMuWsl40355M"
      },
      "execution_count": 122,
      "outputs": []
    },
    {
      "cell_type": "code",
      "source": [
        "print(f'Лучшие подобранные гиперпараметры модели RandomForest:  {model_1_random.best_params_}')\n",
        "print(f'F1-score при указанных параметрах:  {round(model_1_random.best_score_, 3)}')"
      ],
      "metadata": {
        "id": "_vkKApMufWQ_",
        "colab": {
          "base_uri": "https://localhost:8080/"
        },
        "outputId": "06d7dc8c-6a16-4e1e-c083-aac3d80e8ebf"
      },
      "execution_count": 123,
      "outputs": [
        {
          "output_type": "stream",
          "name": "stdout",
          "text": [
            "Лучшие подобранные гиперпараметры модели RandomForest:  {'n_estimators': 150, 'min_samples_split': 2, 'min_samples_leaf': 1, 'max_features': 'sqrt', 'max_depth': 20, 'criterion': 'gini'}\n",
            "F1-score при указанных параметрах:  0.974\n"
          ]
        }
      ]
    },
    {
      "cell_type": "code",
      "source": [
        "# обучение модели с подобранными параметрами, оценка комплекса метрик\n",
        "RFC_upd = RandomForestClassifier(n_estimators=150, min_samples_split=2, min_samples_leaf=1, max_features='sqrt', max_depth=20, criterion='gini')\n",
        "RFC_upd.fit(X_train, y_train)\n",
        "y_pred_RFC_upd = RFC_upd.predict(X_test)\n",
        "\n",
        "RFC_upd_acc = accuracy_score(y_pred_RFC_upd, y_test)*100\n",
        "RFC_upd_f1 = f1_score(y_test, y_pred_RFC_upd, average='binary')\n",
        "RFC_upd_f2 = fbeta_score(y_test, y_pred_RFC_upd, beta=2)\n",
        "print(\"Точность модели (accuracy): \", round(RFC_upd_acc, 2), \"%\")\n",
        "print(\"Точность модели (F1-score): \", round(RFC_upd_f1, 3))\n",
        "print(\"Точность модели (F2-score): \", round(RFC_upd_f2, 3))"
      ],
      "metadata": {
        "colab": {
          "base_uri": "https://localhost:8080/"
        },
        "id": "wt_2WBs0CR2R",
        "outputId": "62274b2e-8d06-465a-e936-9a4a839fc2c4"
      },
      "execution_count": 124,
      "outputs": [
        {
          "output_type": "stream",
          "name": "stdout",
          "text": [
            "Точность модели (accuracy):  97.43 %\n",
            "Точность модели (F1-score):  0.975\n",
            "Точность модели (F2-score):  0.99\n"
          ]
        }
      ]
    },
    {
      "cell_type": "code",
      "source": [
        "# Визуализация матрицы ошибок\n",
        "cf_matrix = confusion_matrix(y_test, y_pred_RFC_upd)\n",
        "plt.rcParams['figure.figsize'] = (6,5)\n",
        "ax = sns.heatmap(cf_matrix/np.sum(cf_matrix), annot=True,\n",
        "            fmt='.1%', cmap='Blues')\n",
        "ax.set_title('Матрица ошибок\\n\\n');\n",
        "ax.set_xlabel('\\nПредсказанные значения')\n",
        "ax.set_ylabel('Фактические значения')\n",
        "ax.xaxis.set_ticklabels(['False','True'])\n",
        "ax.yaxis.set_ticklabels(['False','True'])"
      ],
      "metadata": {
        "colab": {
          "base_uri": "https://localhost:8080/",
          "height": 576
        },
        "id": "r_mHXLhkUHFY",
        "outputId": "f718ce38-a0f0-487c-c596-7f907bf61693"
      },
      "execution_count": 125,
      "outputs": [
        {
          "output_type": "execute_result",
          "data": {
            "text/plain": [
              "[Text(0, 0.5, 'False'), Text(0, 1.5, 'True')]"
            ]
          },
          "metadata": {},
          "execution_count": 125
        },
        {
          "output_type": "display_data",
          "data": {
            "text/plain": [
              "<Figure size 600x500 with 2 Axes>"
            ],
            "image/png": "[encoded data removed]"
          },
          "metadata": {}
        }
      ]
    },
    {
      "cell_type": "code",
      "source": [
        "print(classification_report(y_test, y_pred_RFC_upd))"
      ],
      "metadata": {
        "colab": {
          "base_uri": "https://localhost:8080/"
        },
        "id": "Yc_RHkjQUHNZ",
        "outputId": "c2ae0333-d644-478b-d7cf-094eebd0c27a"
      },
      "execution_count": 126,
      "outputs": [
        {
          "output_type": "stream",
          "name": "stdout",
          "text": [
            "              precision    recall  f1-score   support\n",
            "\n",
            "           0       1.00      0.95      0.97       931\n",
            "           1       0.95      1.00      0.97       935\n",
            "\n",
            "    accuracy                           0.97      1866\n",
            "   macro avg       0.98      0.97      0.97      1866\n",
            "weighted avg       0.98      0.97      0.97      1866\n",
            "\n"
          ]
        }
      ]
    },
    {
      "cell_type": "code",
      "source": [
        "results = model_selection.cross_val_score(RFC_upd, X_train, y_train, cv=7, scoring='accuracy')\n",
        "RFC_upd_cv_acc = round(results.mean()* 100, 1)\n",
        "print(f'Accuracy при кросс-валидации на 7 фолдах:  {RFC_upd_cv_acc} %')\n",
        "\n",
        "results = model_selection.cross_val_score(RFC_upd, X_train, y_train, cv=7, scoring='f1')\n",
        "RFC_upd_f1_cv = round(results.mean(), 3)\n",
        "print(f'F1 при кросс-валидации на 7 фолдах:  {RFC_upd_f1_cv}')"
      ],
      "metadata": {
        "colab": {
          "base_uri": "https://localhost:8080/"
        },
        "id": "Qzf14_wlUPa2",
        "outputId": "d1e808ce-6522-4fd2-f3ab-dc9ecade7181"
      },
      "execution_count": 129,
      "outputs": [
        {
          "output_type": "stream",
          "name": "stdout",
          "text": [
            "Accuracy при кросс-валидации на 7 фолдах:  97.2 %\n",
            "F1 при кросс-валидации на 7 фолдах:  0.971\n"
          ]
        }
      ]
    },
    {
      "cell_type": "code",
      "source": [
        "RFC_upd_roc_auc = roc_auc_score(y_test, RFC_upd.predict(X_test))\n",
        "fpr, tpr, thresholds = roc_curve(y_test, RFC_upd.predict_proba(X_test)[:,1])\n",
        "plt.figure()\n",
        "plt.plot(fpr, tpr, label=f'ROC area = {round(RFC_upd_roc_auc, 2)}', color='red')\n",
        "plt.plot([0, 1], [0, 1], 'b--')\n",
        "plt.xlim([0.0, 1.0])\n",
        "plt.ylim([0.0, 1.0])\n",
        "plt.xlabel('FPR')\n",
        "plt.ylabel('TPR')\n",
        "plt.title('RFC (tuned) ROC')\n",
        "plt.legend(loc=\"lower right\")\n",
        "plt.show()"
      ],
      "metadata": {
        "colab": {
          "base_uri": "https://localhost:8080/",
          "height": 496
        },
        "id": "NuuHzDlfUPdS",
        "outputId": "992e0d76-9223-4a24-b747-1d3b412d2526"
      },
      "execution_count": 130,
      "outputs": [
        {
          "output_type": "display_data",
          "data": {
            "text/plain": [
              "<Figure size 600x500 with 1 Axes>"
            ],
            "image/png": "[encoded data removed]"
          },
          "metadata": {}
        }
      ]
    },
    {
      "cell_type": "markdown",
      "source": [
        "## Нейронная сеть"
      ],
      "metadata": {
        "id": "1VQ6tN_a0TNm"
      }
    },
    {
      "cell_type": "code",
      "source": [
        "X_train = torch.FloatTensor(X_train)\n",
        "X_test = torch.FloatTensor(X_test)\n",
        "y_train = torch.LongTensor(y_train)\n",
        "y_test = torch.LongTensor(y_test.to_numpy())"
      ],
      "metadata": {
        "id": "Xomo7A3tsDm2"
      },
      "execution_count": 131,
      "outputs": []
    },
    {
      "cell_type": "code",
      "source": [
        "class NeuralNet(nn.Module):\n",
        "\n",
        "    def __init__(self, in_features=27, out_features=2):\n",
        "        super().__init__()\n",
        "        self.fc1 = nn.Linear(in_features=in_features,\n",
        "                             out_features=108)\n",
        "        self.fc2 = nn.Linear(in_features=108,\n",
        "                             out_features=54)\n",
        "        self.fc3 = nn.Linear(in_features=54,\n",
        "                             out_features=out_features)\n",
        "\n",
        "    def forward(self, X):\n",
        "        X = F.relu(self.fc1(X))\n",
        "        X = F.relu(self.fc2(X))\n",
        "        return self.fc3(X)"
      ],
      "metadata": {
        "id": "7Jdp_p3WfW8G"
      },
      "execution_count": 136,
      "outputs": []
    },
    {
      "cell_type": "code",
      "source": [
        "model = NeuralNet()"
      ],
      "metadata": {
        "id": "HAtZAcxmsDpN"
      },
      "execution_count": 137,
      "outputs": []
    },
    {
      "cell_type": "code",
      "source": [
        "criterion = nn.CrossEntropyLoss()\n",
        "optimizer = torch.optim.Adam(model.parameters(), lr=0.01)"
      ],
      "metadata": {
        "id": "-DquVV67Jlt4"
      },
      "execution_count": 138,
      "outputs": []
    },
    {
      "cell_type": "code",
      "source": [
        "epochs = 300\n",
        "losses = []\n",
        "for i in range(epochs):\n",
        "    i += 1\n",
        "\n",
        "    y_pred = model(X_train)\n",
        "    loss = criterion(y_pred, y_train)\n",
        "\n",
        "    losses.append(loss)\n",
        "\n",
        "    if i % 10 == 0:\n",
        "        print(f'epoch: {i} -> loss: {loss}')\n",
        "\n",
        "    optimizer.zero_grad()\n",
        "    loss.backward()\n",
        "    optimizer.step()"
      ],
      "metadata": {
        "colab": {
          "base_uri": "https://localhost:8080/"
        },
        "id": "TD-8Wkn8JlwZ",
        "outputId": "049f8b82-eae2-4e2c-ec72-1bca933d2407"
      },
      "execution_count": 141,
      "outputs": [
        {
          "output_type": "stream",
          "name": "stdout",
          "text": [
            "epoch: 10 -> loss: 0.17300157248973846\n",
            "epoch: 20 -> loss: 0.166652113199234\n",
            "epoch: 30 -> loss: 0.1615114063024521\n",
            "epoch: 40 -> loss: 0.15701055526733398\n",
            "epoch: 50 -> loss: 0.1532168984413147\n",
            "epoch: 60 -> loss: 0.14936399459838867\n",
            "epoch: 70 -> loss: 0.1462041735649109\n",
            "epoch: 80 -> loss: 0.14287516474723816\n",
            "epoch: 90 -> loss: 0.13932321965694427\n",
            "epoch: 100 -> loss: 0.13583216071128845\n",
            "epoch: 110 -> loss: 0.13223648071289062\n",
            "epoch: 120 -> loss: 0.1285632848739624\n",
            "epoch: 130 -> loss: 0.1250116527080536\n",
            "epoch: 140 -> loss: 0.12221654504537582\n",
            "epoch: 150 -> loss: 0.11826231330633163\n",
            "epoch: 160 -> loss: 0.11843130737543106\n",
            "epoch: 170 -> loss: 0.11247020959854126\n",
            "epoch: 180 -> loss: 0.11522282660007477\n",
            "epoch: 190 -> loss: 0.1107974499464035\n",
            "epoch: 200 -> loss: 0.11306969821453094\n",
            "epoch: 210 -> loss: 0.11161033064126968\n",
            "epoch: 220 -> loss: 0.10894352942705154\n",
            "epoch: 230 -> loss: 0.10439352691173553\n",
            "epoch: 240 -> loss: 0.10417331010103226\n",
            "epoch: 250 -> loss: 0.11116980016231537\n",
            "epoch: 260 -> loss: 0.09923218190670013\n",
            "epoch: 270 -> loss: 0.10222038626670837\n",
            "epoch: 280 -> loss: 0.09676999598741531\n",
            "epoch: 290 -> loss: 0.09595968574285507\n",
            "epoch: 300 -> loss: 0.10541129112243652\n"
          ]
        }
      ]
    },
    {
      "cell_type": "code",
      "source": [
        "with torch.no_grad():\n",
        "\n",
        "    y_pred = model(X_test)\n",
        "    preds = torch.max(y_pred, dim=1)[1]\n",
        "    correct = (preds == y_test).sum()\n",
        "    accuracy_nn = correct.item() / y_test.shape[0] * 100\n",
        "\n",
        "print(\"Точность модели (accuracy): \", round(accuracy_nn, 2), \"%\")"
      ],
      "metadata": {
        "colab": {
          "base_uri": "https://localhost:8080/"
        },
        "id": "ClBbZLEDJl1G",
        "outputId": "bbd3ff1f-0524-4cf6-ab8b-a97fae2b8769"
      },
      "execution_count": 142,
      "outputs": [
        {
          "output_type": "stream",
          "name": "stdout",
          "text": [
            "Точность модели (accuracy):  91.75 %\n"
          ]
        }
      ]
    },
    {
      "cell_type": "code",
      "source": [
        "with torch.no_grad():\n",
        "\n",
        "    y_pred = model(X_test)\n",
        "    preds = torch.max(y_pred, dim=1)[1]\n",
        "    TP = ((preds == y_test)&(y_test == 1)).sum()\n",
        "    FP = ((preds != y_test)&(y_test == 0)).sum()\n",
        "    precision = TP / (TP + FP)\n",
        "    FN = ((preds != y_test)&(y_test == 1)).sum()\n",
        "    recall = TP / (TP + FN)\n",
        "    F1_nn = float(2*precision*recall / (precision + recall))\n",
        "    F2_nn = float(5*precision*recall / (4*precision + recall))\n",
        "\n",
        "print(\"Точность модели (F1-score): \", round(F1_nn, 3))\n",
        "print(\"Точность модели (F2-score): \", round(F2_nn, 3))"
      ],
      "metadata": {
        "colab": {
          "base_uri": "https://localhost:8080/"
        },
        "id": "yd17eomsKNVn",
        "outputId": "e4658bce-d853-44b7-ff2a-fe163dfd7593"
      },
      "execution_count": 143,
      "outputs": [
        {
          "output_type": "stream",
          "name": "stdout",
          "text": [
            "Точность модели (F1-score):  0.922\n",
            "Точность модели (F2-score):  0.951\n"
          ]
        }
      ]
    },
    {
      "cell_type": "markdown",
      "source": [
        "## ВЫВОДЫ"
      ],
      "metadata": {
        "id": "RXUDro9z-cof"
      }
    },
    {
      "cell_type": "code",
      "source": [
        "# создание дополненного итогового датафрейма с показателями точности моделей\n",
        "df_models_acc = pd.DataFrame([lr_cv_acc, SVC_cv_acc, KNN_cv_acc, DTC_cv_acc, RFC_cv_acc, xgb_cv_acc, bag_knn_acc*100,stacking_acc*100, RFC_upd_cv_acc, accuracy_nn], columns=['Accuracy (%)'])\n",
        "df_models_f1 = pd.DataFrame([lr_f1_cv, SVC_f1_cv, KNN_f1_cv, DTC_f1_cv, RFC_f1_cv, xgb_f1_cv, bag_knn_f1, stacking_f1, RFC_upd_f1_cv, F1_nn], columns=['F1-score'])\n",
        "df_models_f5 = pd.DataFrame([lr_f2, SVC_f2, KNN_f2, DTC_f2, RFC_f2, xgb_f2, bag_knn_f2, stacking_f2, RFC_upd_f2, F2_nn], columns=['F2-score'])\n",
        "df_models_names = pd.DataFrame(['Logistic regression', 'SVM', 'KNN', 'Decision tree', 'Random Forest', 'XGBoost', 'KNN (bagging)', 'LR+KNN+DTree (Stacking)', 'Random Forest (tuned)', 'Neural network'], columns=['Модель'])\n",
        "df_comparison = pd.concat([df_models_names, df_models_acc, df_models_f1, df_models_f5], axis=1).sort_values(by='F1-score', ascending=False)\n",
        "\n",
        "df_comparison.style.bar(cmap='Greens', align='mid', vmin=0., vmax=1.).hide_index()"
      ],
      "metadata": {
        "colab": {
          "base_uri": "https://localhost:8080/",
          "height": 363
        },
        "id": "oPSmJOROHFBA",
        "outputId": "d1f32b47-e6c8-4822-8e9d-842756980a19"
      },
      "execution_count": 167,
      "outputs": [
        {
          "output_type": "execute_result",
          "data": {
            "text/plain": [
              "<pandas.io.formats.style.Styler at 0x7f20f84fbfd0>"
            ],
            "text/html": [
              "<style type=\"text/css\">\n",
              "#T_96e6d_row0_col1, #T_96e6d_row1_col1, #T_96e6d_row2_col1, #T_96e6d_row3_col1, #T_96e6d_row4_col1, #T_96e6d_row5_col1, #T_96e6d_row6_col1, #T_96e6d_row7_col1, #T_96e6d_row8_col1, #T_96e6d_row9_col1 {\n",
              "  width: 10em;\n",
              "  background: linear-gradient(90deg, #00441b 100.0%, transparent 100.0%);\n",
              "}\n",
              "#T_96e6d_row0_col2 {\n",
              "  width: 10em;\n",
              "  background: linear-gradient(90deg, #004d1f 97.1%, transparent 97.1%);\n",
              "}\n",
              "#T_96e6d_row0_col3 {\n",
              "  width: 10em;\n",
              "  background: linear-gradient(90deg, #00471c 99.0%, transparent 99.0%);\n",
              "}\n",
              "#T_96e6d_row1_col2, #T_96e6d_row7_col3 {\n",
              "  width: 10em;\n",
              "  background: linear-gradient(90deg, #005120 95.8%, transparent 95.8%);\n",
              "}\n",
              "#T_96e6d_row1_col3 {\n",
              "  width: 10em;\n",
              "  background: linear-gradient(90deg, #005020 96.3%, transparent 96.3%);\n",
              "}\n",
              "#T_96e6d_row2_col2 {\n",
              "  width: 10em;\n",
              "  background: linear-gradient(90deg, #005a24 93.0%, transparent 93.0%);\n",
              "}\n",
              "#T_96e6d_row2_col3 {\n",
              "  width: 10em;\n",
              "  background: linear-gradient(90deg, #005321 95.2%, transparent 95.2%);\n",
              "}\n",
              "#T_96e6d_row3_col2 {\n",
              "  width: 10em;\n",
              "  background: linear-gradient(90deg, #005b25 92.6%, transparent 92.6%);\n",
              "}\n",
              "#T_96e6d_row3_col3 {\n",
              "  width: 10em;\n",
              "  background: linear-gradient(90deg, #005020 96.4%, transparent 96.4%);\n",
              "}\n",
              "#T_96e6d_row4_col2 {\n",
              "  width: 10em;\n",
              "  background: linear-gradient(90deg, #005e26 92.2%, transparent 92.2%);\n",
              "}\n",
              "#T_96e6d_row4_col3 {\n",
              "  width: 10em;\n",
              "  background: linear-gradient(90deg, #005321 95.1%, transparent 95.1%);\n",
              "}\n",
              "#T_96e6d_row5_col2 {\n",
              "  width: 10em;\n",
              "  background: linear-gradient(90deg, #006428 90.2%, transparent 90.2%);\n",
              "}\n",
              "#T_96e6d_row5_col3 {\n",
              "  width: 10em;\n",
              "  background: linear-gradient(90deg, #005120 96.0%, transparent 96.0%);\n",
              "}\n",
              "#T_96e6d_row6_col2 {\n",
              "  width: 10em;\n",
              "  background: linear-gradient(90deg, #006428 90.1%, transparent 90.1%);\n",
              "}\n",
              "#T_96e6d_row6_col3 {\n",
              "  width: 10em;\n",
              "  background: linear-gradient(90deg, #005221 95.4%, transparent 95.4%);\n",
              "}\n",
              "#T_96e6d_row7_col2 {\n",
              "  width: 10em;\n",
              "  background: linear-gradient(90deg, #006529 89.5%, transparent 89.5%);\n",
              "}\n",
              "#T_96e6d_row8_col2 {\n",
              "  width: 10em;\n",
              "  background: linear-gradient(90deg, #117b38 81.3%, transparent 81.3%);\n",
              "}\n",
              "#T_96e6d_row8_col3 {\n",
              "  width: 10em;\n",
              "  background: linear-gradient(90deg, #0a7633 83.9%, transparent 83.9%);\n",
              "}\n",
              "#T_96e6d_row9_col2 {\n",
              "  width: 10em;\n",
              "  background: linear-gradient(90deg, #349d53 67.7%, transparent 67.7%);\n",
              "}\n",
              "#T_96e6d_row9_col3 {\n",
              "  width: 10em;\n",
              "  background: linear-gradient(90deg, #329b51 68.4%, transparent 68.4%);\n",
              "}\n",
              "</style>\n",
              "<table id=\"T_96e6d\" class=\"dataframe\">\n",
              "  <thead>\n",
              "    <tr>\n",
              "      <th id=\"T_96e6d_level0_col0\" class=\"col_heading level0 col0\" >Модель</th>\n",
              "      <th id=\"T_96e6d_level0_col1\" class=\"col_heading level0 col1\" >Accuracy (%)</th>\n",
              "      <th id=\"T_96e6d_level0_col2\" class=\"col_heading level0 col2\" >F1-score</th>\n",
              "      <th id=\"T_96e6d_level0_col3\" class=\"col_heading level0 col3\" >F2-score</th>\n",
              "    </tr>\n",
              "  </thead>\n",
              "  <tbody>\n",
              "    <tr>\n",
              "      <td id=\"T_96e6d_row0_col0\" class=\"data row0 col0\" >Random Forest (tuned)</td>\n",
              "      <td id=\"T_96e6d_row0_col1\" class=\"data row0 col1\" >97.200000</td>\n",
              "      <td id=\"T_96e6d_row0_col2\" class=\"data row0 col2\" >0.971000</td>\n",
              "      <td id=\"T_96e6d_row0_col3\" class=\"data row0 col3\" >0.989837</td>\n",
              "    </tr>\n",
              "    <tr>\n",
              "      <td id=\"T_96e6d_row1_col0\" class=\"data row1 col0\" >LR+KNN+DTree (Stacking)</td>\n",
              "      <td id=\"T_96e6d_row1_col1\" class=\"data row1 col1\" >95.766345</td>\n",
              "      <td id=\"T_96e6d_row1_col2\" class=\"data row1 col2\" >0.958135</td>\n",
              "      <td id=\"T_96e6d_row1_col3\" class=\"data row1 col3\" >0.963342</td>\n",
              "    </tr>\n",
              "    <tr>\n",
              "      <td id=\"T_96e6d_row2_col0\" class=\"data row2 col0\" >XGBoost</td>\n",
              "      <td id=\"T_96e6d_row2_col1\" class=\"data row2 col1\" >92.700000</td>\n",
              "      <td id=\"T_96e6d_row2_col2\" class=\"data row2 col2\" >0.930000</td>\n",
              "      <td id=\"T_96e6d_row2_col3\" class=\"data row2 col3\" >0.952181</td>\n",
              "    </tr>\n",
              "    <tr>\n",
              "      <td id=\"T_96e6d_row3_col0\" class=\"data row3 col0\" >Random Forest</td>\n",
              "      <td id=\"T_96e6d_row3_col1\" class=\"data row3 col1\" >92.300000</td>\n",
              "      <td id=\"T_96e6d_row3_col2\" class=\"data row3 col2\" >0.926000</td>\n",
              "      <td id=\"T_96e6d_row3_col3\" class=\"data row3 col3\" >0.964248</td>\n",
              "    </tr>\n",
              "    <tr>\n",
              "      <td id=\"T_96e6d_row4_col0\" class=\"data row4 col0\" >Neural network</td>\n",
              "      <td id=\"T_96e6d_row4_col1\" class=\"data row4 col1\" >91.747053</td>\n",
              "      <td id=\"T_96e6d_row4_col2\" class=\"data row4 col2\" >0.921827</td>\n",
              "      <td id=\"T_96e6d_row4_col3\" class=\"data row4 col3\" >0.950785</td>\n",
              "    </tr>\n",
              "    <tr>\n",
              "      <td id=\"T_96e6d_row5_col0\" class=\"data row5 col0\" >Decision tree</td>\n",
              "      <td id=\"T_96e6d_row5_col1\" class=\"data row5 col1\" >90.000000</td>\n",
              "      <td id=\"T_96e6d_row5_col2\" class=\"data row5 col2\" >0.902000</td>\n",
              "      <td id=\"T_96e6d_row5_col3\" class=\"data row5 col3\" >0.959950</td>\n",
              "    </tr>\n",
              "    <tr>\n",
              "      <td id=\"T_96e6d_row6_col0\" class=\"data row6 col0\" >KNN (bagging)</td>\n",
              "      <td id=\"T_96e6d_row6_col1\" class=\"data row6 col1\" >89.013934</td>\n",
              "      <td id=\"T_96e6d_row6_col2\" class=\"data row6 col2\" >0.900534</td>\n",
              "      <td id=\"T_96e6d_row6_col3\" class=\"data row6 col3\" >0.953555</td>\n",
              "    </tr>\n",
              "    <tr>\n",
              "      <td id=\"T_96e6d_row7_col0\" class=\"data row7 col0\" >KNN</td>\n",
              "      <td id=\"T_96e6d_row7_col1\" class=\"data row7 col1\" >88.400000</td>\n",
              "      <td id=\"T_96e6d_row7_col2\" class=\"data row7 col2\" >0.895000</td>\n",
              "      <td id=\"T_96e6d_row7_col3\" class=\"data row7 col3\" >0.957512</td>\n",
              "    </tr>\n",
              "    <tr>\n",
              "      <td id=\"T_96e6d_row8_col0\" class=\"data row8 col0\" >SVM</td>\n",
              "      <td id=\"T_96e6d_row8_col1\" class=\"data row8 col1\" >80.200000</td>\n",
              "      <td id=\"T_96e6d_row8_col2\" class=\"data row8 col2\" >0.813000</td>\n",
              "      <td id=\"T_96e6d_row8_col3\" class=\"data row8 col3\" >0.838522</td>\n",
              "    </tr>\n",
              "    <tr>\n",
              "      <td id=\"T_96e6d_row9_col0\" class=\"data row9 col0\" >Logistic regression</td>\n",
              "      <td id=\"T_96e6d_row9_col1\" class=\"data row9 col1\" >67.600000</td>\n",
              "      <td id=\"T_96e6d_row9_col2\" class=\"data row9 col2\" >0.677000</td>\n",
              "      <td id=\"T_96e6d_row9_col3\" class=\"data row9 col3\" >0.683606</td>\n",
              "    </tr>\n",
              "  </tbody>\n",
              "</table>\n"
            ]
          },
          "metadata": {},
          "execution_count": 167
        }
      ]
    },
    {
      "cell_type": "markdown",
      "source": [
        "По итогам исследования:\n",
        "- наилучшие метрики получены на модели Random Forest (с подобранными оптимальными гиперпараметрами)\n",
        "- все 3 метрики указанной модели - выше 0.97\n",
        "- при оценке метрик учитывалась бизнес-задача с минимизацией ложно положительных предсказаний (F2-score)\n",
        "- относительно высокие метрики - также у моделей XGBoost, DecisionTree, KNN и полносвязной нейронной сети, а также по результатам беггинга и стекинга\n",
        "- метрики моделей Логистической регрессии и Опорных векторов - неудовлетворительные (что, вероятно, частично обусловлено примененным методом масштабирования данных - нормализация)"
      ],
      "metadata": {
        "id": "b_eTM4JB-hgV"
      }
    }
  ],
  "metadata": {
    "colab": {
      "provenance": []
    },
    "kernelspec": {
      "display_name": "Python 3",
      "name": "python3"
    },
    "language_info": {
      "name": "python"
    }
  },
  "nbformat": 4,
  "nbformat_minor": 0
}